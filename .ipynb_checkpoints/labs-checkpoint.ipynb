{
 "cells": [
  {
   "cell_type": "markdown",
   "metadata": {},
   "source": [
    "# ALS Project\n",
    "\n",
    "## Labs\n",
    "- multi-subject\n",
    "- make this tidy"
   ]
  },
  {
   "cell_type": "code",
   "execution_count": 196,
   "metadata": {},
   "outputs": [],
   "source": [
    "import numpy as np\n",
    "import pandas as pd\n",
    "import matplotlib.pyplot as plt\n",
    "import seaborn as sn\n",
    "from functools import reduce"
   ]
  },
  {
   "cell_type": "code",
   "execution_count": 15,
   "metadata": {},
   "outputs": [],
   "source": [
    "def make_lower(val):\n",
    "    w=val.lower()\n",
    "    return w"
   ]
  },
  {
   "cell_type": "code",
   "execution_count": 118,
   "metadata": {},
   "outputs": [],
   "source": [
    "#load original csv file\n",
    "labs = pd.read_csv(\"data/Labs.csv\")"
   ]
  },
  {
   "cell_type": "code",
   "execution_count": 119,
   "metadata": {},
   "outputs": [
    {
     "data": {
      "text/html": [
       "<div>\n",
       "<style scoped>\n",
       "    .dataframe tbody tr th:only-of-type {\n",
       "        vertical-align: middle;\n",
       "    }\n",
       "\n",
       "    .dataframe tbody tr th {\n",
       "        vertical-align: top;\n",
       "    }\n",
       "\n",
       "    .dataframe thead th {\n",
       "        text-align: right;\n",
       "    }\n",
       "</style>\n",
       "<table border=\"1\" class=\"dataframe\">\n",
       "  <thead>\n",
       "    <tr style=\"text-align: right;\">\n",
       "      <th></th>\n",
       "      <th>subject_id</th>\n",
       "      <th>Test_Name</th>\n",
       "      <th>Test_Result</th>\n",
       "      <th>Test_Unit</th>\n",
       "      <th>Laboratory_Delta</th>\n",
       "    </tr>\n",
       "  </thead>\n",
       "  <tbody>\n",
       "    <tr>\n",
       "      <th>0</th>\n",
       "      <td>329</td>\n",
       "      <td>Hemoglobin</td>\n",
       "      <td>130</td>\n",
       "      <td>g/L</td>\n",
       "      <td>0.0</td>\n",
       "    </tr>\n",
       "    <tr>\n",
       "      <th>1</th>\n",
       "      <td>329</td>\n",
       "      <td>Urine Color</td>\n",
       "      <td>YELLOW</td>\n",
       "      <td>NaN</td>\n",
       "      <td>0.0</td>\n",
       "    </tr>\n",
       "    <tr>\n",
       "      <th>2</th>\n",
       "      <td>329</td>\n",
       "      <td>Uric Acid</td>\n",
       "      <td>237.92</td>\n",
       "      <td>umol/L</td>\n",
       "      <td>0.0</td>\n",
       "    </tr>\n",
       "    <tr>\n",
       "      <th>3</th>\n",
       "      <td>329</td>\n",
       "      <td>ALPHA2-GLOBULIN</td>\n",
       "      <td>1</td>\n",
       "      <td>g/dL</td>\n",
       "      <td>0.0</td>\n",
       "    </tr>\n",
       "    <tr>\n",
       "      <th>4</th>\n",
       "      <td>329</td>\n",
       "      <td>Sodium</td>\n",
       "      <td>138</td>\n",
       "      <td>mmol/L</td>\n",
       "      <td>0.0</td>\n",
       "    </tr>\n",
       "  </tbody>\n",
       "</table>\n",
       "</div>"
      ],
      "text/plain": [
       "   subject_id        Test_Name Test_Result Test_Unit  Laboratory_Delta\n",
       "0         329       Hemoglobin         130       g/L               0.0\n",
       "1         329      Urine Color      YELLOW       NaN               0.0\n",
       "2         329        Uric Acid      237.92    umol/L               0.0\n",
       "3         329  ALPHA2-GLOBULIN           1      g/dL               0.0\n",
       "4         329           Sodium         138    mmol/L               0.0"
      ]
     },
     "execution_count": 119,
     "metadata": {},
     "output_type": "execute_result"
    }
   ],
   "source": [
    "labs.head()"
   ]
  },
  {
   "cell_type": "code",
   "execution_count": 120,
   "metadata": {},
   "outputs": [],
   "source": [
    "labs['study_day'] = labs[\"Laboratory_Delta\"]\n",
    "labs.drop(\"Laboratory_Delta\", axis=1, inplace=True)"
   ]
  },
  {
   "cell_type": "code",
   "execution_count": 121,
   "metadata": {},
   "outputs": [
    {
     "name": "stdout",
     "output_type": "stream",
     "text": [
      "(2445059, 5)\n"
     ]
    },
    {
     "data": {
      "text/html": [
       "<div>\n",
       "<style scoped>\n",
       "    .dataframe tbody tr th:only-of-type {\n",
       "        vertical-align: middle;\n",
       "    }\n",
       "\n",
       "    .dataframe tbody tr th {\n",
       "        vertical-align: top;\n",
       "    }\n",
       "\n",
       "    .dataframe thead th {\n",
       "        text-align: right;\n",
       "    }\n",
       "</style>\n",
       "<table border=\"1\" class=\"dataframe\">\n",
       "  <thead>\n",
       "    <tr style=\"text-align: right;\">\n",
       "      <th></th>\n",
       "      <th>subject_id</th>\n",
       "      <th>Test_Name</th>\n",
       "      <th>Test_Result</th>\n",
       "      <th>Test_Unit</th>\n",
       "      <th>study_day</th>\n",
       "    </tr>\n",
       "  </thead>\n",
       "  <tbody>\n",
       "    <tr>\n",
       "      <th>0</th>\n",
       "      <td>329</td>\n",
       "      <td>Hemoglobin</td>\n",
       "      <td>130</td>\n",
       "      <td>g/L</td>\n",
       "      <td>0.0</td>\n",
       "    </tr>\n",
       "    <tr>\n",
       "      <th>1</th>\n",
       "      <td>329</td>\n",
       "      <td>Urine Color</td>\n",
       "      <td>YELLOW</td>\n",
       "      <td>NaN</td>\n",
       "      <td>0.0</td>\n",
       "    </tr>\n",
       "    <tr>\n",
       "      <th>2</th>\n",
       "      <td>329</td>\n",
       "      <td>Uric Acid</td>\n",
       "      <td>237.92</td>\n",
       "      <td>umol/L</td>\n",
       "      <td>0.0</td>\n",
       "    </tr>\n",
       "    <tr>\n",
       "      <th>3</th>\n",
       "      <td>329</td>\n",
       "      <td>ALPHA2-GLOBULIN</td>\n",
       "      <td>1</td>\n",
       "      <td>g/dL</td>\n",
       "      <td>0.0</td>\n",
       "    </tr>\n",
       "    <tr>\n",
       "      <th>4</th>\n",
       "      <td>329</td>\n",
       "      <td>Sodium</td>\n",
       "      <td>138</td>\n",
       "      <td>mmol/L</td>\n",
       "      <td>0.0</td>\n",
       "    </tr>\n",
       "  </tbody>\n",
       "</table>\n",
       "</div>"
      ],
      "text/plain": [
       "   subject_id        Test_Name Test_Result Test_Unit  study_day\n",
       "0         329       Hemoglobin         130       g/L        0.0\n",
       "1         329      Urine Color      YELLOW       NaN        0.0\n",
       "2         329        Uric Acid      237.92    umol/L        0.0\n",
       "3         329  ALPHA2-GLOBULIN           1      g/dL        0.0\n",
       "4         329           Sodium         138    mmol/L        0.0"
      ]
     },
     "execution_count": 121,
     "metadata": {},
     "output_type": "execute_result"
    }
   ],
   "source": [
    "print(labs.shape)\n",
    "labs.head()"
   ]
  },
  {
   "cell_type": "code",
   "execution_count": 122,
   "metadata": {},
   "outputs": [],
   "source": [
    "# make lowercase location column\n",
    "labs['test_name'] = labs['Test_Name'].apply(make_lower)"
   ]
  },
  {
   "cell_type": "code",
   "execution_count": 123,
   "metadata": {},
   "outputs": [],
   "source": [
    "# what do test look like?\n",
    "#sorted(list(labs['test_name'].unique()))"
   ]
  },
  {
   "cell_type": "code",
   "execution_count": 124,
   "metadata": {},
   "outputs": [],
   "source": [
    "# what are the common lab tests?\n",
    "tests = labs['test_name'].value_counts(ascending=True)\n",
    "x = tests[tests<100]"
   ]
  },
  {
   "cell_type": "code",
   "execution_count": null,
   "metadata": {},
   "outputs": [],
   "source": []
  },
  {
   "cell_type": "code",
   "execution_count": 125,
   "metadata": {},
   "outputs": [
    {
     "data": {
      "text/plain": [
       "93"
      ]
     },
     "execution_count": 125,
     "metadata": {},
     "output_type": "execute_result"
    }
   ],
   "source": [
    "len(x) # number of tests less than 100"
   ]
  },
  {
   "cell_type": "code",
   "execution_count": 126,
   "metadata": {},
   "outputs": [
    {
     "data": {
      "text/plain": [
       "222"
      ]
     },
     "execution_count": 126,
     "metadata": {},
     "output_type": "execute_result"
    }
   ],
   "source": [
    "len(tests) # total number of tests"
   ]
  },
  {
   "cell_type": "code",
   "execution_count": 127,
   "metadata": {},
   "outputs": [],
   "source": [
    "#list(x.index)  # see which tests are too uncommon"
   ]
  },
  {
   "cell_type": "code",
   "execution_count": 128,
   "metadata": {},
   "outputs": [],
   "source": [
    "# get rid of any tests where less than 100 values exist.\n",
    "labs = labs[ ~labs['test_name'].isin(list(x.index))]"
   ]
  },
  {
   "cell_type": "code",
   "execution_count": 129,
   "metadata": {},
   "outputs": [],
   "source": [
    "# check few tests gone from dataset = yes\n",
    "#labs['test_name'].value_counts(ascending=True)"
   ]
  },
  {
   "cell_type": "code",
   "execution_count": 134,
   "metadata": {},
   "outputs": [
    {
     "data": {
      "text/html": [
       "<div>\n",
       "<style scoped>\n",
       "    .dataframe tbody tr th:only-of-type {\n",
       "        vertical-align: middle;\n",
       "    }\n",
       "\n",
       "    .dataframe tbody tr th {\n",
       "        vertical-align: top;\n",
       "    }\n",
       "\n",
       "    .dataframe thead th {\n",
       "        text-align: right;\n",
       "    }\n",
       "</style>\n",
       "<table border=\"1\" class=\"dataframe\">\n",
       "  <thead>\n",
       "    <tr style=\"text-align: right;\">\n",
       "      <th></th>\n",
       "      <th>subject_id</th>\n",
       "      <th>Test_Name</th>\n",
       "      <th>Test_Result</th>\n",
       "      <th>Test_Unit</th>\n",
       "      <th>study_day</th>\n",
       "      <th>test_name</th>\n",
       "    </tr>\n",
       "  </thead>\n",
       "  <tbody>\n",
       "    <tr>\n",
       "      <th>0</th>\n",
       "      <td>329</td>\n",
       "      <td>Hemoglobin</td>\n",
       "      <td>130</td>\n",
       "      <td>g/L</td>\n",
       "      <td>0.0</td>\n",
       "      <td>hemoglobin</td>\n",
       "    </tr>\n",
       "    <tr>\n",
       "      <th>1</th>\n",
       "      <td>329</td>\n",
       "      <td>Urine Color</td>\n",
       "      <td>YELLOW</td>\n",
       "      <td>NaN</td>\n",
       "      <td>0.0</td>\n",
       "      <td>urine color</td>\n",
       "    </tr>\n",
       "    <tr>\n",
       "      <th>2</th>\n",
       "      <td>329</td>\n",
       "      <td>Uric Acid</td>\n",
       "      <td>237.92</td>\n",
       "      <td>umol/L</td>\n",
       "      <td>0.0</td>\n",
       "      <td>uric acid</td>\n",
       "    </tr>\n",
       "    <tr>\n",
       "      <th>3</th>\n",
       "      <td>329</td>\n",
       "      <td>ALPHA2-GLOBULIN</td>\n",
       "      <td>1</td>\n",
       "      <td>g/dL</td>\n",
       "      <td>0.0</td>\n",
       "      <td>alpha2-globulin</td>\n",
       "    </tr>\n",
       "    <tr>\n",
       "      <th>4</th>\n",
       "      <td>329</td>\n",
       "      <td>Sodium</td>\n",
       "      <td>138</td>\n",
       "      <td>mmol/L</td>\n",
       "      <td>0.0</td>\n",
       "      <td>sodium</td>\n",
       "    </tr>\n",
       "  </tbody>\n",
       "</table>\n",
       "</div>"
      ],
      "text/plain": [
       "   subject_id        Test_Name Test_Result Test_Unit  study_day  \\\n",
       "0         329       Hemoglobin         130       g/L        0.0   \n",
       "1         329      Urine Color      YELLOW       NaN        0.0   \n",
       "2         329        Uric Acid      237.92    umol/L        0.0   \n",
       "3         329  ALPHA2-GLOBULIN           1      g/dL        0.0   \n",
       "4         329           Sodium         138    mmol/L        0.0   \n",
       "\n",
       "         test_name  \n",
       "0       hemoglobin  \n",
       "1      urine color  \n",
       "2        uric acid  \n",
       "3  alpha2-globulin  \n",
       "4           sodium  "
      ]
     },
     "execution_count": 134,
     "metadata": {},
     "output_type": "execute_result"
    }
   ],
   "source": [
    "labs.head()"
   ]
  },
  {
   "cell_type": "code",
   "execution_count": 154,
   "metadata": {},
   "outputs": [
    {
     "data": {
      "text/plain": [
       "['hemoglobin',\n",
       " 'urine color',\n",
       " 'uric acid',\n",
       " 'alpha2-globulin',\n",
       " 'sodium',\n",
       " 'glucose',\n",
       " 'chloride',\n",
       " 'bicarbonate',\n",
       " 'segmented neutrophils',\n",
       " 'platelets',\n",
       " 'red blood cells (rbc)',\n",
       " 'hematocrit',\n",
       " 'bilirubin (total)',\n",
       " 'immunoglobulin m',\n",
       " 'bilirubin (direct)',\n",
       " 'fibrinogen',\n",
       " 'absolute eosinophil count',\n",
       " 'alkaline phosphatase',\n",
       " 'immunoglobulin a',\n",
       " 'ast(sgot)',\n",
       " 'gamma-globulin',\n",
       " 'urine specific gravity',\n",
       " 'immunoglobulin g',\n",
       " 'monocytes',\n",
       " 'protein',\n",
       " 'urine squamous epithelial cells',\n",
       " 'mean corpuscular hemoglobin',\n",
       " 'mean corpuscular hemoglobin concentration',\n",
       " 'potassium',\n",
       " 'mean corpuscular volume',\n",
       " 'phosphorus',\n",
       " 'ck',\n",
       " 'free t4',\n",
       " 'lymphocytes',\n",
       " 'partial thromboplastin time',\n",
       " 'white blood cell (wbc)',\n",
       " 'c-reactive protein',\n",
       " 'lactate dehydrogenase',\n",
       " 'calcium',\n",
       " 'blood urea nitrogen (bun)',\n",
       " 'albumin/globulin ratio',\n",
       " 'urine appearance',\n",
       " 'albumin',\n",
       " 'basophils',\n",
       " 'beta-globulin',\n",
       " 'creatinine',\n",
       " 'urine bacteria',\n",
       " 'alt(sgpt)',\n",
       " 'alpha1-globulin',\n",
       " 'prothrombin time (clotting)',\n",
       " 'urine mucus',\n",
       " 'urine uric acid crystals',\n",
       " 'urine calcium oxalate crystals',\n",
       " 'triglycerides',\n",
       " 'urine urobilinogen',\n",
       " 'globulin',\n",
       " 'urine protein',\n",
       " 'absolute basophil count',\n",
       " 'urine ph',\n",
       " 'urine blood',\n",
       " 'rbc morphology',\n",
       " 'bilirubin (indirect)',\n",
       " 'gfr',\n",
       " 'total cholesterol',\n",
       " 'urine bilirubin',\n",
       " 'absolute neutrophil count',\n",
       " 'urine leukesterase',\n",
       " 'urine glucose',\n",
       " 'gamma-glutamyltransferase',\n",
       " 'magnesium',\n",
       " 'eosinophils',\n",
       " 'urine ketones',\n",
       " 'absolute segmented neutrophil count',\n",
       " 'absolute monocyte count',\n",
       " 'urine nitrite',\n",
       " 'absolute lymphocyte count',\n",
       " 'urine wbcs',\n",
       " 'urine rbcs',\n",
       " 'urine micro',\n",
       " 'hydration volume',\n",
       " 'total yield',\n",
       " 'normocytic',\n",
       " 'was patient fasting?',\n",
       " 'urine amorphous crystals',\n",
       " 'neutrophils',\n",
       " 'hba1c (glycated hemoglobin)',\n",
       " 'band neutrophils',\n",
       " 'absolute band neutrophil count',\n",
       " 'urine creatinine',\n",
       " 'prothrombin time ratio',\n",
       " 'bilirubin',\n",
       " 'phosphate',\n",
       " 'urine albumin',\n",
       " 'urine creatinine clearance',\n",
       " 'urine volume',\n",
       " 'urine collection duration',\n",
       " 'urine microscopic',\n",
       " 'hyaline cast',\n",
       " 'urine spermatazoa',\n",
       " 'urine mucous',\n",
       " 'amorphous urates crystals',\n",
       " 'aldolase',\n",
       " 'creatine kinase mm',\n",
       " 'lactate dehydrogenase - 5',\n",
       " 'lactate dehydrogenase - 2',\n",
       " 'creatine kinase mb',\n",
       " 'lactate dehydrogenase - 4',\n",
       " 'lactate dehydrogenase - 1',\n",
       " 'lactate dehydrogenase - 3',\n",
       " 'beta hcg',\n",
       " 'stool occult blood',\n",
       " 'h. pylori antibody',\n",
       " 'free t3',\n",
       " 'amylase',\n",
       " 'international normalized ratio (clotting)',\n",
       " 'urine casts',\n",
       " 'thyroid stimulating hormone',\n",
       " 'urine hyaline cast',\n",
       " 'rbc morphology: anisocytosis',\n",
       " 'rbc morphology: macrocytosis',\n",
       " 'lithium',\n",
       " 'salivary amylase',\n",
       " 'pancreatic amylase',\n",
       " 'urine transitional epithelial cells',\n",
       " 'vitamin e',\n",
       " 'malondialdehyde',\n",
       " 'urine yeast',\n",
       " 'urine microalbumin',\n",
       " 'amorphous phosphate crystals']"
      ]
     },
     "execution_count": 154,
     "metadata": {},
     "output_type": "execute_result"
    }
   ],
   "source": [
    "list(labs['test_name'].unique())"
   ]
  },
  {
   "cell_type": "code",
   "execution_count": 208,
   "metadata": {},
   "outputs": [],
   "source": [
    "lab_dfs=[]\n",
    "for inx, t in enumerate(list(labs['test_name'].unique())):\n",
    "    new_lab = labs[ labs['test_name'] == t].copy().reset_index(drop=True)\n",
    "    new_lab[t]=new_lab['Test_Result']\n",
    "    new_lab[t+' unit']=new_lab['Test_Unit']\n",
    "    new_lab.drop(['Test_Name', 'test_name', 'Test_Unit', 'Test_Result'], axis=1, inplace=True)\n",
    "    if inx == 0:\n",
    "        final_lab = new_lab\n",
    "    lab_dfs.append(new_lab)"
   ]
  },
  {
   "cell_type": "code",
   "execution_count": 209,
   "metadata": {},
   "outputs": [
    {
     "ename": "KeyboardInterrupt",
     "evalue": "",
     "output_type": "error",
     "traceback": [
      "\u001b[0;31m---------------------------------------------------------------------------\u001b[0m",
      "\u001b[0;31mKeyboardInterrupt\u001b[0m                         Traceback (most recent call last)",
      "\u001b[0;32m<ipython-input-209-06486b0c61df>\u001b[0m in \u001b[0;36m<module>\u001b[0;34m\u001b[0m\n\u001b[1;32m      1\u001b[0m labs_final = reduce(lambda left,right: pd.merge(left,right,\n\u001b[1;32m      2\u001b[0m                                               \u001b[0mon\u001b[0m\u001b[0;34m=\u001b[0m\u001b[0;34m[\u001b[0m\u001b[0;34m'subject_id'\u001b[0m\u001b[0;34m,\u001b[0m\u001b[0;34m'study_day'\u001b[0m\u001b[0;34m]\u001b[0m\u001b[0;34m,\u001b[0m\u001b[0;34m\u001b[0m\u001b[0;34m\u001b[0m\u001b[0m\n\u001b[0;32m----> 3\u001b[0;31m                                               how='outer'), lab_dfs)\n\u001b[0m",
      "\u001b[0;32m<ipython-input-209-06486b0c61df>\u001b[0m in \u001b[0;36m<lambda>\u001b[0;34m(left, right)\u001b[0m\n\u001b[1;32m      1\u001b[0m labs_final = reduce(lambda left,right: pd.merge(left,right,\n\u001b[1;32m      2\u001b[0m                                               \u001b[0mon\u001b[0m\u001b[0;34m=\u001b[0m\u001b[0;34m[\u001b[0m\u001b[0;34m'subject_id'\u001b[0m\u001b[0;34m,\u001b[0m\u001b[0;34m'study_day'\u001b[0m\u001b[0;34m]\u001b[0m\u001b[0;34m,\u001b[0m\u001b[0;34m\u001b[0m\u001b[0;34m\u001b[0m\u001b[0m\n\u001b[0;32m----> 3\u001b[0;31m                                               how='outer'), lab_dfs)\n\u001b[0m",
      "\u001b[0;32m/Applications/anaconda3/lib/python3.6/site-packages/pandas/core/reshape/merge.py\u001b[0m in \u001b[0;36mmerge\u001b[0;34m(left, right, how, on, left_on, right_on, left_index, right_index, sort, suffixes, copy, indicator, validate)\u001b[0m\n\u001b[1;32m     46\u001b[0m                          \u001b[0mcopy\u001b[0m\u001b[0;34m=\u001b[0m\u001b[0mcopy\u001b[0m\u001b[0;34m,\u001b[0m \u001b[0mindicator\u001b[0m\u001b[0;34m=\u001b[0m\u001b[0mindicator\u001b[0m\u001b[0;34m,\u001b[0m\u001b[0;34m\u001b[0m\u001b[0;34m\u001b[0m\u001b[0m\n\u001b[1;32m     47\u001b[0m                          validate=validate)\n\u001b[0;32m---> 48\u001b[0;31m     \u001b[0;32mreturn\u001b[0m \u001b[0mop\u001b[0m\u001b[0;34m.\u001b[0m\u001b[0mget_result\u001b[0m\u001b[0;34m(\u001b[0m\u001b[0;34m)\u001b[0m\u001b[0;34m\u001b[0m\u001b[0;34m\u001b[0m\u001b[0m\n\u001b[0m\u001b[1;32m     49\u001b[0m \u001b[0;34m\u001b[0m\u001b[0m\n\u001b[1;32m     50\u001b[0m \u001b[0;34m\u001b[0m\u001b[0m\n",
      "\u001b[0;32m/Applications/anaconda3/lib/python3.6/site-packages/pandas/core/reshape/merge.py\u001b[0m in \u001b[0;36mget_result\u001b[0;34m(self)\u001b[0m\n\u001b[1;32m    558\u001b[0m             \u001b[0;34m[\u001b[0m\u001b[0;34m(\u001b[0m\u001b[0mldata\u001b[0m\u001b[0;34m,\u001b[0m \u001b[0mlindexers\u001b[0m\u001b[0;34m)\u001b[0m\u001b[0;34m,\u001b[0m \u001b[0;34m(\u001b[0m\u001b[0mrdata\u001b[0m\u001b[0;34m,\u001b[0m \u001b[0mrindexers\u001b[0m\u001b[0;34m)\u001b[0m\u001b[0;34m]\u001b[0m\u001b[0;34m,\u001b[0m\u001b[0;34m\u001b[0m\u001b[0;34m\u001b[0m\u001b[0m\n\u001b[1;32m    559\u001b[0m             \u001b[0maxes\u001b[0m\u001b[0;34m=\u001b[0m\u001b[0;34m[\u001b[0m\u001b[0mllabels\u001b[0m\u001b[0;34m.\u001b[0m\u001b[0mappend\u001b[0m\u001b[0;34m(\u001b[0m\u001b[0mrlabels\u001b[0m\u001b[0;34m)\u001b[0m\u001b[0;34m,\u001b[0m \u001b[0mjoin_index\u001b[0m\u001b[0;34m]\u001b[0m\u001b[0;34m,\u001b[0m\u001b[0;34m\u001b[0m\u001b[0;34m\u001b[0m\u001b[0m\n\u001b[0;32m--> 560\u001b[0;31m             concat_axis=0, copy=self.copy)\n\u001b[0m\u001b[1;32m    561\u001b[0m \u001b[0;34m\u001b[0m\u001b[0m\n\u001b[1;32m    562\u001b[0m         \u001b[0mtyp\u001b[0m \u001b[0;34m=\u001b[0m \u001b[0mself\u001b[0m\u001b[0;34m.\u001b[0m\u001b[0mleft\u001b[0m\u001b[0;34m.\u001b[0m\u001b[0m_constructor\u001b[0m\u001b[0;34m\u001b[0m\u001b[0;34m\u001b[0m\u001b[0m\n",
      "\u001b[0;32m/Applications/anaconda3/lib/python3.6/site-packages/pandas/core/internals/managers.py\u001b[0m in \u001b[0;36mconcatenate_block_managers\u001b[0;34m(mgrs_indexers, axes, concat_axis, copy)\u001b[0m\n\u001b[1;32m   2059\u001b[0m         \u001b[0;32melse\u001b[0m\u001b[0;34m:\u001b[0m\u001b[0;34m\u001b[0m\u001b[0;34m\u001b[0m\u001b[0m\n\u001b[1;32m   2060\u001b[0m             b = make_block(\n\u001b[0;32m-> 2061\u001b[0;31m                 \u001b[0mconcatenate_join_units\u001b[0m\u001b[0;34m(\u001b[0m\u001b[0mjoin_units\u001b[0m\u001b[0;34m,\u001b[0m \u001b[0mconcat_axis\u001b[0m\u001b[0;34m,\u001b[0m \u001b[0mcopy\u001b[0m\u001b[0;34m=\u001b[0m\u001b[0mcopy\u001b[0m\u001b[0;34m)\u001b[0m\u001b[0;34m,\u001b[0m\u001b[0;34m\u001b[0m\u001b[0;34m\u001b[0m\u001b[0m\n\u001b[0m\u001b[1;32m   2062\u001b[0m                 placement=placement)\n\u001b[1;32m   2063\u001b[0m         \u001b[0mblocks\u001b[0m\u001b[0;34m.\u001b[0m\u001b[0mappend\u001b[0m\u001b[0;34m(\u001b[0m\u001b[0mb\u001b[0m\u001b[0;34m)\u001b[0m\u001b[0;34m\u001b[0m\u001b[0;34m\u001b[0m\u001b[0m\n",
      "\u001b[0;32m/Applications/anaconda3/lib/python3.6/site-packages/pandas/core/internals/concat.py\u001b[0m in \u001b[0;36mconcatenate_join_units\u001b[0;34m(join_units, concat_axis, copy)\u001b[0m\n\u001b[1;32m    240\u001b[0m     to_concat = [ju.get_reindexed_values(empty_dtype=empty_dtype,\n\u001b[1;32m    241\u001b[0m                                          upcasted_na=upcasted_na)\n\u001b[0;32m--> 242\u001b[0;31m                  for ju in join_units]\n\u001b[0m\u001b[1;32m    243\u001b[0m \u001b[0;34m\u001b[0m\u001b[0m\n\u001b[1;32m    244\u001b[0m     \u001b[0;32mif\u001b[0m \u001b[0mlen\u001b[0m\u001b[0;34m(\u001b[0m\u001b[0mto_concat\u001b[0m\u001b[0;34m)\u001b[0m \u001b[0;34m==\u001b[0m \u001b[0;36m1\u001b[0m\u001b[0;34m:\u001b[0m\u001b[0;34m\u001b[0m\u001b[0;34m\u001b[0m\u001b[0m\n",
      "\u001b[0;32m/Applications/anaconda3/lib/python3.6/site-packages/pandas/core/internals/concat.py\u001b[0m in \u001b[0;36m<listcomp>\u001b[0;34m(.0)\u001b[0m\n\u001b[1;32m    240\u001b[0m     to_concat = [ju.get_reindexed_values(empty_dtype=empty_dtype,\n\u001b[1;32m    241\u001b[0m                                          upcasted_na=upcasted_na)\n\u001b[0;32m--> 242\u001b[0;31m                  for ju in join_units]\n\u001b[0m\u001b[1;32m    243\u001b[0m \u001b[0;34m\u001b[0m\u001b[0m\n\u001b[1;32m    244\u001b[0m     \u001b[0;32mif\u001b[0m \u001b[0mlen\u001b[0m\u001b[0;34m(\u001b[0m\u001b[0mto_concat\u001b[0m\u001b[0;34m)\u001b[0m \u001b[0;34m==\u001b[0m \u001b[0;36m1\u001b[0m\u001b[0;34m:\u001b[0m\u001b[0;34m\u001b[0m\u001b[0;34m\u001b[0m\u001b[0m\n",
      "\u001b[0;32m/Applications/anaconda3/lib/python3.6/site-packages/pandas/core/internals/concat.py\u001b[0m in \u001b[0;36mget_reindexed_values\u001b[0;34m(self, empty_dtype, upcasted_na)\u001b[0m\n\u001b[1;32m    223\u001b[0m             \u001b[0;32mfor\u001b[0m \u001b[0max\u001b[0m\u001b[0;34m,\u001b[0m \u001b[0mindexer\u001b[0m \u001b[0;32min\u001b[0m \u001b[0mself\u001b[0m\u001b[0;34m.\u001b[0m\u001b[0mindexers\u001b[0m\u001b[0;34m.\u001b[0m\u001b[0mitems\u001b[0m\u001b[0;34m(\u001b[0m\u001b[0;34m)\u001b[0m\u001b[0;34m:\u001b[0m\u001b[0;34m\u001b[0m\u001b[0;34m\u001b[0m\u001b[0m\n\u001b[1;32m    224\u001b[0m                 values = algos.take_nd(values, indexer, axis=ax,\n\u001b[0;32m--> 225\u001b[0;31m                                        fill_value=fill_value)\n\u001b[0m\u001b[1;32m    226\u001b[0m \u001b[0;34m\u001b[0m\u001b[0m\n\u001b[1;32m    227\u001b[0m         \u001b[0;32mreturn\u001b[0m \u001b[0mvalues\u001b[0m\u001b[0;34m\u001b[0m\u001b[0;34m\u001b[0m\u001b[0m\n",
      "\u001b[0;32m/Applications/anaconda3/lib/python3.6/site-packages/pandas/core/algorithms.py\u001b[0m in \u001b[0;36mtake_nd\u001b[0;34m(arr, indexer, axis, out, fill_value, mask_info, allow_fill)\u001b[0m\n\u001b[1;32m   1649\u001b[0m             \u001b[0mout\u001b[0m \u001b[0;34m=\u001b[0m \u001b[0mnp\u001b[0m\u001b[0;34m.\u001b[0m\u001b[0mempty\u001b[0m\u001b[0;34m(\u001b[0m\u001b[0mout_shape\u001b[0m\u001b[0;34m,\u001b[0m \u001b[0mdtype\u001b[0m\u001b[0;34m=\u001b[0m\u001b[0mdtype\u001b[0m\u001b[0;34m,\u001b[0m \u001b[0morder\u001b[0m\u001b[0;34m=\u001b[0m\u001b[0;34m'F'\u001b[0m\u001b[0;34m)\u001b[0m\u001b[0;34m\u001b[0m\u001b[0;34m\u001b[0m\u001b[0m\n\u001b[1;32m   1650\u001b[0m         \u001b[0;32melse\u001b[0m\u001b[0;34m:\u001b[0m\u001b[0;34m\u001b[0m\u001b[0;34m\u001b[0m\u001b[0m\n\u001b[0;32m-> 1651\u001b[0;31m             \u001b[0mout\u001b[0m \u001b[0;34m=\u001b[0m \u001b[0mnp\u001b[0m\u001b[0;34m.\u001b[0m\u001b[0mempty\u001b[0m\u001b[0;34m(\u001b[0m\u001b[0mout_shape\u001b[0m\u001b[0;34m,\u001b[0m \u001b[0mdtype\u001b[0m\u001b[0;34m=\u001b[0m\u001b[0mdtype\u001b[0m\u001b[0;34m)\u001b[0m\u001b[0;34m\u001b[0m\u001b[0;34m\u001b[0m\u001b[0m\n\u001b[0m\u001b[1;32m   1652\u001b[0m \u001b[0;34m\u001b[0m\u001b[0m\n\u001b[1;32m   1653\u001b[0m     func = _get_take_nd_function(arr.ndim, arr.dtype, out.dtype, axis=axis,\n",
      "\u001b[0;31mKeyboardInterrupt\u001b[0m: "
     ]
    }
   ],
   "source": [
    "labs_final = reduce(lambda left,right: pd.merge(left,right,\n",
    "                                              on=['subject_id','study_day'], \n",
    "                                              how='outer'), lab_dfs)"
   ]
  },
  {
   "cell_type": "code",
   "execution_count": 210,
   "metadata": {},
   "outputs": [
    {
     "ename": "NameError",
     "evalue": "name 'labs_final' is not defined",
     "output_type": "error",
     "traceback": [
      "\u001b[0;31m---------------------------------------------------------------------------\u001b[0m",
      "\u001b[0;31mNameError\u001b[0m                                 Traceback (most recent call last)",
      "\u001b[0;32m<ipython-input-210-e236d0f021c3>\u001b[0m in \u001b[0;36m<module>\u001b[0;34m\u001b[0m\n\u001b[1;32m      1\u001b[0m \u001b[0;31m# save to csv\u001b[0m\u001b[0;34m\u001b[0m\u001b[0;34m\u001b[0m\u001b[0;34m\u001b[0m\u001b[0m\n\u001b[1;32m      2\u001b[0m \u001b[0mfilename\u001b[0m \u001b[0;34m=\u001b[0m \u001b[0;34m'clean_data/labs_clean.csv'\u001b[0m\u001b[0;34m\u001b[0m\u001b[0;34m\u001b[0m\u001b[0m\n\u001b[0;32m----> 3\u001b[0;31m \u001b[0mlabs_final\u001b[0m\u001b[0;34m.\u001b[0m\u001b[0mto_csv\u001b[0m\u001b[0;34m(\u001b[0m\u001b[0mfilename\u001b[0m\u001b[0;34m,\u001b[0m \u001b[0mindex\u001b[0m\u001b[0;34m=\u001b[0m\u001b[0;32mFalse\u001b[0m\u001b[0;34m)\u001b[0m\u001b[0;34m\u001b[0m\u001b[0;34m\u001b[0m\u001b[0m\n\u001b[0m",
      "\u001b[0;31mNameError\u001b[0m: name 'labs_final' is not defined"
     ]
    }
   ],
   "source": [
    "# save to csv\n",
    "filename = 'clean_data/labs_clean.csv'\n",
    "labs_final.to_csv(filename, index=False)"
   ]
  },
  {
   "cell_type": "code",
   "execution_count": null,
   "metadata": {},
   "outputs": [],
   "source": []
  }
 ],
 "metadata": {
  "kernelspec": {
   "display_name": "Python 3",
   "language": "python",
   "name": "python3"
  },
  "language_info": {
   "codemirror_mode": {
    "name": "ipython",
    "version": 3
   },
   "file_extension": ".py",
   "mimetype": "text/x-python",
   "name": "python",
   "nbconvert_exporter": "python",
   "pygments_lexer": "ipython3",
   "version": "3.6.8"
  }
 },
 "nbformat": 4,
 "nbformat_minor": 2
}
