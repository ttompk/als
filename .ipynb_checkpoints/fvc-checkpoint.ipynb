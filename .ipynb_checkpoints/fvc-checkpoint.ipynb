{
 "cells": [
  {
   "cell_type": "markdown",
   "metadata": {},
   "source": [
    "# ALS Project\n",
    "\n",
    "## FVC measurements"
   ]
  },
  {
   "cell_type": "code",
   "execution_count": 4,
   "metadata": {},
   "outputs": [],
   "source": [
    "import numpy as np\n",
    "import pandas as pd\n",
    "import matplotlib.pyplot as plt\n",
    "import seaborn as sn"
   ]
  },
  {
   "cell_type": "code",
   "execution_count": 31,
   "metadata": {},
   "outputs": [],
   "source": [
    "from eda_functions import *\n",
    "from collections import defaultdict\n",
    "from scipy.stats import linregress"
   ]
  },
  {
   "cell_type": "code",
   "execution_count": 13,
   "metadata": {},
   "outputs": [
    {
     "name": "stdout",
     "output_type": "stream",
     "text": [
      "The autoreload extension is already loaded. To reload it, use:\n",
      "  %reload_ext autoreload\n"
     ]
    }
   ],
   "source": [
    "%load_ext autoreload\n",
    "%autoreload 2\n",
    "%matplotlib inline"
   ]
  },
  {
   "cell_type": "markdown",
   "metadata": {},
   "source": [
    "##"
   ]
  },
  {
   "cell_type": "code",
   "execution_count": 7,
   "metadata": {},
   "outputs": [],
   "source": [
    "fvc = pd.read_csv(\"data/Fvc.csv\")"
   ]
  },
  {
   "cell_type": "code",
   "execution_count": 8,
   "metadata": {},
   "outputs": [
    {
     "data": {
      "text/html": [
       "<div>\n",
       "<style scoped>\n",
       "    .dataframe tbody tr th:only-of-type {\n",
       "        vertical-align: middle;\n",
       "    }\n",
       "\n",
       "    .dataframe tbody tr th {\n",
       "        vertical-align: top;\n",
       "    }\n",
       "\n",
       "    .dataframe thead th {\n",
       "        text-align: right;\n",
       "    }\n",
       "</style>\n",
       "<table border=\"1\" class=\"dataframe\">\n",
       "  <thead>\n",
       "    <tr style=\"text-align: right;\">\n",
       "      <th></th>\n",
       "      <th>subject_id</th>\n",
       "      <th>Subject_Liters_Trial_1</th>\n",
       "      <th>pct_of_Normal_Trial_1</th>\n",
       "      <th>Subject_Liters_Trial_2</th>\n",
       "      <th>pct_of_Normal_Trial_2</th>\n",
       "      <th>Subject_Liters_Trial_3</th>\n",
       "      <th>pct_of_Normal_Trial_3</th>\n",
       "      <th>Forced_Vital_Capacity_Delta</th>\n",
       "      <th>Subject_Normal</th>\n",
       "      <th>Forced_Vital_Capacity_Units</th>\n",
       "    </tr>\n",
       "  </thead>\n",
       "  <tbody>\n",
       "    <tr>\n",
       "      <th>0</th>\n",
       "      <td>89</td>\n",
       "      <td>2.89</td>\n",
       "      <td>NaN</td>\n",
       "      <td>NaN</td>\n",
       "      <td>NaN</td>\n",
       "      <td>NaN</td>\n",
       "      <td>NaN</td>\n",
       "      <td>0.0</td>\n",
       "      <td>3.83</td>\n",
       "      <td>NaN</td>\n",
       "    </tr>\n",
       "    <tr>\n",
       "      <th>1</th>\n",
       "      <td>329</td>\n",
       "      <td>2.49</td>\n",
       "      <td>97.0</td>\n",
       "      <td>2.57</td>\n",
       "      <td>NaN</td>\n",
       "      <td>2.60</td>\n",
       "      <td>NaN</td>\n",
       "      <td>0.0</td>\n",
       "      <td>NaN</td>\n",
       "      <td>NaN</td>\n",
       "    </tr>\n",
       "    <tr>\n",
       "      <th>2</th>\n",
       "      <td>329</td>\n",
       "      <td>2.71</td>\n",
       "      <td>101.0</td>\n",
       "      <td>2.62</td>\n",
       "      <td>NaN</td>\n",
       "      <td>2.72</td>\n",
       "      <td>NaN</td>\n",
       "      <td>16.0</td>\n",
       "      <td>NaN</td>\n",
       "      <td>NaN</td>\n",
       "    </tr>\n",
       "    <tr>\n",
       "      <th>3</th>\n",
       "      <td>329</td>\n",
       "      <td>2.75</td>\n",
       "      <td>103.0</td>\n",
       "      <td>2.62</td>\n",
       "      <td>NaN</td>\n",
       "      <td>2.53</td>\n",
       "      <td>NaN</td>\n",
       "      <td>42.0</td>\n",
       "      <td>NaN</td>\n",
       "      <td>NaN</td>\n",
       "    </tr>\n",
       "    <tr>\n",
       "      <th>4</th>\n",
       "      <td>329</td>\n",
       "      <td>2.79</td>\n",
       "      <td>104.0</td>\n",
       "      <td>2.62</td>\n",
       "      <td>NaN</td>\n",
       "      <td>2.61</td>\n",
       "      <td>NaN</td>\n",
       "      <td>72.0</td>\n",
       "      <td>NaN</td>\n",
       "      <td>NaN</td>\n",
       "    </tr>\n",
       "  </tbody>\n",
       "</table>\n",
       "</div>"
      ],
      "text/plain": [
       "   subject_id  Subject_Liters_Trial_1  pct_of_Normal_Trial_1  \\\n",
       "0          89                    2.89                    NaN   \n",
       "1         329                    2.49                   97.0   \n",
       "2         329                    2.71                  101.0   \n",
       "3         329                    2.75                  103.0   \n",
       "4         329                    2.79                  104.0   \n",
       "\n",
       "   Subject_Liters_Trial_2  pct_of_Normal_Trial_2  Subject_Liters_Trial_3  \\\n",
       "0                     NaN                    NaN                     NaN   \n",
       "1                    2.57                    NaN                    2.60   \n",
       "2                    2.62                    NaN                    2.72   \n",
       "3                    2.62                    NaN                    2.53   \n",
       "4                    2.62                    NaN                    2.61   \n",
       "\n",
       "   pct_of_Normal_Trial_3  Forced_Vital_Capacity_Delta  Subject_Normal  \\\n",
       "0                    NaN                          0.0            3.83   \n",
       "1                    NaN                          0.0             NaN   \n",
       "2                    NaN                         16.0             NaN   \n",
       "3                    NaN                         42.0             NaN   \n",
       "4                    NaN                         72.0             NaN   \n",
       "\n",
       "  Forced_Vital_Capacity_Units  \n",
       "0                         NaN  \n",
       "1                         NaN  \n",
       "2                         NaN  \n",
       "3                         NaN  \n",
       "4                         NaN  "
      ]
     },
     "execution_count": 8,
     "metadata": {},
     "output_type": "execute_result"
    }
   ],
   "source": [
    "fvc.head()"
   ]
  },
  {
   "cell_type": "code",
   "execution_count": 9,
   "metadata": {},
   "outputs": [],
   "source": [
    "# change Forced_Vital_Capacity_Delta to study day\n",
    "fvc['study_day'] = fvc['Forced_Vital_Capacity_Delta']"
   ]
  },
  {
   "cell_type": "code",
   "execution_count": 10,
   "metadata": {},
   "outputs": [],
   "source": [
    "fvc.drop('Forced_Vital_Capacity_Delta', axis=1, inplace=True)"
   ]
  },
  {
   "cell_type": "code",
   "execution_count": 11,
   "metadata": {},
   "outputs": [],
   "source": [
    "# plot each FVC score\n",
    "Qs=['Subject_Liters_Trial_1']\n",
    "\n",
    "def plot_fvc_long(df):\n",
    "    if len(df)> 200:\n",
    "        return \"df is too long\"\n",
    "    plt.figure(figsize=(12,6))\n",
    "    for feature in df[Qs]:\n",
    "        if np.all(df[feature].isnull()):\n",
    "            continue\n",
    "        plt.plot(df['study_day'], df[feature])\n",
    "    plt.title(\"FVC, first attempt, subject={}\".format(df['subject_id'].unique()))\n",
    "    plt.ylabel(\"Liters\")\n",
    "    plt.xlabel(\"study day\")\n",
    "    plt.show()"
   ]
  },
  {
   "cell_type": "code",
   "execution_count": 14,
   "metadata": {},
   "outputs": [
    {
     "data": {
      "image/png": "[encoded data removed]",
      "text/plain": [
       "<Figure size 864x432 with 1 Axes>"
      ]
     },
     "metadata": {
      "needs_background": "light"
     },
     "output_type": "display_data"
    }
   ],
   "source": [
    "subject = fvc[ fvc['subject_id']==329]\n",
    "plot_fvc_long(subject)"
   ]
  },
  {
   "cell_type": "code",
   "execution_count": 15,
   "metadata": {},
   "outputs": [
    {
     "name": "stderr",
     "output_type": "stream",
     "text": [
      "/Applications/anaconda3/lib/python3.6/site-packages/numpy/lib/histograms.py:754: RuntimeWarning: invalid value encountered in greater_equal\n",
      "  keep = (tmp_a >= first_edge)\n",
      "/Applications/anaconda3/lib/python3.6/site-packages/numpy/lib/histograms.py:755: RuntimeWarning: invalid value encountered in less_equal\n",
      "  keep &= (tmp_a <= last_edge)\n"
     ]
    },
    {
     "data": {
      "image/png": "[encoded data removed]",
      "text/plain": [
       "<Figure size 432x288 with 1 Axes>"
      ]
     },
     "metadata": {
      "needs_background": "light"
     },
     "output_type": "display_data"
    }
   ],
   "source": [
    "# hist of study days for fvc\n",
    "plt.hist(fvc['study_day'], bins=100, rwidth=0.9)\n",
    "plt.show()"
   ]
  },
  {
   "cell_type": "code",
   "execution_count": 17,
   "metadata": {},
   "outputs": [
    {
     "data": {
      "text/html": [
       "<div>\n",
       "<style scoped>\n",
       "    .dataframe tbody tr th:only-of-type {\n",
       "        vertical-align: middle;\n",
       "    }\n",
       "\n",
       "    .dataframe tbody tr th {\n",
       "        vertical-align: top;\n",
       "    }\n",
       "\n",
       "    .dataframe thead th {\n",
       "        text-align: right;\n",
       "    }\n",
       "</style>\n",
       "<table border=\"1\" class=\"dataframe\">\n",
       "  <thead>\n",
       "    <tr style=\"text-align: right;\">\n",
       "      <th></th>\n",
       "      <th>subject_id</th>\n",
       "      <th>Subject_Liters_Trial_1</th>\n",
       "      <th>pct_of_Normal_Trial_1</th>\n",
       "      <th>Subject_Liters_Trial_2</th>\n",
       "      <th>pct_of_Normal_Trial_2</th>\n",
       "      <th>Subject_Liters_Trial_3</th>\n",
       "      <th>pct_of_Normal_Trial_3</th>\n",
       "      <th>Subject_Normal</th>\n",
       "      <th>Forced_Vital_Capacity_Units</th>\n",
       "      <th>study_day</th>\n",
       "    </tr>\n",
       "  </thead>\n",
       "  <tbody>\n",
       "    <tr>\n",
       "      <th>0</th>\n",
       "      <td>89</td>\n",
       "      <td>2.89</td>\n",
       "      <td>NaN</td>\n",
       "      <td>NaN</td>\n",
       "      <td>NaN</td>\n",
       "      <td>NaN</td>\n",
       "      <td>NaN</td>\n",
       "      <td>3.83</td>\n",
       "      <td>NaN</td>\n",
       "      <td>0.0</td>\n",
       "    </tr>\n",
       "    <tr>\n",
       "      <th>1</th>\n",
       "      <td>329</td>\n",
       "      <td>2.49</td>\n",
       "      <td>97.0</td>\n",
       "      <td>2.57</td>\n",
       "      <td>NaN</td>\n",
       "      <td>2.60</td>\n",
       "      <td>NaN</td>\n",
       "      <td>NaN</td>\n",
       "      <td>NaN</td>\n",
       "      <td>0.0</td>\n",
       "    </tr>\n",
       "    <tr>\n",
       "      <th>2</th>\n",
       "      <td>329</td>\n",
       "      <td>2.71</td>\n",
       "      <td>101.0</td>\n",
       "      <td>2.62</td>\n",
       "      <td>NaN</td>\n",
       "      <td>2.72</td>\n",
       "      <td>NaN</td>\n",
       "      <td>NaN</td>\n",
       "      <td>NaN</td>\n",
       "      <td>16.0</td>\n",
       "    </tr>\n",
       "    <tr>\n",
       "      <th>3</th>\n",
       "      <td>329</td>\n",
       "      <td>2.75</td>\n",
       "      <td>103.0</td>\n",
       "      <td>2.62</td>\n",
       "      <td>NaN</td>\n",
       "      <td>2.53</td>\n",
       "      <td>NaN</td>\n",
       "      <td>NaN</td>\n",
       "      <td>NaN</td>\n",
       "      <td>42.0</td>\n",
       "    </tr>\n",
       "    <tr>\n",
       "      <th>4</th>\n",
       "      <td>329</td>\n",
       "      <td>2.79</td>\n",
       "      <td>104.0</td>\n",
       "      <td>2.62</td>\n",
       "      <td>NaN</td>\n",
       "      <td>2.61</td>\n",
       "      <td>NaN</td>\n",
       "      <td>NaN</td>\n",
       "      <td>NaN</td>\n",
       "      <td>72.0</td>\n",
       "    </tr>\n",
       "  </tbody>\n",
       "</table>\n",
       "</div>"
      ],
      "text/plain": [
       "   subject_id  Subject_Liters_Trial_1  pct_of_Normal_Trial_1  \\\n",
       "0          89                    2.89                    NaN   \n",
       "1         329                    2.49                   97.0   \n",
       "2         329                    2.71                  101.0   \n",
       "3         329                    2.75                  103.0   \n",
       "4         329                    2.79                  104.0   \n",
       "\n",
       "   Subject_Liters_Trial_2  pct_of_Normal_Trial_2  Subject_Liters_Trial_3  \\\n",
       "0                     NaN                    NaN                     NaN   \n",
       "1                    2.57                    NaN                    2.60   \n",
       "2                    2.62                    NaN                    2.72   \n",
       "3                    2.62                    NaN                    2.53   \n",
       "4                    2.62                    NaN                    2.61   \n",
       "\n",
       "   pct_of_Normal_Trial_3  Subject_Normal Forced_Vital_Capacity_Units  \\\n",
       "0                    NaN            3.83                         NaN   \n",
       "1                    NaN             NaN                         NaN   \n",
       "2                    NaN             NaN                         NaN   \n",
       "3                    NaN             NaN                         NaN   \n",
       "4                    NaN             NaN                         NaN   \n",
       "\n",
       "   study_day  \n",
       "0        0.0  \n",
       "1        0.0  \n",
       "2       16.0  \n",
       "3       42.0  \n",
       "4       72.0  "
      ]
     },
     "execution_count": 17,
     "metadata": {},
     "output_type": "execute_result"
    }
   ],
   "source": [
    "fvc.head()"
   ]
  },
  {
   "cell_type": "code",
   "execution_count": 18,
   "metadata": {},
   "outputs": [],
   "source": [
    "# add the onset date data\n",
    "onset = pd.read_csv(\"clean_data/onset_date.csv\")"
   ]
  },
  {
   "cell_type": "code",
   "execution_count": 19,
   "metadata": {},
   "outputs": [],
   "source": [
    "fvc_onset = fvc.merge(onset, how='left', on='subject_id')"
   ]
  },
  {
   "cell_type": "code",
   "execution_count": 24,
   "metadata": {},
   "outputs": [
    {
     "name": "stdout",
     "output_type": "stream",
     "text": [
      "(48856, 13)\n"
     ]
    },
    {
     "data": {
      "text/html": [
       "<div>\n",
       "<style scoped>\n",
       "    .dataframe tbody tr th:only-of-type {\n",
       "        vertical-align: middle;\n",
       "    }\n",
       "\n",
       "    .dataframe tbody tr th {\n",
       "        vertical-align: top;\n",
       "    }\n",
       "\n",
       "    .dataframe thead th {\n",
       "        text-align: right;\n",
       "    }\n",
       "</style>\n",
       "<table border=\"1\" class=\"dataframe\">\n",
       "  <thead>\n",
       "    <tr style=\"text-align: right;\">\n",
       "      <th></th>\n",
       "      <th>subject_id</th>\n",
       "      <th>Subject_Liters_Trial_1</th>\n",
       "      <th>pct_of_Normal_Trial_1</th>\n",
       "      <th>Subject_Liters_Trial_2</th>\n",
       "      <th>pct_of_Normal_Trial_2</th>\n",
       "      <th>Subject_Liters_Trial_3</th>\n",
       "      <th>pct_of_Normal_Trial_3</th>\n",
       "      <th>Subject_Normal</th>\n",
       "      <th>Forced_Vital_Capacity_Units</th>\n",
       "      <th>study_day</th>\n",
       "      <th>Onset_Delta</th>\n",
       "      <th>Diagnosis_Delta</th>\n",
       "      <th>day_since_onset</th>\n",
       "    </tr>\n",
       "  </thead>\n",
       "  <tbody>\n",
       "    <tr>\n",
       "      <th>0</th>\n",
       "      <td>89</td>\n",
       "      <td>2.89</td>\n",
       "      <td>NaN</td>\n",
       "      <td>NaN</td>\n",
       "      <td>NaN</td>\n",
       "      <td>NaN</td>\n",
       "      <td>NaN</td>\n",
       "      <td>3.83</td>\n",
       "      <td>NaN</td>\n",
       "      <td>0.0</td>\n",
       "      <td>NaN</td>\n",
       "      <td>NaN</td>\n",
       "      <td>NaN</td>\n",
       "    </tr>\n",
       "    <tr>\n",
       "      <th>1</th>\n",
       "      <td>329</td>\n",
       "      <td>2.49</td>\n",
       "      <td>97.0</td>\n",
       "      <td>2.57</td>\n",
       "      <td>NaN</td>\n",
       "      <td>2.60</td>\n",
       "      <td>NaN</td>\n",
       "      <td>NaN</td>\n",
       "      <td>NaN</td>\n",
       "      <td>0.0</td>\n",
       "      <td>-1706.0</td>\n",
       "      <td>-1068.0</td>\n",
       "      <td>1706.0</td>\n",
       "    </tr>\n",
       "    <tr>\n",
       "      <th>2</th>\n",
       "      <td>329</td>\n",
       "      <td>2.71</td>\n",
       "      <td>101.0</td>\n",
       "      <td>2.62</td>\n",
       "      <td>NaN</td>\n",
       "      <td>2.72</td>\n",
       "      <td>NaN</td>\n",
       "      <td>NaN</td>\n",
       "      <td>NaN</td>\n",
       "      <td>16.0</td>\n",
       "      <td>-1706.0</td>\n",
       "      <td>-1068.0</td>\n",
       "      <td>1722.0</td>\n",
       "    </tr>\n",
       "    <tr>\n",
       "      <th>3</th>\n",
       "      <td>329</td>\n",
       "      <td>2.75</td>\n",
       "      <td>103.0</td>\n",
       "      <td>2.62</td>\n",
       "      <td>NaN</td>\n",
       "      <td>2.53</td>\n",
       "      <td>NaN</td>\n",
       "      <td>NaN</td>\n",
       "      <td>NaN</td>\n",
       "      <td>42.0</td>\n",
       "      <td>-1706.0</td>\n",
       "      <td>-1068.0</td>\n",
       "      <td>1748.0</td>\n",
       "    </tr>\n",
       "    <tr>\n",
       "      <th>4</th>\n",
       "      <td>329</td>\n",
       "      <td>2.79</td>\n",
       "      <td>104.0</td>\n",
       "      <td>2.62</td>\n",
       "      <td>NaN</td>\n",
       "      <td>2.61</td>\n",
       "      <td>NaN</td>\n",
       "      <td>NaN</td>\n",
       "      <td>NaN</td>\n",
       "      <td>72.0</td>\n",
       "      <td>-1706.0</td>\n",
       "      <td>-1068.0</td>\n",
       "      <td>1778.0</td>\n",
       "    </tr>\n",
       "  </tbody>\n",
       "</table>\n",
       "</div>"
      ],
      "text/plain": [
       "   subject_id  Subject_Liters_Trial_1  pct_of_Normal_Trial_1  \\\n",
       "0          89                    2.89                    NaN   \n",
       "1         329                    2.49                   97.0   \n",
       "2         329                    2.71                  101.0   \n",
       "3         329                    2.75                  103.0   \n",
       "4         329                    2.79                  104.0   \n",
       "\n",
       "   Subject_Liters_Trial_2  pct_of_Normal_Trial_2  Subject_Liters_Trial_3  \\\n",
       "0                     NaN                    NaN                     NaN   \n",
       "1                    2.57                    NaN                    2.60   \n",
       "2                    2.62                    NaN                    2.72   \n",
       "3                    2.62                    NaN                    2.53   \n",
       "4                    2.62                    NaN                    2.61   \n",
       "\n",
       "   pct_of_Normal_Trial_3  Subject_Normal Forced_Vital_Capacity_Units  \\\n",
       "0                    NaN            3.83                         NaN   \n",
       "1                    NaN             NaN                         NaN   \n",
       "2                    NaN             NaN                         NaN   \n",
       "3                    NaN             NaN                         NaN   \n",
       "4                    NaN             NaN                         NaN   \n",
       "\n",
       "   study_day  Onset_Delta  Diagnosis_Delta  day_since_onset  \n",
       "0        0.0          NaN              NaN              NaN  \n",
       "1        0.0      -1706.0          -1068.0           1706.0  \n",
       "2       16.0      -1706.0          -1068.0           1722.0  \n",
       "3       42.0      -1706.0          -1068.0           1748.0  \n",
       "4       72.0      -1706.0          -1068.0           1778.0  "
      ]
     },
     "execution_count": 24,
     "metadata": {},
     "output_type": "execute_result"
    }
   ],
   "source": [
    "fvc_onset['day_since_onset']= np.abs(fvc_onset['Onset_Delta']) + fvc_onset['study_day']\n",
    "print(fvc_onset.shape)\n",
    "fvc_onset.head()"
   ]
  },
  {
   "cell_type": "markdown",
   "metadata": {},
   "source": [
    "## Slopes for FVC measurements"
   ]
  },
  {
   "cell_type": "code",
   "execution_count": 29,
   "metadata": {},
   "outputs": [],
   "source": [
    "subject_col='subject_id'\n",
    "y_col1='pct_of_Normal_Trial_1'\n",
    "x_col='day_since_onset'\n",
    "\n",
    "# the dataframe\n",
    "df = fvc_onset.copy()\n",
    "\n",
    "# list of every subject in table \n",
    "subjects_list = list(np.unique(df[subject_col]))"
   ]
  },
  {
   "cell_type": "code",
   "execution_count": 32,
   "metadata": {},
   "outputs": [],
   "source": [
    "#def linreg_scalers(df, subjects_list, subject_col, y_col1, y_col2, x_col):\n",
    "'''\n",
    "saves linear regression slopes, intercepts for every subject in a df.\n",
    "input:\n",
    "    df = df\n",
    "    subjects_list = list of unique subject names\n",
    "    subject_col = name of subject id column\n",
    "    y_col1 = name of first y data column\n",
    "    x_col = name of column with x values \n",
    "output:\n",
    "    regression outputs in dataframe\n",
    "'''\n",
    "slopes = defaultdict()\n",
    "# for each subject\n",
    "for subj in subjects_list:\n",
    "    data = df.loc[ df[subject_col]==subj].copy()\n",
    "    y1=data[y_col1]\n",
    "    x=data[x_col]\n",
    "\n",
    "    # if only one record then skip\n",
    "    if len(data)==1:\n",
    "        continue\n",
    "    # if missing values in x or y then skip\n",
    "    if ~(y1.isnull().any())  or (x.isnull().any()):\n",
    "        y=np.array(y1)\n",
    "        x=np.array(x)\n",
    "        # linregress is part of scipy.stats. \n",
    "        slope, intercept, r_value, p_value, std_err = linregress(x, y)\n",
    "        slopes[subj] = ('fvc percent of normal',slope,intercept)\n",
    "\n",
    "# return the dictionary as a formated dataframe\n",
    "linreg_fvc = pd.DataFrame(slopes).transpose().reset_index()"
   ]
  },
  {
   "cell_type": "code",
   "execution_count": 34,
   "metadata": {},
   "outputs": [],
   "source": [
    "# relabel columns\n",
    "linreg_fvc.rename(index=str, columns={\"index\": \"subject_id\", 0: \"test\" ,1: \"slope\", 2: \"intercept\"}, \n",
    "          inplace=True)"
   ]
  },
  {
   "cell_type": "code",
   "execution_count": 38,
   "metadata": {},
   "outputs": [
    {
     "name": "stdout",
     "output_type": "stream",
     "text": [
      "(4273, 4)\n"
     ]
    },
    {
     "data": {
      "text/html": [
       "<div>\n",
       "<style scoped>\n",
       "    .dataframe tbody tr th:only-of-type {\n",
       "        vertical-align: middle;\n",
       "    }\n",
       "\n",
       "    .dataframe tbody tr th {\n",
       "        vertical-align: top;\n",
       "    }\n",
       "\n",
       "    .dataframe thead th {\n",
       "        text-align: right;\n",
       "    }\n",
       "</style>\n",
       "<table border=\"1\" class=\"dataframe\">\n",
       "  <thead>\n",
       "    <tr style=\"text-align: right;\">\n",
       "      <th></th>\n",
       "      <th>subject_id</th>\n",
       "      <th>test</th>\n",
       "      <th>slope</th>\n",
       "      <th>intercept</th>\n",
       "    </tr>\n",
       "  </thead>\n",
       "  <tbody>\n",
       "    <tr>\n",
       "      <th>0</th>\n",
       "      <td>329</td>\n",
       "      <td>fvc percent of normal</td>\n",
       "      <td>-0.039142</td>\n",
       "      <td>169.547</td>\n",
       "    </tr>\n",
       "    <tr>\n",
       "      <th>1</th>\n",
       "      <td>533</td>\n",
       "      <td>fvc percent of normal</td>\n",
       "      <td>-0.583333</td>\n",
       "      <td>676.75</td>\n",
       "    </tr>\n",
       "    <tr>\n",
       "      <th>2</th>\n",
       "      <td>708</td>\n",
       "      <td>fvc percent of normal</td>\n",
       "      <td>-0.0954166</td>\n",
       "      <td>157.255</td>\n",
       "    </tr>\n",
       "    <tr>\n",
       "      <th>3</th>\n",
       "      <td>902</td>\n",
       "      <td>fvc percent of normal</td>\n",
       "      <td>-0.0497421</td>\n",
       "      <td>119.206</td>\n",
       "    </tr>\n",
       "    <tr>\n",
       "      <th>4</th>\n",
       "      <td>1608</td>\n",
       "      <td>fvc percent of normal</td>\n",
       "      <td>NaN</td>\n",
       "      <td>NaN</td>\n",
       "    </tr>\n",
       "  </tbody>\n",
       "</table>\n",
       "</div>"
      ],
      "text/plain": [
       "   subject_id                   test      slope intercept\n",
       "0         329  fvc percent of normal  -0.039142   169.547\n",
       "1         533  fvc percent of normal  -0.583333    676.75\n",
       "2         708  fvc percent of normal -0.0954166   157.255\n",
       "3         902  fvc percent of normal -0.0497421   119.206\n",
       "4        1608  fvc percent of normal        NaN       NaN"
      ]
     },
     "execution_count": 38,
     "metadata": {},
     "output_type": "execute_result"
    }
   ],
   "source": [
    "print(linreg_fvc.shape)\n",
    "linreg_fvc.head()"
   ]
  },
  {
   "cell_type": "code",
   "execution_count": 50,
   "metadata": {},
   "outputs": [
    {
     "data": {
      "text/plain": [
       "array([1706., 1722., 1748., 1778., 1841., 1895., 1953., 1980.])"
      ]
     },
     "execution_count": 50,
     "metadata": {},
     "output_type": "execute_result"
    }
   ],
   "source": [
    "subj = 329\n",
    "points = fvc_onset[ fvc_onset['subject_id']==subj]\n",
    "line = linreg_fvc[ linreg_fvc['subject_id']==subj]\n",
    "points['day_since_onset'].values\n",
    "points['pct_of_Normal_Trial_1'].values\n",
    "line['intercept'].values\n",
    "line['slope'].values\n",
    "points['day_since_onset'].values"
   ]
  },
  {
   "cell_type": "code",
   "execution_count": 57,
   "metadata": {},
   "outputs": [
    {
     "data": {
      "image/png": "[encoded data removed]",
      "text/plain": [
       "<Figure size 432x288 with 1 Axes>"
      ]
     },
     "metadata": {
      "needs_background": "light"
     },
     "output_type": "display_data"
    },
    {
     "data": {
      "image/png": "[encoded data removed]",
      "text/plain": [
       "<Figure size 432x288 with 1 Axes>"
      ]
     },
     "metadata": {
      "needs_background": "light"
     },
     "output_type": "display_data"
    },
    {
     "data": {
      "image/png": "[encoded data removed]",
      "text/plain": [
       "<Figure size 432x288 with 1 Axes>"
      ]
     },
     "metadata": {
      "needs_background": "light"
     },
     "output_type": "display_data"
    },
    {
     "data": {
      "image/png": "[encoded data removed]",
      "text/plain": [
       "<Figure size 432x288 with 1 Axes>"
      ]
     },
     "metadata": {
      "needs_background": "light"
     },
     "output_type": "display_data"
    },
    {
     "data": {
      "image/png": "[encoded data removed]",
      "text/plain": [
       "<Figure size 432x288 with 1 Axes>"
      ]
     },
     "metadata": {
      "needs_background": "light"
     },
     "output_type": "display_data"
    },
    {
     "data": {
      "image/png": "[encoded data removed]",
      "text/plain": [
       "<Figure size 432x288 with 1 Axes>"
      ]
     },
     "metadata": {
      "needs_background": "light"
     },
     "output_type": "display_data"
    },
    {
     "data": {
      "image/png": "[encoded data removed]",
      "text/plain": [
       "<Figure size 432x288 with 1 Axes>"
      ]
     },
     "metadata": {
      "needs_background": "light"
     },
     "output_type": "display_data"
    },
    {
     "data": {
      "image/png": "[encoded data removed]",
      "text/plain": [
       "<Figure size 432x288 with 1 Axes>"
      ]
     },
     "metadata": {
      "needs_background": "light"
     },
     "output_type": "display_data"
    },
    {
     "data": {
      "image/png": "[encoded data removed]",
      "text/plain": [
       "<Figure size 432x288 with 1 Axes>"
      ]
     },
     "metadata": {
      "needs_background": "light"
     },
     "output_type": "display_data"
    },
    {
     "data": {
      "image/png": "[encoded data removed]",
      "text/plain": [
       "<Figure size 432x288 with 1 Axes>"
      ]
     },
     "metadata": {
      "needs_background": "light"
     },
     "output_type": "display_data"
    }
   ],
   "source": [
    "# plot a few subject's points with linear regression line\n",
    "# note: only takes one assessment\n",
    "subj10 = subjects_list[0:10]\n",
    "for subj in subj10:\n",
    "    points = fvc_onset[ fvc_onset['subject_id']==subj]\n",
    "    line = linreg_fvc[ linreg_fvc['subject_id']==subj]\n",
    "    #plt.plot(points['day_since_onset'].values, points['pct_of_Normal_Trial_1'].values, label=\"actual\")\n",
    "    plt.plot(points['day_since_onset'].values,\n",
    "             line['intercept'].values + line['slope'].values * points['day_since_onset'].values, \n",
    "             '-', label=\"predicted\") \n",
    "    plt.title(\"{} {}\".format(subj,line['test'].values))\n",
    "    #plt.ylim(8,56)\n",
    "    plt.show()"
   ]
  },
  {
   "cell_type": "code",
   "execution_count": null,
   "metadata": {},
   "outputs": [],
   "source": []
  },
  {
   "cell_type": "code",
   "execution_count": null,
   "metadata": {},
   "outputs": [],
   "source": []
  },
  {
   "cell_type": "code",
   "execution_count": null,
   "metadata": {},
   "outputs": [],
   "source": []
  },
  {
   "cell_type": "code",
   "execution_count": null,
   "metadata": {},
   "outputs": [],
   "source": []
  },
  {
   "cell_type": "code",
   "execution_count": 16,
   "metadata": {},
   "outputs": [],
   "source": [
    "# save the clean file\n",
    "filename = 'clean_data/fvc.csv'\n",
    "fvc.to_csv(filename, index=False)"
   ]
  },
  {
   "cell_type": "code",
   "execution_count": null,
   "metadata": {},
   "outputs": [],
   "source": []
  }
 ],
 "metadata": {
  "kernelspec": {
   "display_name": "Python 3",
   "language": "python",
   "name": "python3"
  },
  "language_info": {
   "codemirror_mode": {
    "name": "ipython",
    "version": 3
   },
   "file_extension": ".py",
   "mimetype": "text/x-python",
   "name": "python",
   "nbconvert_exporter": "python",
   "pygments_lexer": "ipython3",
   "version": "3.6.8"
  }
 },
 "nbformat": 4,
 "nbformat_minor": 2
}
