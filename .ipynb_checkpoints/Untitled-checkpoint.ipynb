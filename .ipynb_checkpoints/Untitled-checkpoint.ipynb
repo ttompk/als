{
 "cells": [
  {
   "cell_type": "markdown",
   "metadata": {},
   "source": [
    "# \n",
    "\n",
    "### "
   ]
  },
  {
   "cell_type": "code",
   "execution_count": 1,
   "metadata": {},
   "outputs": [],
   "source": [
    "import numpy as np\n",
    "import pandas as pd\n",
    "import matplotlib.pyplot as plt\n",
    "import seaborn as sn"
   ]
  },
  {
   "cell_type": "code",
   "execution_count": 3,
   "metadata": {},
   "outputs": [],
   "source": [
    "from datetime import date\n",
    "from datetime import timedelta as td\n",
    "from datetime import datetime as dt"
   ]
  },
  {
   "cell_type": "code",
   "execution_count": 4,
   "metadata": {},
   "outputs": [],
   "source": [
    "%load_ext autoreload\n",
    "%autoreload 2"
   ]
  },
  {
   "cell_type": "markdown",
   "metadata": {},
   "source": [
    "## functions"
   ]
  },
  {
   "cell_type": "code",
   "execution_count": null,
   "metadata": {},
   "outputs": [],
   "source": []
  },
  {
   "cell_type": "markdown",
   "metadata": {},
   "source": [
    "## "
   ]
  },
  {
   "cell_type": "code",
   "execution_count": 14,
   "metadata": {},
   "outputs": [],
   "source": [
    "d2 = date.today()"
   ]
  },
  {
   "cell_type": "code",
   "execution_count": 17,
   "metadata": {},
   "outputs": [],
   "source": [
    "d1 = date(2019,4,1)"
   ]
  },
  {
   "cell_type": "code",
   "execution_count": 18,
   "metadata": {},
   "outputs": [
    {
     "data": {
      "text/plain": [
       "7"
      ]
     },
     "execution_count": 18,
     "metadata": {},
     "output_type": "execute_result"
    }
   ],
   "source": [
    "(d2-d1).days"
   ]
  },
  {
   "cell_type": "code",
   "execution_count": 23,
   "metadata": {},
   "outputs": [
    {
     "name": "stdout",
     "output_type": "stream",
     "text": [
      "0 1\n",
      "1 3\n",
      "2 4\n"
     ]
    }
   ],
   "source": [
    "this = [1,3, 4]\n",
    "for i, val in enumerate(this):\n",
    "    print(i, val)"
   ]
  },
  {
   "cell_type": "code",
   "execution_count": 24,
   "metadata": {},
   "outputs": [],
   "source": [
    "alsfrs_entries = {'test': ['onset', 'test1', 'test2', 'test3', 'test4', 'test5', 'test6'], \n",
    "                  'day_from_onset':[0, \"\",\"\",\"\",\"\",\"\",\"\"] }\n",
    "df = pd.DataFrame(alsfrs_entries)"
   ]
  },
  {
   "cell_type": "code",
   "execution_count": 25,
   "metadata": {},
   "outputs": [],
   "source": [
    "for i, alsfrs_entries in enumerate(this):\n",
    "    df['day_from_onset'].iloc[i] = 0-i"
   ]
  },
  {
   "cell_type": "code",
   "execution_count": 26,
   "metadata": {},
   "outputs": [
    {
     "data": {
      "text/html": [
       "<div>\n",
       "<style scoped>\n",
       "    .dataframe tbody tr th:only-of-type {\n",
       "        vertical-align: middle;\n",
       "    }\n",
       "\n",
       "    .dataframe tbody tr th {\n",
       "        vertical-align: top;\n",
       "    }\n",
       "\n",
       "    .dataframe thead th {\n",
       "        text-align: right;\n",
       "    }\n",
       "</style>\n",
       "<table border=\"1\" class=\"dataframe\">\n",
       "  <thead>\n",
       "    <tr style=\"text-align: right;\">\n",
       "      <th></th>\n",
       "      <th>test</th>\n",
       "      <th>day_from_onset</th>\n",
       "    </tr>\n",
       "  </thead>\n",
       "  <tbody>\n",
       "    <tr>\n",
       "      <th>0</th>\n",
       "      <td>onset</td>\n",
       "      <td>0</td>\n",
       "    </tr>\n",
       "    <tr>\n",
       "      <th>1</th>\n",
       "      <td>test1</td>\n",
       "      <td>-1</td>\n",
       "    </tr>\n",
       "    <tr>\n",
       "      <th>2</th>\n",
       "      <td>test2</td>\n",
       "      <td>-2</td>\n",
       "    </tr>\n",
       "    <tr>\n",
       "      <th>3</th>\n",
       "      <td>test3</td>\n",
       "      <td></td>\n",
       "    </tr>\n",
       "    <tr>\n",
       "      <th>4</th>\n",
       "      <td>test4</td>\n",
       "      <td></td>\n",
       "    </tr>\n",
       "  </tbody>\n",
       "</table>\n",
       "</div>"
      ],
      "text/plain": [
       "    test day_from_onset\n",
       "0  onset              0\n",
       "1  test1             -1\n",
       "2  test2             -2\n",
       "3  test3               \n",
       "4  test4               "
      ]
     },
     "execution_count": 26,
     "metadata": {},
     "output_type": "execute_result"
    }
   ],
   "source": [
    "df.head()"
   ]
  },
  {
   "cell_type": "code",
   "execution_count": 27,
   "metadata": {},
   "outputs": [
    {
     "data": {
      "text/html": [
       "<div>\n",
       "<style scoped>\n",
       "    .dataframe tbody tr th:only-of-type {\n",
       "        vertical-align: middle;\n",
       "    }\n",
       "\n",
       "    .dataframe tbody tr th {\n",
       "        vertical-align: top;\n",
       "    }\n",
       "\n",
       "    .dataframe thead th {\n",
       "        text-align: right;\n",
       "    }\n",
       "</style>\n",
       "<table border=\"1\" class=\"dataframe\">\n",
       "  <thead>\n",
       "    <tr style=\"text-align: right;\">\n",
       "      <th></th>\n",
       "      <th>Subject_used_Riluzole</th>\n",
       "      <th>Race_Caucasian</th>\n",
       "      <th>age_at_onset</th>\n",
       "      <th>symptom_weakness</th>\n",
       "      <th>loc_spinal</th>\n",
       "      <th>loc_speech_or_mouth</th>\n",
       "      <th>slope_updated_ALSFRS_Total</th>\n",
       "      <th>slope_Q1_Speech</th>\n",
       "      <th>slope_Q2_Salivation</th>\n",
       "      <th>slope_Q3_Swallowing</th>\n",
       "      <th>slope_Q4_Handwriting</th>\n",
       "      <th>slope_Q6_Dressing_and_Hygiene</th>\n",
       "      <th>slope_Q7_Turning_in_Bed</th>\n",
       "      <th>slope_Q8_Walking</th>\n",
       "      <th>slope_Q9_Climbing_Stairs</th>\n",
       "      <th>slope_Q10_Updated</th>\n",
       "    </tr>\n",
       "  </thead>\n",
       "  <tbody>\n",
       "    <tr>\n",
       "      <th>0</th>\n",
       "      <td>1.000000</td>\n",
       "      <td>1.000000</td>\n",
       "      <td>62.789041</td>\n",
       "      <td>1.000000</td>\n",
       "      <td>1.00000</td>\n",
       "      <td>0.000000</td>\n",
       "      <td>0.00000</td>\n",
       "      <td>0.000000</td>\n",
       "      <td>0.000000</td>\n",
       "      <td>0.000000</td>\n",
       "      <td>0.000000</td>\n",
       "      <td>0.000000</td>\n",
       "      <td>0.000000</td>\n",
       "      <td>0.000000</td>\n",
       "      <td>0.000000</td>\n",
       "      <td>0.000000</td>\n",
       "    </tr>\n",
       "    <tr>\n",
       "      <th>1</th>\n",
       "      <td>0.796199</td>\n",
       "      <td>0.621992</td>\n",
       "      <td>57.514399</td>\n",
       "      <td>0.870662</td>\n",
       "      <td>0.79991</td>\n",
       "      <td>0.222172</td>\n",
       "      <td>-0.02324</td>\n",
       "      <td>-0.001933</td>\n",
       "      <td>-0.001399</td>\n",
       "      <td>-0.001536</td>\n",
       "      <td>-0.002405</td>\n",
       "      <td>-0.003094</td>\n",
       "      <td>-0.002486</td>\n",
       "      <td>-0.002573</td>\n",
       "      <td>-0.003675</td>\n",
       "      <td>-0.001216</td>\n",
       "    </tr>\n",
       "  </tbody>\n",
       "</table>\n",
       "</div>"
      ],
      "text/plain": [
       "   Subject_used_Riluzole  Race_Caucasian  age_at_onset  symptom_weakness  \\\n",
       "0               1.000000        1.000000     62.789041          1.000000   \n",
       "1               0.796199        0.621992     57.514399          0.870662   \n",
       "\n",
       "   loc_spinal  loc_speech_or_mouth  slope_updated_ALSFRS_Total  \\\n",
       "0     1.00000             0.000000                     0.00000   \n",
       "1     0.79991             0.222172                    -0.02324   \n",
       "\n",
       "   slope_Q1_Speech  slope_Q2_Salivation  slope_Q3_Swallowing  \\\n",
       "0         0.000000             0.000000             0.000000   \n",
       "1        -0.001933            -0.001399            -0.001536   \n",
       "\n",
       "   slope_Q4_Handwriting  slope_Q6_Dressing_and_Hygiene  \\\n",
       "0              0.000000                       0.000000   \n",
       "1             -0.002405                      -0.003094   \n",
       "\n",
       "   slope_Q7_Turning_in_Bed  slope_Q8_Walking  slope_Q9_Climbing_Stairs  \\\n",
       "0                 0.000000          0.000000                  0.000000   \n",
       "1                -0.002486         -0.002573                 -0.003675   \n",
       "\n",
       "   slope_Q10_Updated  \n",
       "0           0.000000  \n",
       "1          -0.001216  "
      ]
     },
     "execution_count": 27,
     "metadata": {},
     "output_type": "execute_result"
    }
   ],
   "source": [
    "pd.read_csv(\"website/baseline_df.csv\")"
   ]
  },
  {
   "cell_type": "code",
   "execution_count": 137,
   "metadata": {},
   "outputs": [],
   "source": [
    "from collections import defaultdict\n",
    "from scipy.stats import linregress\n",
    "\n",
    "def linreg_scalers(df):\n",
    "    '''\n",
    "    creates linear regression slopes, intercepts for every alsfrs value in a df.\n",
    "    input:\n",
    "        df = df\n",
    "        subject_col = name of subject id column\n",
    "        y_col = name of first y data column\n",
    "        x_col = name of column with x values\n",
    "        y_label = name of y feature (for table output)\n",
    "    output:\n",
    "        regression outputs in dataframe\n",
    "    '''\n",
    "    slopes = defaultdict()\n",
    "    \n",
    "    # list of every subject in table \n",
    "    #subjects_list = list(np.unique(df[subject_col]))\n",
    "    \n",
    "    # format df for analysis\n",
    "    df.dropna(inplace=True)\n",
    "    x=np.array(df['day'])\n",
    "    \n",
    "    #df.drop(['date','test', 'day_from_onset', 'R2', 'R3'], axis=1, inplace=True)\n",
    "    #df['ALSFRS_Total'] = df.sum(axis=1)\n",
    "    \n",
    "    # for each question\n",
    "    for q in list(df.columns):\n",
    "        y = np.array(df[q].copy())\n",
    "        \n",
    "        # linregress is part of scipy.stats. \n",
    "        slope, intercept, r_value, p_value, std_err = linregress(x, y)\n",
    "        slopes[q] = (q, slope, intercept)\n",
    "\n",
    "    # format as dataframe\n",
    "    full_result = pd.DataFrame(slopes).reset_index(drop=True)\n",
    "    full_result.rename(index=str, columns={\"index\": \"subject_id\", \n",
    "                                           0: 'Q1' ,\n",
    "                                           1: 'Q2', \n",
    "                                           2: 'Q3',\n",
    "                                           3: 'Q4',\n",
    "                                           4: 'Q6',\n",
    "                                           5: 'Q7',\n",
    "                                           6: 'Q8',\n",
    "                                           7: 'Q9',\n",
    "                                           8: 'Q10-R1',\n",
    "                                           9: 'ALSFRS_Total'\n",
    "                                          }, inplace=True)\n",
    "    #full_result.drop('day')\n",
    "    \n",
    "    # return table\n",
    "    return full_result"
   ]
  },
  {
   "cell_type": "code",
   "execution_count": 167,
   "metadata": {},
   "outputs": [],
   "source": [
    "this = pd.DataFrame({\"day\": [\"start\",\"fin\"],\n",
    "                    \"q1\": [4, 4],\n",
    "                    \"q2\": [3, 10]})\n"
   ]
  },
  {
   "cell_type": "code",
   "execution_count": 168,
   "metadata": {},
   "outputs": [
    {
     "data": {
      "text/html": [
       "<div>\n",
       "<style scoped>\n",
       "    .dataframe tbody tr th:only-of-type {\n",
       "        vertical-align: middle;\n",
       "    }\n",
       "\n",
       "    .dataframe tbody tr th {\n",
       "        vertical-align: top;\n",
       "    }\n",
       "\n",
       "    .dataframe thead th {\n",
       "        text-align: right;\n",
       "    }\n",
       "</style>\n",
       "<table border=\"1\" class=\"dataframe\">\n",
       "  <thead>\n",
       "    <tr style=\"text-align: right;\">\n",
       "      <th></th>\n",
       "      <th>day</th>\n",
       "      <th>q1</th>\n",
       "      <th>q2</th>\n",
       "    </tr>\n",
       "  </thead>\n",
       "  <tbody>\n",
       "    <tr>\n",
       "      <th>0</th>\n",
       "      <td>start</td>\n",
       "      <td>4</td>\n",
       "      <td>3</td>\n",
       "    </tr>\n",
       "    <tr>\n",
       "      <th>1</th>\n",
       "      <td>fin</td>\n",
       "      <td>4</td>\n",
       "      <td>10</td>\n",
       "    </tr>\n",
       "  </tbody>\n",
       "</table>\n",
       "</div>"
      ],
      "text/plain": [
       "     day  q1  q2\n",
       "0  start   4   3\n",
       "1    fin   4  10"
      ]
     },
     "execution_count": 168,
     "metadata": {},
     "output_type": "execute_result"
    }
   ],
   "source": [
    "this"
   ]
  },
  {
   "cell_type": "code",
   "execution_count": 170,
   "metadata": {},
   "outputs": [
    {
     "data": {
      "text/plain": [
       "4.0"
      ]
     },
     "execution_count": 170,
     "metadata": {},
     "output_type": "execute_result"
    }
   ],
   "source": [
    "float(this['q1'].loc[this['day']=='fin'])"
   ]
  },
  {
   "cell_type": "code",
   "execution_count": 166,
   "metadata": {},
   "outputs": [
    {
     "data": {
      "text/plain": [
       "'q2'"
      ]
     },
     "execution_count": 166,
     "metadata": {},
     "output_type": "execute_result"
    }
   ],
   "source": [
    "this['day'].iloc[1]"
   ]
  },
  {
   "cell_type": "code",
   "execution_count": null,
   "metadata": {},
   "outputs": [],
   "source": []
  },
  {
   "cell_type": "code",
   "execution_count": null,
   "metadata": {},
   "outputs": [],
   "source": []
  },
  {
   "cell_type": "code",
   "execution_count": null,
   "metadata": {},
   "outputs": [],
   "source": [
    "        question       slope intercept\n",
    "0             Q1   -0.142857         4\n",
    "1             Q2   -0.142857         4\n",
    "2             Q3   -0.142857         4\n",
    "3             Q4   -0.142857         4\n",
    "4             Q5   -0.142857         4\n",
    "5             Q6   -0.142857         4\n",
    "6             Q7   -0.142857         4\n",
    "7             Q8   -0.142857         4\n",
    "8             Q9   -0.142857         4\n",
    "9         Q10_R1   -0.142857         4\n",
    "10  ALSFRS_Total  4.7619e+08        40\n"
   ]
  },
  {
   "cell_type": "code",
   "execution_count": null,
   "metadata": {},
   "outputs": [],
   "source": [
    "# symptom selection\n",
    "def symptom_handler(new):\n",
    "    print ('Symptom selection ' + str(new) + ' selected.')\n",
    "symptom = Select(title=\"Symptom Type:\", value=\"Unknown\", \n",
    "                 options=[\"Unknown\", \"Sensory changes\", \"Speech\", \n",
    "                          \"Stiffness\", \"Swallowing\",\n",
    "                         'Weakness', 'Atrophy', 'Cramps',\n",
    "                         'Fasciculations', \"Gait changes\"])\n",
    "\n",
    "# onset radio button\n",
    "def onset_loc_handler(new):\n",
    "    print ('Radio button option' + str(new) + ' selected.')\n",
    "pp_onset = Paragraph(text=\"\"\"Onset Neuron Group\"\"\", width=250, height=15)\n",
    "onset_loc = RadioButtonGroup(labels=[\"Bulbar\", \"Spinal\", \"Both\", \"*Unk\"], active=3)\n",
    "#onset_loc.on_click(onset_loc_handler)\n",
    "\n",
    "# riluzole radio button\n",
    "def riluzole_handler(new):\n",
    "    print ('Radio button option ' + str(new) + ' selected.')\n",
    "pp_riluzole = Paragraph(text=\"\"\"Subject used Riluzole\"\"\", width=250, height=15)\n",
    "riluzole = RadioButtonGroup(labels=[\"No\", \"Yes\", \"*Unk\"], active=2)\n",
    "riluzole.on_click(onset_loc_handler)\n",
    "\n",
    "# caucasian radio button\n",
    "def caucasian_handler(new):\n",
    "    print ('Radio button option ' + str(new) + ' selected.')\n",
    "pp_caucasian = Paragraph(text=\"\"\"Race Caucasian\"\"\", width=250, height=15)\n",
    "caucasian = RadioButtonGroup(labels=[\"No\", \"Yes\", \"*Unk\"], active=2) \n",
    "caucasian.on_click(caucasian_handler)\n",
    "\n",
    "# sex radio button\n",
    "def sex_handler(new):\n",
    "    print ('Radio button option ' + str(new) + ' selected.')\n",
    "pp_sex = Paragraph(text=\"\"\"Sex\"\"\", width=250, height=15)\n",
    "sex = RadioButtonGroup(labels=[\"Female\", \"Male\", \"*Unk\"], active=2)\n",
    "sex.on_click(sex_handler)\n",
    "\n",
    "\n"
   ]
  }
 ],
 "metadata": {
  "kernelspec": {
   "display_name": "Python 3",
   "language": "python",
   "name": "python3"
  },
  "language_info": {
   "codemirror_mode": {
    "name": "ipython",
    "version": 3
   },
   "file_extension": ".py",
   "mimetype": "text/x-python",
   "name": "python",
   "nbconvert_exporter": "python",
   "pygments_lexer": "ipython3",
   "version": "3.6.8"
  }
 },
 "nbformat": 4,
 "nbformat_minor": 2
}
