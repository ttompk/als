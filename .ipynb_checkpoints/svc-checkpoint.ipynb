{
 "cells": [
  {
   "cell_type": "markdown",
   "metadata": {},
   "source": [
    "# ALS Project\n",
    "\n",
    "## SVC"
   ]
  },
  {
   "cell_type": "code",
   "execution_count": 1,
   "metadata": {},
   "outputs": [],
   "source": [
    "import numpy as np\n",
    "import pandas as pd\n",
    "import matplotlib.pyplot as plt\n",
    "import seaborn as sn"
   ]
  },
  {
   "cell_type": "code",
   "execution_count": 2,
   "metadata": {},
   "outputs": [],
   "source": [
    "%load_ext autoreload\n",
    "%autoreload 2"
   ]
  },
  {
   "cell_type": "markdown",
   "metadata": {},
   "source": [
    "## functions"
   ]
  },
  {
   "cell_type": "code",
   "execution_count": 32,
   "metadata": {},
   "outputs": [],
   "source": [
    "from collections import defaultdict\n",
    "from scipy.stats import linregress\n",
    "def linreg_scalers(df, subject_col, y_col, x_col, y_label):\n",
    "    '''\n",
    "    creates linear regression slopes, intercepts for every subject in a df.\n",
    "    input:\n",
    "        df = df\n",
    "        subjects_list = list of unique subject names\n",
    "        subject_col = name of subject id column\n",
    "        y_col1 = name of first y data column\n",
    "        x_col = name of column with x values \n",
    "    output:\n",
    "        regression outputs in dataframe\n",
    "    '''\n",
    "    slopes = defaultdict()\n",
    "    \n",
    "    # list of every subject in table \n",
    "    subjects_list = list(np.unique(df[subject_col]))\n",
    "    \n",
    "    # for each subject\n",
    "    for subj in subjects_list:\n",
    "        data = df.loc[ df[subject_col]==subj].copy()\n",
    "        y=data[y_col]\n",
    "        x=data[x_col]\n",
    "\n",
    "        # if only one record then skip\n",
    "        if len(data)==1:\n",
    "            continue\n",
    "        # if missing values in x or y then skip\n",
    "        if ~(y.isnull().any())  or (x.isnull().any()):\n",
    "            y=np.array(y)\n",
    "            x=np.array(x)\n",
    "            # linregress is part of scipy.stats. \n",
    "            slope, intercept, r_value, p_value, std_err = linregress(x, y)\n",
    "            slopes[subj] = (y_label, slope, intercept)\n",
    "\n",
    "    # format as dataframe\n",
    "    full_result = pd.DataFrame(slopes).transpose().reset_index()\n",
    "    \n",
    "    # relabel columns\n",
    "    s_label = \"slope_\" + y_label \n",
    "    i_label = \"intercept_\" + y_label\n",
    "    full_result.rename(index=str, columns={\"index\": \"subject_id\", \n",
    "                                      0: \"test\" ,1: s_label, \n",
    "                                      2: i_label }, inplace=True)\n",
    "    \n",
    "    # make small table\n",
    "    mini_table = slope_mini_table(full_result.copy(), i_label)\n",
    "    \n",
    "    # return table\n",
    "    return full_result, mini_table\n",
    "\n",
    "def slope_mini_table(df, i_label):\n",
    "    df.drop(['test', i_label], axis=1, inplace=True)\n",
    "    df.dropna(axis=0, inplace=True)\n",
    "    df.reset_index(drop=True, inplace=True)\n",
    "    return df"
   ]
  },
  {
   "cell_type": "markdown",
   "metadata": {},
   "source": [
    "## "
   ]
  },
  {
   "cell_type": "markdown",
   "metadata": {},
   "source": [
    "## SVC"
   ]
  },
  {
   "cell_type": "code",
   "execution_count": 3,
   "metadata": {},
   "outputs": [],
   "source": [
    "svc = pd.read_csv(\"data/Svc.csv\")"
   ]
  },
  {
   "cell_type": "code",
   "execution_count": 4,
   "metadata": {},
   "outputs": [
    {
     "name": "stdout",
     "output_type": "stream",
     "text": [
      "(9525, 10)\n"
     ]
    },
    {
     "data": {
      "text/html": [
       "<div>\n",
       "<style scoped>\n",
       "    .dataframe tbody tr th:only-of-type {\n",
       "        vertical-align: middle;\n",
       "    }\n",
       "\n",
       "    .dataframe tbody tr th {\n",
       "        vertical-align: top;\n",
       "    }\n",
       "\n",
       "    .dataframe thead th {\n",
       "        text-align: right;\n",
       "    }\n",
       "</style>\n",
       "<table border=\"1\" class=\"dataframe\">\n",
       "  <thead>\n",
       "    <tr style=\"text-align: right;\">\n",
       "      <th></th>\n",
       "      <th>subject_id</th>\n",
       "      <th>Subject_Liters_Trial_1</th>\n",
       "      <th>pct_of_Normal_Trial_1</th>\n",
       "      <th>Subject_Liters__Trial_2_</th>\n",
       "      <th>pct_of_Normal_Trial_2</th>\n",
       "      <th>Subject_Liters__Trial_3_</th>\n",
       "      <th>pct_of_Normal_Trial_3</th>\n",
       "      <th>Subject_Normal</th>\n",
       "      <th>Slow_vital_Capacity_Delta</th>\n",
       "      <th>Slow_Vital_Capacity_Units</th>\n",
       "    </tr>\n",
       "  </thead>\n",
       "  <tbody>\n",
       "    <tr>\n",
       "      <th>0</th>\n",
       "      <td>89</td>\n",
       "      <td>3.29</td>\n",
       "      <td>NaN</td>\n",
       "      <td>NaN</td>\n",
       "      <td>NaN</td>\n",
       "      <td>NaN</td>\n",
       "      <td>NaN</td>\n",
       "      <td>3.97</td>\n",
       "      <td>NaN</td>\n",
       "      <td>NaN</td>\n",
       "    </tr>\n",
       "    <tr>\n",
       "      <th>1</th>\n",
       "      <td>348</td>\n",
       "      <td>3.00</td>\n",
       "      <td>83.0</td>\n",
       "      <td>NaN</td>\n",
       "      <td>NaN</td>\n",
       "      <td>NaN</td>\n",
       "      <td>NaN</td>\n",
       "      <td>NaN</td>\n",
       "      <td>0.0</td>\n",
       "      <td>NaN</td>\n",
       "    </tr>\n",
       "    <tr>\n",
       "      <th>2</th>\n",
       "      <td>348</td>\n",
       "      <td>3.00</td>\n",
       "      <td>81.0</td>\n",
       "      <td>NaN</td>\n",
       "      <td>NaN</td>\n",
       "      <td>NaN</td>\n",
       "      <td>NaN</td>\n",
       "      <td>NaN</td>\n",
       "      <td>4.0</td>\n",
       "      <td>NaN</td>\n",
       "    </tr>\n",
       "    <tr>\n",
       "      <th>3</th>\n",
       "      <td>348</td>\n",
       "      <td>3.00</td>\n",
       "      <td>81.0</td>\n",
       "      <td>NaN</td>\n",
       "      <td>NaN</td>\n",
       "      <td>NaN</td>\n",
       "      <td>NaN</td>\n",
       "      <td>NaN</td>\n",
       "      <td>61.0</td>\n",
       "      <td>NaN</td>\n",
       "    </tr>\n",
       "    <tr>\n",
       "      <th>4</th>\n",
       "      <td>348</td>\n",
       "      <td>2.00</td>\n",
       "      <td>78.0</td>\n",
       "      <td>NaN</td>\n",
       "      <td>NaN</td>\n",
       "      <td>NaN</td>\n",
       "      <td>NaN</td>\n",
       "      <td>NaN</td>\n",
       "      <td>120.0</td>\n",
       "      <td>NaN</td>\n",
       "    </tr>\n",
       "  </tbody>\n",
       "</table>\n",
       "</div>"
      ],
      "text/plain": [
       "   subject_id  Subject_Liters_Trial_1  pct_of_Normal_Trial_1  \\\n",
       "0          89                    3.29                    NaN   \n",
       "1         348                    3.00                   83.0   \n",
       "2         348                    3.00                   81.0   \n",
       "3         348                    3.00                   81.0   \n",
       "4         348                    2.00                   78.0   \n",
       "\n",
       "   Subject_Liters__Trial_2_  pct_of_Normal_Trial_2  Subject_Liters__Trial_3_  \\\n",
       "0                       NaN                    NaN                       NaN   \n",
       "1                       NaN                    NaN                       NaN   \n",
       "2                       NaN                    NaN                       NaN   \n",
       "3                       NaN                    NaN                       NaN   \n",
       "4                       NaN                    NaN                       NaN   \n",
       "\n",
       "   pct_of_Normal_Trial_3  Subject_Normal  Slow_vital_Capacity_Delta  \\\n",
       "0                    NaN            3.97                        NaN   \n",
       "1                    NaN             NaN                        0.0   \n",
       "2                    NaN             NaN                        4.0   \n",
       "3                    NaN             NaN                       61.0   \n",
       "4                    NaN             NaN                      120.0   \n",
       "\n",
       "   Slow_Vital_Capacity_Units  \n",
       "0                        NaN  \n",
       "1                        NaN  \n",
       "2                        NaN  \n",
       "3                        NaN  \n",
       "4                        NaN  "
      ]
     },
     "execution_count": 4,
     "metadata": {},
     "output_type": "execute_result"
    }
   ],
   "source": [
    "print(svc.shape)\n",
    "svc.head()"
   ]
  },
  {
   "cell_type": "code",
   "execution_count": 6,
   "metadata": {},
   "outputs": [],
   "source": [
    "# change Forced_Vital_Capacity_Delta to study day\n",
    "svc['study_day'] = svc['Slow_vital_Capacity_Delta']\n",
    "svc.drop('Slow_vital_Capacity_Delta', axis=1, inplace=True)"
   ]
  },
  {
   "cell_type": "code",
   "execution_count": 7,
   "metadata": {},
   "outputs": [
    {
     "name": "stderr",
     "output_type": "stream",
     "text": [
      "/Applications/anaconda3/lib/python3.6/site-packages/numpy/lib/histograms.py:754: RuntimeWarning: invalid value encountered in greater_equal\n",
      "  keep = (tmp_a >= first_edge)\n",
      "/Applications/anaconda3/lib/python3.6/site-packages/numpy/lib/histograms.py:755: RuntimeWarning: invalid value encountered in less_equal\n",
      "  keep &= (tmp_a <= last_edge)\n"
     ]
    },
    {
     "data": {
      "image/png": "[encoded data removed]",
      "text/plain": [
       "<Figure size 432x288 with 1 Axes>"
      ]
     },
     "metadata": {
      "needs_background": "light"
     },
     "output_type": "display_data"
    }
   ],
   "source": [
    "# hist of study days for fvc\n",
    "plt.hist(svc['study_day'], bins=100, rwidth=0.9)\n",
    "plt.show()"
   ]
  },
  {
   "cell_type": "code",
   "execution_count": 8,
   "metadata": {},
   "outputs": [
    {
     "name": "stdout",
     "output_type": "stream",
     "text": [
      "(9525, 10)\n"
     ]
    },
    {
     "data": {
      "text/html": [
       "<div>\n",
       "<style scoped>\n",
       "    .dataframe tbody tr th:only-of-type {\n",
       "        vertical-align: middle;\n",
       "    }\n",
       "\n",
       "    .dataframe tbody tr th {\n",
       "        vertical-align: top;\n",
       "    }\n",
       "\n",
       "    .dataframe thead th {\n",
       "        text-align: right;\n",
       "    }\n",
       "</style>\n",
       "<table border=\"1\" class=\"dataframe\">\n",
       "  <thead>\n",
       "    <tr style=\"text-align: right;\">\n",
       "      <th></th>\n",
       "      <th>subject_id</th>\n",
       "      <th>Subject_Liters_Trial_1</th>\n",
       "      <th>pct_of_Normal_Trial_1</th>\n",
       "      <th>Subject_Liters__Trial_2_</th>\n",
       "      <th>pct_of_Normal_Trial_2</th>\n",
       "      <th>Subject_Liters__Trial_3_</th>\n",
       "      <th>pct_of_Normal_Trial_3</th>\n",
       "      <th>Subject_Normal</th>\n",
       "      <th>Slow_Vital_Capacity_Units</th>\n",
       "      <th>study_day</th>\n",
       "    </tr>\n",
       "  </thead>\n",
       "  <tbody>\n",
       "    <tr>\n",
       "      <th>0</th>\n",
       "      <td>89</td>\n",
       "      <td>3.29</td>\n",
       "      <td>NaN</td>\n",
       "      <td>NaN</td>\n",
       "      <td>NaN</td>\n",
       "      <td>NaN</td>\n",
       "      <td>NaN</td>\n",
       "      <td>3.97</td>\n",
       "      <td>NaN</td>\n",
       "      <td>NaN</td>\n",
       "    </tr>\n",
       "    <tr>\n",
       "      <th>1</th>\n",
       "      <td>348</td>\n",
       "      <td>3.00</td>\n",
       "      <td>83.0</td>\n",
       "      <td>NaN</td>\n",
       "      <td>NaN</td>\n",
       "      <td>NaN</td>\n",
       "      <td>NaN</td>\n",
       "      <td>NaN</td>\n",
       "      <td>NaN</td>\n",
       "      <td>0.0</td>\n",
       "    </tr>\n",
       "    <tr>\n",
       "      <th>2</th>\n",
       "      <td>348</td>\n",
       "      <td>3.00</td>\n",
       "      <td>81.0</td>\n",
       "      <td>NaN</td>\n",
       "      <td>NaN</td>\n",
       "      <td>NaN</td>\n",
       "      <td>NaN</td>\n",
       "      <td>NaN</td>\n",
       "      <td>NaN</td>\n",
       "      <td>4.0</td>\n",
       "    </tr>\n",
       "    <tr>\n",
       "      <th>3</th>\n",
       "      <td>348</td>\n",
       "      <td>3.00</td>\n",
       "      <td>81.0</td>\n",
       "      <td>NaN</td>\n",
       "      <td>NaN</td>\n",
       "      <td>NaN</td>\n",
       "      <td>NaN</td>\n",
       "      <td>NaN</td>\n",
       "      <td>NaN</td>\n",
       "      <td>61.0</td>\n",
       "    </tr>\n",
       "    <tr>\n",
       "      <th>4</th>\n",
       "      <td>348</td>\n",
       "      <td>2.00</td>\n",
       "      <td>78.0</td>\n",
       "      <td>NaN</td>\n",
       "      <td>NaN</td>\n",
       "      <td>NaN</td>\n",
       "      <td>NaN</td>\n",
       "      <td>NaN</td>\n",
       "      <td>NaN</td>\n",
       "      <td>120.0</td>\n",
       "    </tr>\n",
       "  </tbody>\n",
       "</table>\n",
       "</div>"
      ],
      "text/plain": [
       "   subject_id  Subject_Liters_Trial_1  pct_of_Normal_Trial_1  \\\n",
       "0          89                    3.29                    NaN   \n",
       "1         348                    3.00                   83.0   \n",
       "2         348                    3.00                   81.0   \n",
       "3         348                    3.00                   81.0   \n",
       "4         348                    2.00                   78.0   \n",
       "\n",
       "   Subject_Liters__Trial_2_  pct_of_Normal_Trial_2  Subject_Liters__Trial_3_  \\\n",
       "0                       NaN                    NaN                       NaN   \n",
       "1                       NaN                    NaN                       NaN   \n",
       "2                       NaN                    NaN                       NaN   \n",
       "3                       NaN                    NaN                       NaN   \n",
       "4                       NaN                    NaN                       NaN   \n",
       "\n",
       "   pct_of_Normal_Trial_3  Subject_Normal  Slow_Vital_Capacity_Units  study_day  \n",
       "0                    NaN            3.97                        NaN        NaN  \n",
       "1                    NaN             NaN                        NaN        0.0  \n",
       "2                    NaN             NaN                        NaN        4.0  \n",
       "3                    NaN             NaN                        NaN       61.0  \n",
       "4                    NaN             NaN                        NaN      120.0  "
      ]
     },
     "execution_count": 8,
     "metadata": {},
     "output_type": "execute_result"
    }
   ],
   "source": [
    "print(svc.shape)\n",
    "svc.head()"
   ]
  },
  {
   "cell_type": "markdown",
   "metadata": {},
   "source": [
    "### Add onset data"
   ]
  },
  {
   "cell_type": "code",
   "execution_count": 9,
   "metadata": {},
   "outputs": [],
   "source": [
    "# add the onset date data\n",
    "onset = pd.read_csv(\"clean_data/onset_date.csv\")"
   ]
  },
  {
   "cell_type": "code",
   "execution_count": 10,
   "metadata": {},
   "outputs": [],
   "source": [
    "svc_onset = svc.merge(onset, how='left', on='subject_id')"
   ]
  },
  {
   "cell_type": "code",
   "execution_count": 11,
   "metadata": {},
   "outputs": [
    {
     "name": "stdout",
     "output_type": "stream",
     "text": [
      "(9525, 11)\n"
     ]
    },
    {
     "data": {
      "text/html": [
       "<div>\n",
       "<style scoped>\n",
       "    .dataframe tbody tr th:only-of-type {\n",
       "        vertical-align: middle;\n",
       "    }\n",
       "\n",
       "    .dataframe tbody tr th {\n",
       "        vertical-align: top;\n",
       "    }\n",
       "\n",
       "    .dataframe thead th {\n",
       "        text-align: right;\n",
       "    }\n",
       "</style>\n",
       "<table border=\"1\" class=\"dataframe\">\n",
       "  <thead>\n",
       "    <tr style=\"text-align: right;\">\n",
       "      <th></th>\n",
       "      <th>subject_id</th>\n",
       "      <th>Subject_Liters_Trial_1</th>\n",
       "      <th>pct_of_Normal_Trial_1</th>\n",
       "      <th>Subject_Liters__Trial_2_</th>\n",
       "      <th>pct_of_Normal_Trial_2</th>\n",
       "      <th>Subject_Liters__Trial_3_</th>\n",
       "      <th>pct_of_Normal_Trial_3</th>\n",
       "      <th>Subject_Normal</th>\n",
       "      <th>Slow_Vital_Capacity_Units</th>\n",
       "      <th>study_day</th>\n",
       "      <th>day_since_onset</th>\n",
       "    </tr>\n",
       "  </thead>\n",
       "  <tbody>\n",
       "    <tr>\n",
       "      <th>0</th>\n",
       "      <td>89</td>\n",
       "      <td>3.29</td>\n",
       "      <td>NaN</td>\n",
       "      <td>NaN</td>\n",
       "      <td>NaN</td>\n",
       "      <td>NaN</td>\n",
       "      <td>NaN</td>\n",
       "      <td>3.97</td>\n",
       "      <td>NaN</td>\n",
       "      <td>NaN</td>\n",
       "      <td>NaN</td>\n",
       "    </tr>\n",
       "    <tr>\n",
       "      <th>1</th>\n",
       "      <td>348</td>\n",
       "      <td>3.00</td>\n",
       "      <td>83.0</td>\n",
       "      <td>NaN</td>\n",
       "      <td>NaN</td>\n",
       "      <td>NaN</td>\n",
       "      <td>NaN</td>\n",
       "      <td>NaN</td>\n",
       "      <td>NaN</td>\n",
       "      <td>0.0</td>\n",
       "      <td>501.0</td>\n",
       "    </tr>\n",
       "    <tr>\n",
       "      <th>2</th>\n",
       "      <td>348</td>\n",
       "      <td>3.00</td>\n",
       "      <td>81.0</td>\n",
       "      <td>NaN</td>\n",
       "      <td>NaN</td>\n",
       "      <td>NaN</td>\n",
       "      <td>NaN</td>\n",
       "      <td>NaN</td>\n",
       "      <td>NaN</td>\n",
       "      <td>4.0</td>\n",
       "      <td>505.0</td>\n",
       "    </tr>\n",
       "    <tr>\n",
       "      <th>3</th>\n",
       "      <td>348</td>\n",
       "      <td>3.00</td>\n",
       "      <td>81.0</td>\n",
       "      <td>NaN</td>\n",
       "      <td>NaN</td>\n",
       "      <td>NaN</td>\n",
       "      <td>NaN</td>\n",
       "      <td>NaN</td>\n",
       "      <td>NaN</td>\n",
       "      <td>61.0</td>\n",
       "      <td>562.0</td>\n",
       "    </tr>\n",
       "    <tr>\n",
       "      <th>4</th>\n",
       "      <td>348</td>\n",
       "      <td>2.00</td>\n",
       "      <td>78.0</td>\n",
       "      <td>NaN</td>\n",
       "      <td>NaN</td>\n",
       "      <td>NaN</td>\n",
       "      <td>NaN</td>\n",
       "      <td>NaN</td>\n",
       "      <td>NaN</td>\n",
       "      <td>120.0</td>\n",
       "      <td>621.0</td>\n",
       "    </tr>\n",
       "  </tbody>\n",
       "</table>\n",
       "</div>"
      ],
      "text/plain": [
       "   subject_id  Subject_Liters_Trial_1  pct_of_Normal_Trial_1  \\\n",
       "0          89                    3.29                    NaN   \n",
       "1         348                    3.00                   83.0   \n",
       "2         348                    3.00                   81.0   \n",
       "3         348                    3.00                   81.0   \n",
       "4         348                    2.00                   78.0   \n",
       "\n",
       "   Subject_Liters__Trial_2_  pct_of_Normal_Trial_2  Subject_Liters__Trial_3_  \\\n",
       "0                       NaN                    NaN                       NaN   \n",
       "1                       NaN                    NaN                       NaN   \n",
       "2                       NaN                    NaN                       NaN   \n",
       "3                       NaN                    NaN                       NaN   \n",
       "4                       NaN                    NaN                       NaN   \n",
       "\n",
       "   pct_of_Normal_Trial_3  Subject_Normal  Slow_Vital_Capacity_Units  \\\n",
       "0                    NaN            3.97                        NaN   \n",
       "1                    NaN             NaN                        NaN   \n",
       "2                    NaN             NaN                        NaN   \n",
       "3                    NaN             NaN                        NaN   \n",
       "4                    NaN             NaN                        NaN   \n",
       "\n",
       "   study_day  day_since_onset  \n",
       "0        NaN              NaN  \n",
       "1        0.0            501.0  \n",
       "2        4.0            505.0  \n",
       "3       61.0            562.0  \n",
       "4      120.0            621.0  "
      ]
     },
     "execution_count": 11,
     "metadata": {},
     "output_type": "execute_result"
    }
   ],
   "source": [
    "svc_onset['day_since_onset']= np.abs(svc_onset['Onset_Delta']) + svc_onset['study_day']\n",
    "svc_onset.drop(['Onset_Delta','delta_onset_diag'], axis=1, inplace=True )\n",
    "print(svc_onset.shape)\n",
    "svc_onset.head()"
   ]
  },
  {
   "cell_type": "markdown",
   "metadata": {},
   "source": [
    "## Add death day"
   ]
  },
  {
   "cell_type": "code",
   "execution_count": 119,
   "metadata": {},
   "outputs": [
    {
     "name": "stdout",
     "output_type": "stream",
     "text": [
      "(8408, 2)\n"
     ]
    },
    {
     "data": {
      "text/html": [
       "<div>\n",
       "<style scoped>\n",
       "    .dataframe tbody tr th:only-of-type {\n",
       "        vertical-align: middle;\n",
       "    }\n",
       "\n",
       "    .dataframe tbody tr th {\n",
       "        vertical-align: top;\n",
       "    }\n",
       "\n",
       "    .dataframe thead th {\n",
       "        text-align: right;\n",
       "    }\n",
       "</style>\n",
       "<table border=\"1\" class=\"dataframe\">\n",
       "  <thead>\n",
       "    <tr style=\"text-align: right;\">\n",
       "      <th></th>\n",
       "      <th>subject_id</th>\n",
       "      <th>death_day_since_onset</th>\n",
       "    </tr>\n",
       "  </thead>\n",
       "  <tbody>\n",
       "    <tr>\n",
       "      <th>0</th>\n",
       "      <td>89</td>\n",
       "      <td>NaN</td>\n",
       "    </tr>\n",
       "    <tr>\n",
       "      <th>1</th>\n",
       "      <td>411</td>\n",
       "      <td>NaN</td>\n",
       "    </tr>\n",
       "    <tr>\n",
       "      <th>2</th>\n",
       "      <td>708</td>\n",
       "      <td>1320.0</td>\n",
       "    </tr>\n",
       "    <tr>\n",
       "      <th>3</th>\n",
       "      <td>902</td>\n",
       "      <td>NaN</td>\n",
       "    </tr>\n",
       "    <tr>\n",
       "      <th>4</th>\n",
       "      <td>1312</td>\n",
       "      <td>NaN</td>\n",
       "    </tr>\n",
       "  </tbody>\n",
       "</table>\n",
       "</div>"
      ],
      "text/plain": [
       "   subject_id  death_day_since_onset\n",
       "0          89                    NaN\n",
       "1         411                    NaN\n",
       "2         708                 1320.0\n",
       "3         902                    NaN\n",
       "4        1312                    NaN"
      ]
     },
     "execution_count": 119,
     "metadata": {},
     "output_type": "execute_result"
    }
   ],
   "source": [
    "death = pd.read_csv(\"clean_data/death_date.csv\")\n",
    "print(death.shape)\n",
    "death.head()"
   ]
  },
  {
   "cell_type": "code",
   "execution_count": 14,
   "metadata": {},
   "outputs": [
    {
     "name": "stdout",
     "output_type": "stream",
     "text": [
      "(9525, 12)\n"
     ]
    },
    {
     "data": {
      "text/html": [
       "<div>\n",
       "<style scoped>\n",
       "    .dataframe tbody tr th:only-of-type {\n",
       "        vertical-align: middle;\n",
       "    }\n",
       "\n",
       "    .dataframe tbody tr th {\n",
       "        vertical-align: top;\n",
       "    }\n",
       "\n",
       "    .dataframe thead th {\n",
       "        text-align: right;\n",
       "    }\n",
       "</style>\n",
       "<table border=\"1\" class=\"dataframe\">\n",
       "  <thead>\n",
       "    <tr style=\"text-align: right;\">\n",
       "      <th></th>\n",
       "      <th>subject_id</th>\n",
       "      <th>Subject_Liters_Trial_1</th>\n",
       "      <th>pct_of_Normal_Trial_1</th>\n",
       "      <th>Subject_Liters__Trial_2_</th>\n",
       "      <th>pct_of_Normal_Trial_2</th>\n",
       "      <th>Subject_Liters__Trial_3_</th>\n",
       "      <th>pct_of_Normal_Trial_3</th>\n",
       "      <th>Subject_Normal</th>\n",
       "      <th>Slow_Vital_Capacity_Units</th>\n",
       "      <th>study_day</th>\n",
       "      <th>day_since_onset</th>\n",
       "      <th>death_day_since_onset</th>\n",
       "    </tr>\n",
       "  </thead>\n",
       "  <tbody>\n",
       "    <tr>\n",
       "      <th>0</th>\n",
       "      <td>89</td>\n",
       "      <td>3.29</td>\n",
       "      <td>NaN</td>\n",
       "      <td>NaN</td>\n",
       "      <td>NaN</td>\n",
       "      <td>NaN</td>\n",
       "      <td>NaN</td>\n",
       "      <td>3.97</td>\n",
       "      <td>NaN</td>\n",
       "      <td>NaN</td>\n",
       "      <td>NaN</td>\n",
       "      <td>NaN</td>\n",
       "    </tr>\n",
       "    <tr>\n",
       "      <th>1</th>\n",
       "      <td>348</td>\n",
       "      <td>3.00</td>\n",
       "      <td>83.0</td>\n",
       "      <td>NaN</td>\n",
       "      <td>NaN</td>\n",
       "      <td>NaN</td>\n",
       "      <td>NaN</td>\n",
       "      <td>NaN</td>\n",
       "      <td>NaN</td>\n",
       "      <td>0.0</td>\n",
       "      <td>501.0</td>\n",
       "      <td>NaN</td>\n",
       "    </tr>\n",
       "    <tr>\n",
       "      <th>2</th>\n",
       "      <td>348</td>\n",
       "      <td>3.00</td>\n",
       "      <td>81.0</td>\n",
       "      <td>NaN</td>\n",
       "      <td>NaN</td>\n",
       "      <td>NaN</td>\n",
       "      <td>NaN</td>\n",
       "      <td>NaN</td>\n",
       "      <td>NaN</td>\n",
       "      <td>4.0</td>\n",
       "      <td>505.0</td>\n",
       "      <td>NaN</td>\n",
       "    </tr>\n",
       "    <tr>\n",
       "      <th>3</th>\n",
       "      <td>348</td>\n",
       "      <td>3.00</td>\n",
       "      <td>81.0</td>\n",
       "      <td>NaN</td>\n",
       "      <td>NaN</td>\n",
       "      <td>NaN</td>\n",
       "      <td>NaN</td>\n",
       "      <td>NaN</td>\n",
       "      <td>NaN</td>\n",
       "      <td>61.0</td>\n",
       "      <td>562.0</td>\n",
       "      <td>NaN</td>\n",
       "    </tr>\n",
       "    <tr>\n",
       "      <th>4</th>\n",
       "      <td>348</td>\n",
       "      <td>2.00</td>\n",
       "      <td>78.0</td>\n",
       "      <td>NaN</td>\n",
       "      <td>NaN</td>\n",
       "      <td>NaN</td>\n",
       "      <td>NaN</td>\n",
       "      <td>NaN</td>\n",
       "      <td>NaN</td>\n",
       "      <td>120.0</td>\n",
       "      <td>621.0</td>\n",
       "      <td>NaN</td>\n",
       "    </tr>\n",
       "  </tbody>\n",
       "</table>\n",
       "</div>"
      ],
      "text/plain": [
       "   subject_id  Subject_Liters_Trial_1  pct_of_Normal_Trial_1  \\\n",
       "0          89                    3.29                    NaN   \n",
       "1         348                    3.00                   83.0   \n",
       "2         348                    3.00                   81.0   \n",
       "3         348                    3.00                   81.0   \n",
       "4         348                    2.00                   78.0   \n",
       "\n",
       "   Subject_Liters__Trial_2_  pct_of_Normal_Trial_2  Subject_Liters__Trial_3_  \\\n",
       "0                       NaN                    NaN                       NaN   \n",
       "1                       NaN                    NaN                       NaN   \n",
       "2                       NaN                    NaN                       NaN   \n",
       "3                       NaN                    NaN                       NaN   \n",
       "4                       NaN                    NaN                       NaN   \n",
       "\n",
       "   pct_of_Normal_Trial_3  Subject_Normal  Slow_Vital_Capacity_Units  \\\n",
       "0                    NaN            3.97                        NaN   \n",
       "1                    NaN             NaN                        NaN   \n",
       "2                    NaN             NaN                        NaN   \n",
       "3                    NaN             NaN                        NaN   \n",
       "4                    NaN             NaN                        NaN   \n",
       "\n",
       "   study_day  day_since_onset  death_day_since_onset  \n",
       "0        NaN              NaN                    NaN  \n",
       "1        0.0            501.0                    NaN  \n",
       "2        4.0            505.0                    NaN  \n",
       "3       61.0            562.0                    NaN  \n",
       "4      120.0            621.0                    NaN  "
      ]
     },
     "execution_count": 14,
     "metadata": {},
     "output_type": "execute_result"
    }
   ],
   "source": [
    "svc_death = svc_onset.merge(death, how='left', on='subject_id')\n",
    "print(svc_death.shape)\n",
    "svc_death.head()"
   ]
  },
  {
   "cell_type": "code",
   "execution_count": 19,
   "metadata": {},
   "outputs": [
    {
     "name": "stdout",
     "output_type": "stream",
     "text": [
      "(706, 4)\n"
     ]
    },
    {
     "data": {
      "text/html": [
       "<div>\n",
       "<style scoped>\n",
       "    .dataframe tbody tr th:only-of-type {\n",
       "        vertical-align: middle;\n",
       "    }\n",
       "\n",
       "    .dataframe tbody tr th {\n",
       "        vertical-align: top;\n",
       "    }\n",
       "\n",
       "    .dataframe thead th {\n",
       "        text-align: right;\n",
       "    }\n",
       "</style>\n",
       "<table border=\"1\" class=\"dataframe\">\n",
       "  <thead>\n",
       "    <tr style=\"text-align: right;\">\n",
       "      <th></th>\n",
       "      <th>subject_id</th>\n",
       "      <th>Subject_Liters_Trial_1</th>\n",
       "      <th>day_since_onset</th>\n",
       "      <th>death_day_since_onset</th>\n",
       "    </tr>\n",
       "  </thead>\n",
       "  <tbody>\n",
       "    <tr>\n",
       "      <th>221</th>\n",
       "      <td>23939</td>\n",
       "      <td>3.0</td>\n",
       "      <td>653.0</td>\n",
       "      <td>1043.0</td>\n",
       "    </tr>\n",
       "    <tr>\n",
       "      <th>222</th>\n",
       "      <td>23939</td>\n",
       "      <td>2.0</td>\n",
       "      <td>667.0</td>\n",
       "      <td>1043.0</td>\n",
       "    </tr>\n",
       "    <tr>\n",
       "      <th>223</th>\n",
       "      <td>23939</td>\n",
       "      <td>2.0</td>\n",
       "      <td>731.0</td>\n",
       "      <td>1043.0</td>\n",
       "    </tr>\n",
       "    <tr>\n",
       "      <th>224</th>\n",
       "      <td>23939</td>\n",
       "      <td>2.0</td>\n",
       "      <td>787.0</td>\n",
       "      <td>1043.0</td>\n",
       "    </tr>\n",
       "    <tr>\n",
       "      <th>225</th>\n",
       "      <td>23939</td>\n",
       "      <td>2.0</td>\n",
       "      <td>857.0</td>\n",
       "      <td>1043.0</td>\n",
       "    </tr>\n",
       "  </tbody>\n",
       "</table>\n",
       "</div>"
      ],
      "text/plain": [
       "     subject_id  Subject_Liters_Trial_1  day_since_onset  \\\n",
       "221       23939                     3.0            653.0   \n",
       "222       23939                     2.0            667.0   \n",
       "223       23939                     2.0            731.0   \n",
       "224       23939                     2.0            787.0   \n",
       "225       23939                     2.0            857.0   \n",
       "\n",
       "     death_day_since_onset  \n",
       "221                 1043.0  \n",
       "222                 1043.0  \n",
       "223                 1043.0  \n",
       "224                 1043.0  \n",
       "225                 1043.0  "
      ]
     },
     "execution_count": 19,
     "metadata": {},
     "output_type": "execute_result"
    }
   ],
   "source": [
    "#death_w_svc liters\n",
    "svc_death_liters = svc_death[['subject_id', 'Subject_Liters_Trial_1', 'day_since_onset', 'death_day_since_onset']].dropna().copy()\n",
    "print(svc_death_liters.shape)\n",
    "svc_death_liters.head()\n"
   ]
  },
  {
   "cell_type": "code",
   "execution_count": 25,
   "metadata": {},
   "outputs": [
    {
     "data": {
      "text/plain": [
       "146"
      ]
     },
     "execution_count": 25,
     "metadata": {},
     "output_type": "execute_result"
    }
   ],
   "source": [
    "len(set(svc_death_liters['subject_id']))"
   ]
  },
  {
   "cell_type": "code",
   "execution_count": 22,
   "metadata": {},
   "outputs": [
    {
     "name": "stdout",
     "output_type": "stream",
     "text": [
      "(495, 4)\n"
     ]
    },
    {
     "data": {
      "text/html": [
       "<div>\n",
       "<style scoped>\n",
       "    .dataframe tbody tr th:only-of-type {\n",
       "        vertical-align: middle;\n",
       "    }\n",
       "\n",
       "    .dataframe tbody tr th {\n",
       "        vertical-align: top;\n",
       "    }\n",
       "\n",
       "    .dataframe thead th {\n",
       "        text-align: right;\n",
       "    }\n",
       "</style>\n",
       "<table border=\"1\" class=\"dataframe\">\n",
       "  <thead>\n",
       "    <tr style=\"text-align: right;\">\n",
       "      <th></th>\n",
       "      <th>subject_id</th>\n",
       "      <th>pct_of_Normal_Trial_1</th>\n",
       "      <th>day_since_onset</th>\n",
       "      <th>death_day_since_onset</th>\n",
       "    </tr>\n",
       "  </thead>\n",
       "  <tbody>\n",
       "    <tr>\n",
       "      <th>221</th>\n",
       "      <td>23939</td>\n",
       "      <td>79.0</td>\n",
       "      <td>653.0</td>\n",
       "      <td>1043.0</td>\n",
       "    </tr>\n",
       "    <tr>\n",
       "      <th>222</th>\n",
       "      <td>23939</td>\n",
       "      <td>77.0</td>\n",
       "      <td>667.0</td>\n",
       "      <td>1043.0</td>\n",
       "    </tr>\n",
       "    <tr>\n",
       "      <th>223</th>\n",
       "      <td>23939</td>\n",
       "      <td>66.0</td>\n",
       "      <td>731.0</td>\n",
       "      <td>1043.0</td>\n",
       "    </tr>\n",
       "    <tr>\n",
       "      <th>224</th>\n",
       "      <td>23939</td>\n",
       "      <td>65.0</td>\n",
       "      <td>787.0</td>\n",
       "      <td>1043.0</td>\n",
       "    </tr>\n",
       "    <tr>\n",
       "      <th>225</th>\n",
       "      <td>23939</td>\n",
       "      <td>63.0</td>\n",
       "      <td>857.0</td>\n",
       "      <td>1043.0</td>\n",
       "    </tr>\n",
       "  </tbody>\n",
       "</table>\n",
       "</div>"
      ],
      "text/plain": [
       "     subject_id  pct_of_Normal_Trial_1  day_since_onset  death_day_since_onset\n",
       "221       23939                   79.0            653.0                 1043.0\n",
       "222       23939                   77.0            667.0                 1043.0\n",
       "223       23939                   66.0            731.0                 1043.0\n",
       "224       23939                   65.0            787.0                 1043.0\n",
       "225       23939                   63.0            857.0                 1043.0"
      ]
     },
     "execution_count": 22,
     "metadata": {},
     "output_type": "execute_result"
    }
   ],
   "source": [
    "#death_w_svc percent of normal\n",
    "svc_death_normal = svc_death[['subject_id', 'pct_of_Normal_Trial_1', 'day_since_onset', 'death_day_since_onset']].dropna().copy()\n",
    "print(svc_death_normal.shape)\n",
    "svc_death_normal.head()\n"
   ]
  },
  {
   "cell_type": "code",
   "execution_count": 23,
   "metadata": {},
   "outputs": [
    {
     "data": {
      "text/plain": [
       "108"
      ]
     },
     "execution_count": 23,
     "metadata": {},
     "output_type": "execute_result"
    }
   ],
   "source": [
    "len(svc_death_normal['subject_id'].unique())"
   ]
  },
  {
   "cell_type": "code",
   "execution_count": 27,
   "metadata": {},
   "outputs": [
    {
     "data": {
      "text/plain": [
       "108"
      ]
     },
     "execution_count": 27,
     "metadata": {},
     "output_type": "execute_result"
    }
   ],
   "source": [
    "#how many the same subject?\n",
    "len(set(svc_death_normal['subject_id']) & set(svc_death_liters['subject_id']))"
   ]
  },
  {
   "cell_type": "code",
   "execution_count": 368,
   "metadata": {},
   "outputs": [
    {
     "data": {
      "image/png": "[encoded data removed]",
      "text/plain": [
       "<Figure size 864x432 with 1 Axes>"
      ]
     },
     "metadata": {
      "needs_background": "light"
     },
     "output_type": "display_data"
    }
   ],
   "source": [
    "#plot first 100 subjects data \n",
    "#fvc_death\n",
    "subject_list = svc_death['subject_id'].unique()[0:200]\n",
    "time = 'study_day'\n",
    "feature = 'Subject_Liters_Trial_1'\n",
    "xlim=(0,900)\n",
    "plot_fvc_long(svc_death, feature, time, subject_list, xlim)"
   ]
  },
  {
   "cell_type": "markdown",
   "metadata": {},
   "source": [
    "any relation between svc and death time"
   ]
  },
  {
   "cell_type": "code",
   "execution_count": null,
   "metadata": {},
   "outputs": [],
   "source": [
    "x = np.array(svc_death_normal['death_day_since_onset'].values)\n",
    "y = np.array(svc_death_normal['slope_pct_of_Normal_Trial_1'].values)\n",
    "slope, intercept, r_value, p_value, std_err = linregress(x.astype(float), y.astype(float))\n",
    "plt.scatter(x, y)\n",
    "X_plot = np.linspace(0,np.max(x),len(x))\n",
    "plt.plot(X_plot, X_plot*slope + intercept, color='red')\n",
    "plt.title('slope_pct_of_Normal_Trial_1')\n",
    "plt.xlabel('death_day_since_onset')\n",
    "plt.show()"
   ]
  },
  {
   "cell_type": "markdown",
   "metadata": {},
   "source": [
    "## SVC miniture linear regressions"
   ]
  },
  {
   "cell_type": "code",
   "execution_count": null,
   "metadata": {},
   "outputs": [],
   "source": []
  },
  {
   "cell_type": "code",
   "execution_count": 111,
   "metadata": {},
   "outputs": [
    {
     "name": "stdout",
     "output_type": "stream",
     "text": [
      "(461, 3)\n"
     ]
    },
    {
     "data": {
      "text/html": [
       "<div>\n",
       "<style scoped>\n",
       "    .dataframe tbody tr th:only-of-type {\n",
       "        vertical-align: middle;\n",
       "    }\n",
       "\n",
       "    .dataframe tbody tr th {\n",
       "        vertical-align: top;\n",
       "    }\n",
       "\n",
       "    .dataframe thead th {\n",
       "        text-align: right;\n",
       "    }\n",
       "</style>\n",
       "<table border=\"1\" class=\"dataframe\">\n",
       "  <thead>\n",
       "    <tr style=\"text-align: right;\">\n",
       "      <th></th>\n",
       "      <th>subject_id</th>\n",
       "      <th>pct_of_Normal_Trial_1</th>\n",
       "      <th>day_since_onset</th>\n",
       "    </tr>\n",
       "  </thead>\n",
       "  <tbody>\n",
       "    <tr>\n",
       "      <th>0</th>\n",
       "      <td>348</td>\n",
       "      <td>100.0</td>\n",
       "      <td>0.0</td>\n",
       "    </tr>\n",
       "    <tr>\n",
       "      <th>1</th>\n",
       "      <td>1064</td>\n",
       "      <td>100.0</td>\n",
       "      <td>0.0</td>\n",
       "    </tr>\n",
       "    <tr>\n",
       "      <th>2</th>\n",
       "      <td>4877</td>\n",
       "      <td>100.0</td>\n",
       "      <td>0.0</td>\n",
       "    </tr>\n",
       "    <tr>\n",
       "      <th>3</th>\n",
       "      <td>5918</td>\n",
       "      <td>100.0</td>\n",
       "      <td>0.0</td>\n",
       "    </tr>\n",
       "    <tr>\n",
       "      <th>4</th>\n",
       "      <td>11941</td>\n",
       "      <td>100.0</td>\n",
       "      <td>0.0</td>\n",
       "    </tr>\n",
       "  </tbody>\n",
       "</table>\n",
       "</div>"
      ],
      "text/plain": [
       "   subject_id  pct_of_Normal_Trial_1  day_since_onset\n",
       "0         348                  100.0              0.0\n",
       "1        1064                  100.0              0.0\n",
       "2        4877                  100.0              0.0\n",
       "3        5918                  100.0              0.0\n",
       "4       11941                  100.0              0.0"
      ]
     },
     "execution_count": 111,
     "metadata": {},
     "output_type": "execute_result"
    }
   ],
   "source": [
    "# add anchor point at onset for each subject.\n",
    "# PART 1\n",
    "feature = 'pct_of_Normal_Trial_1'\n",
    "subject = 'subject_id'\n",
    "time = 'day_since_onset'\n",
    "time_series_df = svc_death.copy()\n",
    "\n",
    "# make a small table\n",
    "just_table = time_series_df[[subject, feature, time]].copy()\n",
    "just_table.dropna(inplace=True)\n",
    "\n",
    "# group by subject_id\n",
    "anchor_df = just_table.groupby(subject).count()\n",
    "\n",
    "# make all values = np.NaN\n",
    "anchor_df[ anchor_df != np.NaN] = np.NaN\n",
    "\n",
    "# replace individual scores as needed.\n",
    "anchor_df[feature].replace(np.NaN, 100, inplace=True)\n",
    "anchor_df[time].replace(np.NaN,0, inplace=True)\n",
    "\n",
    "# reset the index (groupby indexed changed)\n",
    "anchor_df.reset_index(inplace=True)\n",
    "\n",
    "print(anchor_df.shape)\n",
    "anchor_df.head()"
   ]
  },
  {
   "cell_type": "code",
   "execution_count": 112,
   "metadata": {},
   "outputs": [
    {
     "name": "stdout",
     "output_type": "stream",
     "text": [
      "(3657, 3)\n"
     ]
    },
    {
     "data": {
      "text/html": [
       "<div>\n",
       "<style scoped>\n",
       "    .dataframe tbody tr th:only-of-type {\n",
       "        vertical-align: middle;\n",
       "    }\n",
       "\n",
       "    .dataframe tbody tr th {\n",
       "        vertical-align: top;\n",
       "    }\n",
       "\n",
       "    .dataframe thead th {\n",
       "        text-align: right;\n",
       "    }\n",
       "</style>\n",
       "<table border=\"1\" class=\"dataframe\">\n",
       "  <thead>\n",
       "    <tr style=\"text-align: right;\">\n",
       "      <th></th>\n",
       "      <th>subject_id</th>\n",
       "      <th>pct_of_Normal_Trial_1</th>\n",
       "      <th>day_since_onset</th>\n",
       "    </tr>\n",
       "  </thead>\n",
       "  <tbody>\n",
       "    <tr>\n",
       "      <th>0</th>\n",
       "      <td>348</td>\n",
       "      <td>100.0</td>\n",
       "      <td>0.0</td>\n",
       "    </tr>\n",
       "    <tr>\n",
       "      <th>1</th>\n",
       "      <td>348</td>\n",
       "      <td>83.0</td>\n",
       "      <td>501.0</td>\n",
       "    </tr>\n",
       "    <tr>\n",
       "      <th>2</th>\n",
       "      <td>348</td>\n",
       "      <td>81.0</td>\n",
       "      <td>505.0</td>\n",
       "    </tr>\n",
       "    <tr>\n",
       "      <th>3</th>\n",
       "      <td>348</td>\n",
       "      <td>81.0</td>\n",
       "      <td>562.0</td>\n",
       "    </tr>\n",
       "    <tr>\n",
       "      <th>4</th>\n",
       "      <td>348</td>\n",
       "      <td>78.0</td>\n",
       "      <td>621.0</td>\n",
       "    </tr>\n",
       "  </tbody>\n",
       "</table>\n",
       "</div>"
      ],
      "text/plain": [
       "   subject_id  pct_of_Normal_Trial_1  day_since_onset\n",
       "0         348                  100.0              0.0\n",
       "1         348                   83.0            501.0\n",
       "2         348                   81.0            505.0\n",
       "3         348                   81.0            562.0\n",
       "4         348                   78.0            621.0"
      ]
     },
     "execution_count": 112,
     "metadata": {},
     "output_type": "execute_result"
    }
   ],
   "source": [
    "# merge anchor points with original table\n",
    "full_anchor_df = pd.concat([just_table, anchor_df], axis=0)\n",
    "full_anchor_df.sort_values(by=[subject, time], inplace=True)\n",
    "full_anchor_df.reset_index(drop=True, inplace=True)\n",
    "print(full_anchor_df.shape)\n",
    "full_anchor_df.head()"
   ]
  },
  {
   "cell_type": "code",
   "execution_count": 113,
   "metadata": {},
   "outputs": [],
   "source": [
    "# create linear regressions from the fvc normalized data\n",
    "subject_col=subject\n",
    "y_col=feature\n",
    "x_col=time\n",
    "y_label = 'svc_normal_onset_slope'\n",
    "\n",
    "full_result, mini_table = linreg_scalers(full_anchor_df, subject_col, y_col, x_col, y_label)"
   ]
  },
  {
   "cell_type": "code",
   "execution_count": 114,
   "metadata": {},
   "outputs": [
    {
     "data": {
      "text/html": [
       "<div>\n",
       "<style scoped>\n",
       "    .dataframe tbody tr th:only-of-type {\n",
       "        vertical-align: middle;\n",
       "    }\n",
       "\n",
       "    .dataframe tbody tr th {\n",
       "        vertical-align: top;\n",
       "    }\n",
       "\n",
       "    .dataframe thead th {\n",
       "        text-align: right;\n",
       "    }\n",
       "</style>\n",
       "<table border=\"1\" class=\"dataframe\">\n",
       "  <thead>\n",
       "    <tr style=\"text-align: right;\">\n",
       "      <th></th>\n",
       "      <th>subject_id</th>\n",
       "      <th>test</th>\n",
       "      <th>slope_svc_normal_onset_slope</th>\n",
       "      <th>intercept_svc_normal_onset_slope</th>\n",
       "    </tr>\n",
       "  </thead>\n",
       "  <tbody>\n",
       "    <tr>\n",
       "      <th>0</th>\n",
       "      <td>348</td>\n",
       "      <td>svc_normal_onset_slope</td>\n",
       "      <td>-0.0263194</td>\n",
       "      <td>96.6654</td>\n",
       "    </tr>\n",
       "    <tr>\n",
       "      <th>1</th>\n",
       "      <td>1064</td>\n",
       "      <td>svc_normal_onset_slope</td>\n",
       "      <td>-0.0632836</td>\n",
       "      <td>108.818</td>\n",
       "    </tr>\n",
       "    <tr>\n",
       "      <th>2</th>\n",
       "      <td>4877</td>\n",
       "      <td>svc_normal_onset_slope</td>\n",
       "      <td>-0.0265544</td>\n",
       "      <td>101.06</td>\n",
       "    </tr>\n",
       "    <tr>\n",
       "      <th>3</th>\n",
       "      <td>5918</td>\n",
       "      <td>svc_normal_onset_slope</td>\n",
       "      <td>-0.00034497</td>\n",
       "      <td>102.331</td>\n",
       "    </tr>\n",
       "    <tr>\n",
       "      <th>4</th>\n",
       "      <td>11941</td>\n",
       "      <td>svc_normal_onset_slope</td>\n",
       "      <td>7.56994e-05</td>\n",
       "      <td>100.218</td>\n",
       "    </tr>\n",
       "  </tbody>\n",
       "</table>\n",
       "</div>"
      ],
      "text/plain": [
       "   subject_id                    test slope_svc_normal_onset_slope  \\\n",
       "0         348  svc_normal_onset_slope                   -0.0263194   \n",
       "1        1064  svc_normal_onset_slope                   -0.0632836   \n",
       "2        4877  svc_normal_onset_slope                   -0.0265544   \n",
       "3        5918  svc_normal_onset_slope                  -0.00034497   \n",
       "4       11941  svc_normal_onset_slope                  7.56994e-05   \n",
       "\n",
       "  intercept_svc_normal_onset_slope  \n",
       "0                          96.6654  \n",
       "1                          108.818  \n",
       "2                           101.06  \n",
       "3                          102.331  \n",
       "4                          100.218  "
      ]
     },
     "execution_count": 114,
     "metadata": {},
     "output_type": "execute_result"
    }
   ],
   "source": [
    "full_result.head()"
   ]
  },
  {
   "cell_type": "code",
   "execution_count": 115,
   "metadata": {},
   "outputs": [
    {
     "name": "stdout",
     "output_type": "stream",
     "text": [
      "(461, 2)\n"
     ]
    },
    {
     "data": {
      "text/html": [
       "<div>\n",
       "<style scoped>\n",
       "    .dataframe tbody tr th:only-of-type {\n",
       "        vertical-align: middle;\n",
       "    }\n",
       "\n",
       "    .dataframe tbody tr th {\n",
       "        vertical-align: top;\n",
       "    }\n",
       "\n",
       "    .dataframe thead th {\n",
       "        text-align: right;\n",
       "    }\n",
       "</style>\n",
       "<table border=\"1\" class=\"dataframe\">\n",
       "  <thead>\n",
       "    <tr style=\"text-align: right;\">\n",
       "      <th></th>\n",
       "      <th>subject_id</th>\n",
       "      <th>slope_svc_normal_onset_slope</th>\n",
       "    </tr>\n",
       "  </thead>\n",
       "  <tbody>\n",
       "    <tr>\n",
       "      <th>0</th>\n",
       "      <td>348</td>\n",
       "      <td>-0.0263194</td>\n",
       "    </tr>\n",
       "    <tr>\n",
       "      <th>1</th>\n",
       "      <td>1064</td>\n",
       "      <td>-0.0632836</td>\n",
       "    </tr>\n",
       "    <tr>\n",
       "      <th>2</th>\n",
       "      <td>4877</td>\n",
       "      <td>-0.0265544</td>\n",
       "    </tr>\n",
       "    <tr>\n",
       "      <th>3</th>\n",
       "      <td>5918</td>\n",
       "      <td>-0.00034497</td>\n",
       "    </tr>\n",
       "    <tr>\n",
       "      <th>4</th>\n",
       "      <td>11941</td>\n",
       "      <td>7.56994e-05</td>\n",
       "    </tr>\n",
       "  </tbody>\n",
       "</table>\n",
       "</div>"
      ],
      "text/plain": [
       "   subject_id slope_svc_normal_onset_slope\n",
       "0         348                   -0.0263194\n",
       "1        1064                   -0.0632836\n",
       "2        4877                   -0.0265544\n",
       "3        5918                  -0.00034497\n",
       "4       11941                  7.56994e-05"
      ]
     },
     "execution_count": 115,
     "metadata": {},
     "output_type": "execute_result"
    }
   ],
   "source": [
    "print(mini_table.shape)\n",
    "mini_table.head()"
   ]
  },
  {
   "cell_type": "code",
   "execution_count": 116,
   "metadata": {},
   "outputs": [],
   "source": [
    "# save to csv\n",
    "filename = 'clean_data/svc_normal_onset_slope.csv'\n",
    "mini_table.to_csv(filename, index=False)"
   ]
  },
  {
   "cell_type": "code",
   "execution_count": 120,
   "metadata": {},
   "outputs": [
    {
     "name": "stdout",
     "output_type": "stream",
     "text": [
      "(108, 5)\n"
     ]
    },
    {
     "data": {
      "text/html": [
       "<div>\n",
       "<style scoped>\n",
       "    .dataframe tbody tr th:only-of-type {\n",
       "        vertical-align: middle;\n",
       "    }\n",
       "\n",
       "    .dataframe tbody tr th {\n",
       "        vertical-align: top;\n",
       "    }\n",
       "\n",
       "    .dataframe thead th {\n",
       "        text-align: right;\n",
       "    }\n",
       "</style>\n",
       "<table border=\"1\" class=\"dataframe\">\n",
       "  <thead>\n",
       "    <tr style=\"text-align: right;\">\n",
       "      <th></th>\n",
       "      <th>subject_id</th>\n",
       "      <th>test</th>\n",
       "      <th>slope_svc_normal_onset_slope</th>\n",
       "      <th>intercept_svc_normal_onset_slope</th>\n",
       "      <th>death_day_since_onset</th>\n",
       "    </tr>\n",
       "  </thead>\n",
       "  <tbody>\n",
       "    <tr>\n",
       "      <th>10</th>\n",
       "      <td>23939</td>\n",
       "      <td>svc_normal_onset_slope</td>\n",
       "      <td>-0.0429508</td>\n",
       "      <td>101.451</td>\n",
       "      <td>1043.0</td>\n",
       "    </tr>\n",
       "    <tr>\n",
       "      <th>15</th>\n",
       "      <td>34957</td>\n",
       "      <td>svc_normal_onset_slope</td>\n",
       "      <td>-0.0214287</td>\n",
       "      <td>108.207</td>\n",
       "      <td>830.0</td>\n",
       "    </tr>\n",
       "    <tr>\n",
       "      <th>20</th>\n",
       "      <td>43725</td>\n",
       "      <td>svc_normal_onset_slope</td>\n",
       "      <td>-0.175974</td>\n",
       "      <td>103.562</td>\n",
       "      <td>581.0</td>\n",
       "    </tr>\n",
       "    <tr>\n",
       "      <th>23</th>\n",
       "      <td>48616</td>\n",
       "      <td>svc_normal_onset_slope</td>\n",
       "      <td>-0.048908</td>\n",
       "      <td>101.494</td>\n",
       "      <td>933.0</td>\n",
       "    </tr>\n",
       "    <tr>\n",
       "      <th>26</th>\n",
       "      <td>52510</td>\n",
       "      <td>svc_normal_onset_slope</td>\n",
       "      <td>-0.044634</td>\n",
       "      <td>101.334</td>\n",
       "      <td>831.0</td>\n",
       "    </tr>\n",
       "  </tbody>\n",
       "</table>\n",
       "</div>"
      ],
      "text/plain": [
       "    subject_id                    test slope_svc_normal_onset_slope  \\\n",
       "10       23939  svc_normal_onset_slope                   -0.0429508   \n",
       "15       34957  svc_normal_onset_slope                   -0.0214287   \n",
       "20       43725  svc_normal_onset_slope                    -0.175974   \n",
       "23       48616  svc_normal_onset_slope                    -0.048908   \n",
       "26       52510  svc_normal_onset_slope                    -0.044634   \n",
       "\n",
       "   intercept_svc_normal_onset_slope  death_day_since_onset  \n",
       "10                          101.451                 1043.0  \n",
       "15                          108.207                  830.0  \n",
       "20                          103.562                  581.0  \n",
       "23                          101.494                  933.0  \n",
       "26                          101.334                  831.0  "
      ]
     },
     "execution_count": 120,
     "metadata": {},
     "output_type": "execute_result"
    }
   ],
   "source": [
    "# are svc slopes associated with death in this subset?\n",
    "# add the death_day_since_onset to table\n",
    "svc_normal_slope_death = full_result.merge(death, how='left', on='subject_id')\n",
    "svc_normal_slope_death.dropna(inplace=True)\n",
    "print(svc_normal_slope_death.shape)\n",
    "svc_normal_slope_death.head()"
   ]
  },
  {
   "cell_type": "code",
   "execution_count": 123,
   "metadata": {},
   "outputs": [
    {
     "data": {
      "image/png": "[encoded data removed]",
      "text/plain": [
       "<Figure size 432x288 with 1 Axes>"
      ]
     },
     "metadata": {
      "needs_background": "light"
     },
     "output_type": "display_data"
    }
   ],
   "source": [
    "x = np.array(svc_normal_slope_death['death_day_since_onset'].values)\n",
    "y = np.array(svc_normal_slope_death['slope_svc_normal_onset_slope'].values)\n",
    "slope, intercept, r_value, p_value, std_err = linregress(x.astype(float), y.astype(float))\n",
    "plt.scatter(x, y)\n",
    "X_plot = np.linspace(0,np.max(x),len(x))\n",
    "plt.plot(X_plot, X_plot*slope + intercept, color='red')\n",
    "plt.title('slope_svc_normal_onset_slope')\n",
    "plt.xlabel('death_day_since_onset')\n",
    "plt.show()"
   ]
  },
  {
   "cell_type": "code",
   "execution_count": null,
   "metadata": {},
   "outputs": [],
   "source": []
  },
  {
   "cell_type": "code",
   "execution_count": 136,
   "metadata": {},
   "outputs": [
    {
     "name": "stdout",
     "output_type": "stream",
     "text": [
      "rmse poly 0.03739962422444961\n",
      "r2 poly 0.42082438430305313\n"
     ]
    },
    {
     "data": {
      "image/png": "[encoded data removed]",
      "text/plain": [
       "<Figure size 432x288 with 1 Axes>"
      ]
     },
     "metadata": {
      "needs_background": "light"
     },
     "output_type": "display_data"
    }
   ],
   "source": [
    "import operator\n",
    "from sklearn.preprocessing import PolynomialFeatures\n",
    "from sklearn.linear_model import LinearRegression\n",
    "from sklearn.metrics import mean_squared_error, r2_score\n",
    "\n",
    "x=np.array(svc_normal_slope_death['death_day_since_onset'].values).reshape(-1,1)\n",
    "\n",
    "polynomial_features= PolynomialFeatures(degree=2)\n",
    "x_poly = polynomial_features.fit_transform(x)\n",
    "\n",
    "model = LinearRegression()\n",
    "model.fit(x_poly, y)\n",
    "y_poly_pred = model.predict(x_poly)\n",
    "\n",
    "rmse = np.sqrt(mean_squared_error(y,y_poly_pred))\n",
    "r2 = r2_score(y,y_poly_pred)\n",
    "print(\"rmse poly {}\".format(rmse))\n",
    "print(\"r2 poly {}\".format(r2))\n",
    "\n",
    "plt.scatter(x, y, s=10)\n",
    "# sort the values of x before line plot\n",
    "sort_axis = operator.itemgetter(0)\n",
    "sorted_zip = sorted(zip(x,y_poly_pred), key=sort_axis)\n",
    "x, y_poly_pred = zip(*sorted_zip)\n",
    "plt.plot(x, y_poly_pred, color='m')\n",
    "plt.show()"
   ]
  },
  {
   "cell_type": "code",
   "execution_count": null,
   "metadata": {},
   "outputs": [],
   "source": []
  }
 ],
 "metadata": {
  "kernelspec": {
   "display_name": "Python 3",
   "language": "python",
   "name": "python3"
  },
  "language_info": {
   "codemirror_mode": {
    "name": "ipython",
    "version": 3
   },
   "file_extension": ".py",
   "mimetype": "text/x-python",
   "name": "python",
   "nbconvert_exporter": "python",
   "pygments_lexer": "ipython3",
   "version": "3.6.8"
  }
 },
 "nbformat": 4,
 "nbformat_minor": 2
}
