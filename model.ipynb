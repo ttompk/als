{
 "cells": [
  {
   "cell_type": "markdown",
   "metadata": {},
   "source": [
    "# ALS Project - Modeling\n",
    "\n",
    "### Random Forest Model"
   ]
  },
  {
   "cell_type": "code",
   "execution_count": 2,
   "metadata": {},
   "outputs": [],
   "source": [
    "import numpy as np\n",
    "import pandas as pd\n",
    "import matplotlib.pyplot as plt\n",
    "import seaborn as sns\n",
    "from pandas.plotting import parallel_coordinates"
   ]
  },
  {
   "cell_type": "code",
   "execution_count": 3,
   "metadata": {},
   "outputs": [],
   "source": [
    "from sklearn.ensemble import RandomForestRegressor\n",
    "from sklearn.model_selection import train_test_split\n",
    "from sklearn.linear_model import LinearRegression\n",
    "from linear_model import LinearModel\n",
    "from linear_plotting import *"
   ]
  },
  {
   "cell_type": "code",
   "execution_count": 4,
   "metadata": {},
   "outputs": [],
   "source": [
    "%load_ext autoreload\n",
    "%autoreload 2"
   ]
  },
  {
   "cell_type": "code",
   "execution_count": 5,
   "metadata": {},
   "outputs": [],
   "source": [
    "def plot_model_parallel(y_test, y_predicted, units='units'):\n",
    "    data = pd.DataFrame(y_test.values, columns=[\"test\"])\n",
    "    data['predicted']=y_predicted\n",
    "    data['result']='result'\n",
    "    parallel_coordinates(data, 'result',colormap=plt.get_cmap(\"Set2\"))\n",
    "    plt.title(\"Results of Model\")\n",
    "    plt.ylabel(units)\n",
    "    plt.show()"
   ]
  },
  {
   "cell_type": "markdown",
   "metadata": {},
   "source": [
    "### data = txt, death, riluzole, onset dates, demo"
   ]
  },
  {
   "cell_type": "code",
   "execution_count": 7,
   "metadata": {},
   "outputs": [],
   "source": [
    "# load data\n",
    "df = pd.read_csv(\"clean_data/tdrod.csv\")"
   ]
  },
  {
   "cell_type": "code",
   "execution_count": 8,
   "metadata": {},
   "outputs": [
    {
     "name": "stdout",
     "output_type": "stream",
     "text": [
      "(9640, 25)\n"
     ]
    },
    {
     "data": {
      "text/html": [
       "<div>\n",
       "<style scoped>\n",
       "    .dataframe tbody tr th:only-of-type {\n",
       "        vertical-align: middle;\n",
       "    }\n",
       "\n",
       "    .dataframe tbody tr th {\n",
       "        vertical-align: top;\n",
       "    }\n",
       "\n",
       "    .dataframe thead th {\n",
       "        text-align: right;\n",
       "    }\n",
       "</style>\n",
       "<table border=\"1\" class=\"dataframe\">\n",
       "  <thead>\n",
       "    <tr style=\"text-align: right;\">\n",
       "      <th></th>\n",
       "      <th>subject_id</th>\n",
       "      <th>Study_Arm</th>\n",
       "      <th>Subject_Died</th>\n",
       "      <th>death_days_trail_start</th>\n",
       "      <th>Subject_used_Riluzole</th>\n",
       "      <th>Onset_Delta</th>\n",
       "      <th>Diagnosis_Delta</th>\n",
       "      <th>death_day_since_onset</th>\n",
       "      <th>death_day_mean</th>\n",
       "      <th>death_day_stdev</th>\n",
       "      <th>...</th>\n",
       "      <th>Race_Asian</th>\n",
       "      <th>Race_Black_African_American</th>\n",
       "      <th>Race_Hawaiian_Pacific_Islander</th>\n",
       "      <th>Race_Unknown</th>\n",
       "      <th>Race_Caucasian</th>\n",
       "      <th>Race_Other</th>\n",
       "      <th>Race_Other_Specify</th>\n",
       "      <th>sex</th>\n",
       "      <th>age_trial_start_years</th>\n",
       "      <th>age_trial_start_days</th>\n",
       "    </tr>\n",
       "  </thead>\n",
       "  <tbody>\n",
       "    <tr>\n",
       "      <th>0</th>\n",
       "      <td>89</td>\n",
       "      <td>Active</td>\n",
       "      <td>1.0</td>\n",
       "      <td>218.0</td>\n",
       "      <td>1.0</td>\n",
       "      <td>NaN</td>\n",
       "      <td>NaN</td>\n",
       "      <td>NaN</td>\n",
       "      <td>958.185927</td>\n",
       "      <td>441.563861</td>\n",
       "      <td>...</td>\n",
       "      <td>0</td>\n",
       "      <td>0</td>\n",
       "      <td>0</td>\n",
       "      <td>NaN</td>\n",
       "      <td>0</td>\n",
       "      <td>0</td>\n",
       "      <td>NaN</td>\n",
       "      <td>1.0</td>\n",
       "      <td>NaN</td>\n",
       "      <td>NaN</td>\n",
       "    </tr>\n",
       "    <tr>\n",
       "      <th>1</th>\n",
       "      <td>329</td>\n",
       "      <td>Active</td>\n",
       "      <td>NaN</td>\n",
       "      <td>NaN</td>\n",
       "      <td>NaN</td>\n",
       "      <td>-1706.0</td>\n",
       "      <td>-1068.0</td>\n",
       "      <td>NaN</td>\n",
       "      <td>958.185927</td>\n",
       "      <td>441.563861</td>\n",
       "      <td>...</td>\n",
       "      <td>0</td>\n",
       "      <td>1</td>\n",
       "      <td>0</td>\n",
       "      <td>NaN</td>\n",
       "      <td>0</td>\n",
       "      <td>0</td>\n",
       "      <td>NaN</td>\n",
       "      <td>0.0</td>\n",
       "      <td>38.0</td>\n",
       "      <td>13870.0</td>\n",
       "    </tr>\n",
       "    <tr>\n",
       "      <th>2</th>\n",
       "      <td>348</td>\n",
       "      <td>Placebo</td>\n",
       "      <td>NaN</td>\n",
       "      <td>NaN</td>\n",
       "      <td>1.0</td>\n",
       "      <td>-501.0</td>\n",
       "      <td>-302.0</td>\n",
       "      <td>NaN</td>\n",
       "      <td>958.185927</td>\n",
       "      <td>441.563861</td>\n",
       "      <td>...</td>\n",
       "      <td>0</td>\n",
       "      <td>0</td>\n",
       "      <td>0</td>\n",
       "      <td>NaN</td>\n",
       "      <td>1</td>\n",
       "      <td>0</td>\n",
       "      <td>NaN</td>\n",
       "      <td>0.0</td>\n",
       "      <td>52.0</td>\n",
       "      <td>18980.0</td>\n",
       "    </tr>\n",
       "    <tr>\n",
       "      <th>3</th>\n",
       "      <td>406</td>\n",
       "      <td>Active</td>\n",
       "      <td>NaN</td>\n",
       "      <td>NaN</td>\n",
       "      <td>1.0</td>\n",
       "      <td>NaN</td>\n",
       "      <td>NaN</td>\n",
       "      <td>NaN</td>\n",
       "      <td>958.185927</td>\n",
       "      <td>441.563861</td>\n",
       "      <td>...</td>\n",
       "      <td>0</td>\n",
       "      <td>0</td>\n",
       "      <td>0</td>\n",
       "      <td>NaN</td>\n",
       "      <td>0</td>\n",
       "      <td>0</td>\n",
       "      <td>NaN</td>\n",
       "      <td>1.0</td>\n",
       "      <td>NaN</td>\n",
       "      <td>NaN</td>\n",
       "    </tr>\n",
       "    <tr>\n",
       "      <th>4</th>\n",
       "      <td>411</td>\n",
       "      <td>Active</td>\n",
       "      <td>1.0</td>\n",
       "      <td>141.0</td>\n",
       "      <td>1.0</td>\n",
       "      <td>NaN</td>\n",
       "      <td>NaN</td>\n",
       "      <td>NaN</td>\n",
       "      <td>958.185927</td>\n",
       "      <td>441.563861</td>\n",
       "      <td>...</td>\n",
       "      <td>0</td>\n",
       "      <td>0</td>\n",
       "      <td>0</td>\n",
       "      <td>NaN</td>\n",
       "      <td>0</td>\n",
       "      <td>0</td>\n",
       "      <td>NaN</td>\n",
       "      <td>1.0</td>\n",
       "      <td>NaN</td>\n",
       "      <td>NaN</td>\n",
       "    </tr>\n",
       "  </tbody>\n",
       "</table>\n",
       "<p>5 rows × 25 columns</p>\n",
       "</div>"
      ],
      "text/plain": [
       "   subject_id Study_Arm  Subject_Died  death_days_trail_start  \\\n",
       "0          89    Active           1.0                   218.0   \n",
       "1         329    Active           NaN                     NaN   \n",
       "2         348   Placebo           NaN                     NaN   \n",
       "3         406    Active           NaN                     NaN   \n",
       "4         411    Active           1.0                   141.0   \n",
       "\n",
       "   Subject_used_Riluzole  Onset_Delta  Diagnosis_Delta  death_day_since_onset  \\\n",
       "0                    1.0          NaN              NaN                    NaN   \n",
       "1                    NaN      -1706.0          -1068.0                    NaN   \n",
       "2                    1.0       -501.0           -302.0                    NaN   \n",
       "3                    1.0          NaN              NaN                    NaN   \n",
       "4                    1.0          NaN              NaN                    NaN   \n",
       "\n",
       "   death_day_mean  death_day_stdev  ...  Race_Asian  \\\n",
       "0      958.185927       441.563861  ...           0   \n",
       "1      958.185927       441.563861  ...           0   \n",
       "2      958.185927       441.563861  ...           0   \n",
       "3      958.185927       441.563861  ...           0   \n",
       "4      958.185927       441.563861  ...           0   \n",
       "\n",
       "   Race_Black_African_American  Race_Hawaiian_Pacific_Islander Race_Unknown  \\\n",
       "0                            0                               0          NaN   \n",
       "1                            1                               0          NaN   \n",
       "2                            0                               0          NaN   \n",
       "3                            0                               0          NaN   \n",
       "4                            0                               0          NaN   \n",
       "\n",
       "   Race_Caucasian  Race_Other  Race_Other_Specify  sex  age_trial_start_years  \\\n",
       "0               0           0                 NaN  1.0                    NaN   \n",
       "1               0           0                 NaN  0.0                   38.0   \n",
       "2               1           0                 NaN  0.0                   52.0   \n",
       "3               0           0                 NaN  1.0                    NaN   \n",
       "4               0           0                 NaN  1.0                    NaN   \n",
       "\n",
       "   age_trial_start_days  \n",
       "0                   NaN  \n",
       "1               13870.0  \n",
       "2               18980.0  \n",
       "3                   NaN  \n",
       "4                   NaN  \n",
       "\n",
       "[5 rows x 25 columns]"
      ]
     },
     "execution_count": 8,
     "metadata": {},
     "output_type": "execute_result"
    }
   ],
   "source": [
    "print(df.shape)\n",
    "df.head()"
   ]
  },
  {
   "cell_type": "markdown",
   "metadata": {},
   "source": [
    "### Add scale linear coeff"
   ]
  },
  {
   "cell_type": "code",
   "execution_count": 9,
   "metadata": {},
   "outputs": [],
   "source": [
    "scale_assess = pd.read_csv(\"clean_data/scale_assess_slope.csv\")"
   ]
  },
  {
   "cell_type": "code",
   "execution_count": 10,
   "metadata": {},
   "outputs": [
    {
     "name": "stdout",
     "output_type": "stream",
     "text": [
      "(6537, 4)\n"
     ]
    },
    {
     "data": {
      "text/html": [
       "<div>\n",
       "<style scoped>\n",
       "    .dataframe tbody tr th:only-of-type {\n",
       "        vertical-align: middle;\n",
       "    }\n",
       "\n",
       "    .dataframe tbody tr th {\n",
       "        vertical-align: top;\n",
       "    }\n",
       "\n",
       "    .dataframe thead th {\n",
       "        text-align: right;\n",
       "    }\n",
       "</style>\n",
       "<table border=\"1\" class=\"dataframe\">\n",
       "  <thead>\n",
       "    <tr style=\"text-align: right;\">\n",
       "      <th></th>\n",
       "      <th>subject_id</th>\n",
       "      <th>scale</th>\n",
       "      <th>slope</th>\n",
       "      <th>intercept</th>\n",
       "    </tr>\n",
       "  </thead>\n",
       "  <tbody>\n",
       "    <tr>\n",
       "      <th>0</th>\n",
       "      <td>329</td>\n",
       "      <td>original</td>\n",
       "      <td>-0.007092</td>\n",
       "      <td>40.084327</td>\n",
       "    </tr>\n",
       "    <tr>\n",
       "      <th>1</th>\n",
       "      <td>348</td>\n",
       "      <td>revised</td>\n",
       "      <td>-0.012720</td>\n",
       "      <td>46.428161</td>\n",
       "    </tr>\n",
       "    <tr>\n",
       "      <th>2</th>\n",
       "      <td>533</td>\n",
       "      <td>revised</td>\n",
       "      <td>-0.010940</td>\n",
       "      <td>48.231426</td>\n",
       "    </tr>\n",
       "    <tr>\n",
       "      <th>3</th>\n",
       "      <td>586</td>\n",
       "      <td>revised</td>\n",
       "      <td>-0.012535</td>\n",
       "      <td>48.000000</td>\n",
       "    </tr>\n",
       "    <tr>\n",
       "      <th>4</th>\n",
       "      <td>649</td>\n",
       "      <td>original</td>\n",
       "      <td>-0.020465</td>\n",
       "      <td>43.366399</td>\n",
       "    </tr>\n",
       "  </tbody>\n",
       "</table>\n",
       "</div>"
      ],
      "text/plain": [
       "   subject_id     scale     slope  intercept\n",
       "0         329  original -0.007092  40.084327\n",
       "1         348   revised -0.012720  46.428161\n",
       "2         533   revised -0.010940  48.231426\n",
       "3         586   revised -0.012535  48.000000\n",
       "4         649  original -0.020465  43.366399"
      ]
     },
     "execution_count": 10,
     "metadata": {},
     "output_type": "execute_result"
    }
   ],
   "source": [
    "print(scale_assess.shape)\n",
    "scale_assess.head()"
   ]
  },
  {
   "cell_type": "code",
   "execution_count": 11,
   "metadata": {},
   "outputs": [],
   "source": [
    "# merge with previous data\n",
    "df = df.merge(scale_assess, how='left', on='subject_id')"
   ]
  },
  {
   "cell_type": "code",
   "execution_count": 12,
   "metadata": {},
   "outputs": [
    {
     "name": "stdout",
     "output_type": "stream",
     "text": [
      "(9640, 28)\n"
     ]
    },
    {
     "data": {
      "text/html": [
       "<div>\n",
       "<style scoped>\n",
       "    .dataframe tbody tr th:only-of-type {\n",
       "        vertical-align: middle;\n",
       "    }\n",
       "\n",
       "    .dataframe tbody tr th {\n",
       "        vertical-align: top;\n",
       "    }\n",
       "\n",
       "    .dataframe thead th {\n",
       "        text-align: right;\n",
       "    }\n",
       "</style>\n",
       "<table border=\"1\" class=\"dataframe\">\n",
       "  <thead>\n",
       "    <tr style=\"text-align: right;\">\n",
       "      <th></th>\n",
       "      <th>subject_id</th>\n",
       "      <th>Study_Arm</th>\n",
       "      <th>Subject_Died</th>\n",
       "      <th>death_days_trail_start</th>\n",
       "      <th>Subject_used_Riluzole</th>\n",
       "      <th>Onset_Delta</th>\n",
       "      <th>Diagnosis_Delta</th>\n",
       "      <th>death_day_since_onset</th>\n",
       "      <th>death_day_mean</th>\n",
       "      <th>death_day_stdev</th>\n",
       "      <th>...</th>\n",
       "      <th>Race_Unknown</th>\n",
       "      <th>Race_Caucasian</th>\n",
       "      <th>Race_Other</th>\n",
       "      <th>Race_Other_Specify</th>\n",
       "      <th>sex</th>\n",
       "      <th>age_trial_start_years</th>\n",
       "      <th>age_trial_start_days</th>\n",
       "      <th>scale</th>\n",
       "      <th>slope</th>\n",
       "      <th>intercept</th>\n",
       "    </tr>\n",
       "  </thead>\n",
       "  <tbody>\n",
       "    <tr>\n",
       "      <th>0</th>\n",
       "      <td>89</td>\n",
       "      <td>Active</td>\n",
       "      <td>1.0</td>\n",
       "      <td>218.0</td>\n",
       "      <td>1.0</td>\n",
       "      <td>NaN</td>\n",
       "      <td>NaN</td>\n",
       "      <td>NaN</td>\n",
       "      <td>958.185927</td>\n",
       "      <td>441.563861</td>\n",
       "      <td>...</td>\n",
       "      <td>NaN</td>\n",
       "      <td>0</td>\n",
       "      <td>0</td>\n",
       "      <td>NaN</td>\n",
       "      <td>1.0</td>\n",
       "      <td>NaN</td>\n",
       "      <td>NaN</td>\n",
       "      <td>NaN</td>\n",
       "      <td>NaN</td>\n",
       "      <td>NaN</td>\n",
       "    </tr>\n",
       "    <tr>\n",
       "      <th>1</th>\n",
       "      <td>329</td>\n",
       "      <td>Active</td>\n",
       "      <td>NaN</td>\n",
       "      <td>NaN</td>\n",
       "      <td>NaN</td>\n",
       "      <td>-1706.0</td>\n",
       "      <td>-1068.0</td>\n",
       "      <td>NaN</td>\n",
       "      <td>958.185927</td>\n",
       "      <td>441.563861</td>\n",
       "      <td>...</td>\n",
       "      <td>NaN</td>\n",
       "      <td>0</td>\n",
       "      <td>0</td>\n",
       "      <td>NaN</td>\n",
       "      <td>0.0</td>\n",
       "      <td>38.0</td>\n",
       "      <td>13870.0</td>\n",
       "      <td>original</td>\n",
       "      <td>-0.007092</td>\n",
       "      <td>40.084327</td>\n",
       "    </tr>\n",
       "    <tr>\n",
       "      <th>2</th>\n",
       "      <td>348</td>\n",
       "      <td>Placebo</td>\n",
       "      <td>NaN</td>\n",
       "      <td>NaN</td>\n",
       "      <td>1.0</td>\n",
       "      <td>-501.0</td>\n",
       "      <td>-302.0</td>\n",
       "      <td>NaN</td>\n",
       "      <td>958.185927</td>\n",
       "      <td>441.563861</td>\n",
       "      <td>...</td>\n",
       "      <td>NaN</td>\n",
       "      <td>1</td>\n",
       "      <td>0</td>\n",
       "      <td>NaN</td>\n",
       "      <td>0.0</td>\n",
       "      <td>52.0</td>\n",
       "      <td>18980.0</td>\n",
       "      <td>revised</td>\n",
       "      <td>-0.012720</td>\n",
       "      <td>46.428161</td>\n",
       "    </tr>\n",
       "    <tr>\n",
       "      <th>3</th>\n",
       "      <td>406</td>\n",
       "      <td>Active</td>\n",
       "      <td>NaN</td>\n",
       "      <td>NaN</td>\n",
       "      <td>1.0</td>\n",
       "      <td>NaN</td>\n",
       "      <td>NaN</td>\n",
       "      <td>NaN</td>\n",
       "      <td>958.185927</td>\n",
       "      <td>441.563861</td>\n",
       "      <td>...</td>\n",
       "      <td>NaN</td>\n",
       "      <td>0</td>\n",
       "      <td>0</td>\n",
       "      <td>NaN</td>\n",
       "      <td>1.0</td>\n",
       "      <td>NaN</td>\n",
       "      <td>NaN</td>\n",
       "      <td>NaN</td>\n",
       "      <td>NaN</td>\n",
       "      <td>NaN</td>\n",
       "    </tr>\n",
       "    <tr>\n",
       "      <th>4</th>\n",
       "      <td>411</td>\n",
       "      <td>Active</td>\n",
       "      <td>1.0</td>\n",
       "      <td>141.0</td>\n",
       "      <td>1.0</td>\n",
       "      <td>NaN</td>\n",
       "      <td>NaN</td>\n",
       "      <td>NaN</td>\n",
       "      <td>958.185927</td>\n",
       "      <td>441.563861</td>\n",
       "      <td>...</td>\n",
       "      <td>NaN</td>\n",
       "      <td>0</td>\n",
       "      <td>0</td>\n",
       "      <td>NaN</td>\n",
       "      <td>1.0</td>\n",
       "      <td>NaN</td>\n",
       "      <td>NaN</td>\n",
       "      <td>NaN</td>\n",
       "      <td>NaN</td>\n",
       "      <td>NaN</td>\n",
       "    </tr>\n",
       "  </tbody>\n",
       "</table>\n",
       "<p>5 rows × 28 columns</p>\n",
       "</div>"
      ],
      "text/plain": [
       "   subject_id Study_Arm  Subject_Died  death_days_trail_start  \\\n",
       "0          89    Active           1.0                   218.0   \n",
       "1         329    Active           NaN                     NaN   \n",
       "2         348   Placebo           NaN                     NaN   \n",
       "3         406    Active           NaN                     NaN   \n",
       "4         411    Active           1.0                   141.0   \n",
       "\n",
       "   Subject_used_Riluzole  Onset_Delta  Diagnosis_Delta  death_day_since_onset  \\\n",
       "0                    1.0          NaN              NaN                    NaN   \n",
       "1                    NaN      -1706.0          -1068.0                    NaN   \n",
       "2                    1.0       -501.0           -302.0                    NaN   \n",
       "3                    1.0          NaN              NaN                    NaN   \n",
       "4                    1.0          NaN              NaN                    NaN   \n",
       "\n",
       "   death_day_mean  death_day_stdev  ...  Race_Unknown  Race_Caucasian  \\\n",
       "0      958.185927       441.563861  ...           NaN               0   \n",
       "1      958.185927       441.563861  ...           NaN               0   \n",
       "2      958.185927       441.563861  ...           NaN               1   \n",
       "3      958.185927       441.563861  ...           NaN               0   \n",
       "4      958.185927       441.563861  ...           NaN               0   \n",
       "\n",
       "   Race_Other Race_Other_Specify  sex  age_trial_start_years  \\\n",
       "0           0                NaN  1.0                    NaN   \n",
       "1           0                NaN  0.0                   38.0   \n",
       "2           0                NaN  0.0                   52.0   \n",
       "3           0                NaN  1.0                    NaN   \n",
       "4           0                NaN  1.0                    NaN   \n",
       "\n",
       "   age_trial_start_days     scale     slope  intercept  \n",
       "0                   NaN       NaN       NaN        NaN  \n",
       "1               13870.0  original -0.007092  40.084327  \n",
       "2               18980.0   revised -0.012720  46.428161  \n",
       "3                   NaN       NaN       NaN        NaN  \n",
       "4                   NaN       NaN       NaN        NaN  \n",
       "\n",
       "[5 rows x 28 columns]"
      ]
     },
     "execution_count": 12,
     "metadata": {},
     "output_type": "execute_result"
    }
   ],
   "source": [
    "print(df.shape)\n",
    "df.head()"
   ]
  },
  {
   "cell_type": "markdown",
   "metadata": {},
   "source": [
    "## clean up the data"
   ]
  },
  {
   "cell_type": "code",
   "execution_count": 13,
   "metadata": {},
   "outputs": [
    {
     "data": {
      "text/plain": [
       "Index(['subject_id', 'Study_Arm', 'Subject_Died', 'death_days_trail_start',\n",
       "       'Subject_used_Riluzole', 'Onset_Delta', 'Diagnosis_Delta',\n",
       "       'death_day_since_onset', 'death_day_mean', 'death_day_stdev',\n",
       "       'death_week', 'death_month', 'Age', 'Ethnicity',\n",
       "       'Race_Americ_Indian_Alaska_Native', 'Race_Asian',\n",
       "       'Race_Black_African_American', 'Race_Hawaiian_Pacific_Islander',\n",
       "       'Race_Unknown', 'Race_Caucasian', 'Race_Other', 'Race_Other_Specify',\n",
       "       'sex', 'age_trial_start_years', 'age_trial_start_days', 'scale',\n",
       "       'slope', 'intercept'],\n",
       "      dtype='object')"
      ]
     },
     "execution_count": 13,
     "metadata": {},
     "output_type": "execute_result"
    }
   ],
   "source": [
    "df.columns"
   ]
  },
  {
   "cell_type": "code",
   "execution_count": 14,
   "metadata": {},
   "outputs": [],
   "source": [
    "# limit to placebo subjects.\n",
    "placebo = df[ df['Study_Arm']=='Placebo' ].copy()"
   ]
  },
  {
   "cell_type": "code",
   "execution_count": 15,
   "metadata": {},
   "outputs": [
    {
     "data": {
      "text/html": [
       "<div>\n",
       "<style scoped>\n",
       "    .dataframe tbody tr th:only-of-type {\n",
       "        vertical-align: middle;\n",
       "    }\n",
       "\n",
       "    .dataframe tbody tr th {\n",
       "        vertical-align: top;\n",
       "    }\n",
       "\n",
       "    .dataframe thead th {\n",
       "        text-align: right;\n",
       "    }\n",
       "</style>\n",
       "<table border=\"1\" class=\"dataframe\">\n",
       "  <thead>\n",
       "    <tr style=\"text-align: right;\">\n",
       "      <th></th>\n",
       "      <th>subject_id</th>\n",
       "      <th>Study_Arm</th>\n",
       "      <th>Subject_Died</th>\n",
       "      <th>death_days_trail_start</th>\n",
       "      <th>Subject_used_Riluzole</th>\n",
       "      <th>Onset_Delta</th>\n",
       "      <th>Diagnosis_Delta</th>\n",
       "      <th>death_day_since_onset</th>\n",
       "      <th>death_day_mean</th>\n",
       "      <th>death_day_stdev</th>\n",
       "      <th>...</th>\n",
       "      <th>Race_Unknown</th>\n",
       "      <th>Race_Caucasian</th>\n",
       "      <th>Race_Other</th>\n",
       "      <th>Race_Other_Specify</th>\n",
       "      <th>sex</th>\n",
       "      <th>age_trial_start_years</th>\n",
       "      <th>age_trial_start_days</th>\n",
       "      <th>scale</th>\n",
       "      <th>slope</th>\n",
       "      <th>intercept</th>\n",
       "    </tr>\n",
       "  </thead>\n",
       "  <tbody>\n",
       "    <tr>\n",
       "      <th>2</th>\n",
       "      <td>348</td>\n",
       "      <td>Placebo</td>\n",
       "      <td>NaN</td>\n",
       "      <td>NaN</td>\n",
       "      <td>1.0</td>\n",
       "      <td>-501.0</td>\n",
       "      <td>-302.0</td>\n",
       "      <td>NaN</td>\n",
       "      <td>958.185927</td>\n",
       "      <td>441.563861</td>\n",
       "      <td>...</td>\n",
       "      <td>NaN</td>\n",
       "      <td>1</td>\n",
       "      <td>0</td>\n",
       "      <td>NaN</td>\n",
       "      <td>0.0</td>\n",
       "      <td>52.0</td>\n",
       "      <td>18980.0</td>\n",
       "      <td>revised</td>\n",
       "      <td>-0.012720</td>\n",
       "      <td>46.428161</td>\n",
       "    </tr>\n",
       "    <tr>\n",
       "      <th>7</th>\n",
       "      <td>902</td>\n",
       "      <td>Placebo</td>\n",
       "      <td>0.0</td>\n",
       "      <td>NaN</td>\n",
       "      <td>1.0</td>\n",
       "      <td>-514.0</td>\n",
       "      <td>-49.0</td>\n",
       "      <td>NaN</td>\n",
       "      <td>958.185927</td>\n",
       "      <td>441.563861</td>\n",
       "      <td>...</td>\n",
       "      <td>NaN</td>\n",
       "      <td>1</td>\n",
       "      <td>0</td>\n",
       "      <td>NaN</td>\n",
       "      <td>0.0</td>\n",
       "      <td>76.8</td>\n",
       "      <td>28032.0</td>\n",
       "      <td>revised</td>\n",
       "      <td>-0.014862</td>\n",
       "      <td>48.309915</td>\n",
       "    </tr>\n",
       "    <tr>\n",
       "      <th>9</th>\n",
       "      <td>1064</td>\n",
       "      <td>Placebo</td>\n",
       "      <td>NaN</td>\n",
       "      <td>NaN</td>\n",
       "      <td>1.0</td>\n",
       "      <td>-550.0</td>\n",
       "      <td>-462.0</td>\n",
       "      <td>NaN</td>\n",
       "      <td>958.185927</td>\n",
       "      <td>441.563861</td>\n",
       "      <td>...</td>\n",
       "      <td>NaN</td>\n",
       "      <td>1</td>\n",
       "      <td>0</td>\n",
       "      <td>NaN</td>\n",
       "      <td>0.0</td>\n",
       "      <td>66.0</td>\n",
       "      <td>24090.0</td>\n",
       "      <td>revised</td>\n",
       "      <td>-0.033519</td>\n",
       "      <td>55.259988</td>\n",
       "    </tr>\n",
       "    <tr>\n",
       "      <th>11</th>\n",
       "      <td>1312</td>\n",
       "      <td>Placebo</td>\n",
       "      <td>0.0</td>\n",
       "      <td>NaN</td>\n",
       "      <td>0.0</td>\n",
       "      <td>-247.0</td>\n",
       "      <td>-63.0</td>\n",
       "      <td>NaN</td>\n",
       "      <td>958.185927</td>\n",
       "      <td>441.563861</td>\n",
       "      <td>...</td>\n",
       "      <td>NaN</td>\n",
       "      <td>0</td>\n",
       "      <td>0</td>\n",
       "      <td>NaN</td>\n",
       "      <td>0.0</td>\n",
       "      <td>67.0</td>\n",
       "      <td>24455.0</td>\n",
       "      <td>revised</td>\n",
       "      <td>-0.032389</td>\n",
       "      <td>48.000000</td>\n",
       "    </tr>\n",
       "    <tr>\n",
       "      <th>16</th>\n",
       "      <td>2132</td>\n",
       "      <td>Placebo</td>\n",
       "      <td>1.0</td>\n",
       "      <td>7.0</td>\n",
       "      <td>0.0</td>\n",
       "      <td>NaN</td>\n",
       "      <td>NaN</td>\n",
       "      <td>NaN</td>\n",
       "      <td>958.185927</td>\n",
       "      <td>441.563861</td>\n",
       "      <td>...</td>\n",
       "      <td>NaN</td>\n",
       "      <td>0</td>\n",
       "      <td>0</td>\n",
       "      <td>NaN</td>\n",
       "      <td>1.0</td>\n",
       "      <td>65.0</td>\n",
       "      <td>23725.0</td>\n",
       "      <td>NaN</td>\n",
       "      <td>NaN</td>\n",
       "      <td>NaN</td>\n",
       "    </tr>\n",
       "  </tbody>\n",
       "</table>\n",
       "<p>5 rows × 28 columns</p>\n",
       "</div>"
      ],
      "text/plain": [
       "    subject_id Study_Arm  Subject_Died  death_days_trail_start  \\\n",
       "2          348   Placebo           NaN                     NaN   \n",
       "7          902   Placebo           0.0                     NaN   \n",
       "9         1064   Placebo           NaN                     NaN   \n",
       "11        1312   Placebo           0.0                     NaN   \n",
       "16        2132   Placebo           1.0                     7.0   \n",
       "\n",
       "    Subject_used_Riluzole  Onset_Delta  Diagnosis_Delta  \\\n",
       "2                     1.0       -501.0           -302.0   \n",
       "7                     1.0       -514.0            -49.0   \n",
       "9                     1.0       -550.0           -462.0   \n",
       "11                    0.0       -247.0            -63.0   \n",
       "16                    0.0          NaN              NaN   \n",
       "\n",
       "    death_day_since_onset  death_day_mean  death_day_stdev  ...  Race_Unknown  \\\n",
       "2                     NaN      958.185927       441.563861  ...           NaN   \n",
       "7                     NaN      958.185927       441.563861  ...           NaN   \n",
       "9                     NaN      958.185927       441.563861  ...           NaN   \n",
       "11                    NaN      958.185927       441.563861  ...           NaN   \n",
       "16                    NaN      958.185927       441.563861  ...           NaN   \n",
       "\n",
       "    Race_Caucasian  Race_Other Race_Other_Specify  sex  age_trial_start_years  \\\n",
       "2                1           0                NaN  0.0                   52.0   \n",
       "7                1           0                NaN  0.0                   76.8   \n",
       "9                1           0                NaN  0.0                   66.0   \n",
       "11               0           0                NaN  0.0                   67.0   \n",
       "16               0           0                NaN  1.0                   65.0   \n",
       "\n",
       "    age_trial_start_days    scale     slope  intercept  \n",
       "2                18980.0  revised -0.012720  46.428161  \n",
       "7                28032.0  revised -0.014862  48.309915  \n",
       "9                24090.0  revised -0.033519  55.259988  \n",
       "11               24455.0  revised -0.032389  48.000000  \n",
       "16               23725.0      NaN       NaN        NaN  \n",
       "\n",
       "[5 rows x 28 columns]"
      ]
     },
     "execution_count": 15,
     "metadata": {},
     "output_type": "execute_result"
    }
   ],
   "source": [
    "placebo.head()"
   ]
  },
  {
   "cell_type": "code",
   "execution_count": 16,
   "metadata": {},
   "outputs": [
    {
     "data": {
      "text/plain": [
       "Index(['subject_id', 'Study_Arm', 'Subject_Died', 'death_days_trail_start',\n",
       "       'Subject_used_Riluzole', 'Onset_Delta', 'Diagnosis_Delta',\n",
       "       'death_day_since_onset', 'death_day_mean', 'death_day_stdev',\n",
       "       'death_week', 'death_month', 'Age', 'Ethnicity',\n",
       "       'Race_Americ_Indian_Alaska_Native', 'Race_Asian',\n",
       "       'Race_Black_African_American', 'Race_Hawaiian_Pacific_Islander',\n",
       "       'Race_Unknown', 'Race_Caucasian', 'Race_Other', 'Race_Other_Specify',\n",
       "       'sex', 'age_trial_start_years', 'age_trial_start_days', 'scale',\n",
       "       'slope', 'intercept'],\n",
       "      dtype='object')"
      ]
     },
     "execution_count": 16,
     "metadata": {},
     "output_type": "execute_result"
    }
   ],
   "source": [
    "placebo.columns"
   ]
  },
  {
   "cell_type": "code",
   "execution_count": 17,
   "metadata": {},
   "outputs": [],
   "source": [
    "# test X with random rows\n",
    "X1 = placebo[['Subject_used_Riluzole', 'age_trial_start_years', 'death_day_since_onset',\n",
    "              'Race_Americ_Indian_Alaska_Native', 'Race_Asian', 'Race_Black_African_American',\n",
    "              'Race_Hawaiian_Pacific_Islander', 'Race_Caucasian', 'slope' , 'death_day_mean', \n",
    "             'death_day_stdev']].copy()"
   ]
  },
  {
   "cell_type": "code",
   "execution_count": 18,
   "metadata": {},
   "outputs": [],
   "source": [
    "# get rid of the nans\n",
    "X1.dropna(axis=0, inplace=True)"
   ]
  },
  {
   "cell_type": "code",
   "execution_count": 19,
   "metadata": {},
   "outputs": [
    {
     "name": "stdout",
     "output_type": "stream",
     "text": [
      "(459, 11)\n"
     ]
    },
    {
     "data": {
      "text/html": [
       "<div>\n",
       "<style scoped>\n",
       "    .dataframe tbody tr th:only-of-type {\n",
       "        vertical-align: middle;\n",
       "    }\n",
       "\n",
       "    .dataframe tbody tr th {\n",
       "        vertical-align: top;\n",
       "    }\n",
       "\n",
       "    .dataframe thead th {\n",
       "        text-align: right;\n",
       "    }\n",
       "</style>\n",
       "<table border=\"1\" class=\"dataframe\">\n",
       "  <thead>\n",
       "    <tr style=\"text-align: right;\">\n",
       "      <th></th>\n",
       "      <th>Subject_used_Riluzole</th>\n",
       "      <th>age_trial_start_years</th>\n",
       "      <th>death_day_since_onset</th>\n",
       "      <th>Race_Americ_Indian_Alaska_Native</th>\n",
       "      <th>Race_Asian</th>\n",
       "      <th>Race_Black_African_American</th>\n",
       "      <th>Race_Hawaiian_Pacific_Islander</th>\n",
       "      <th>Race_Caucasian</th>\n",
       "      <th>slope</th>\n",
       "      <th>death_day_mean</th>\n",
       "      <th>death_day_stdev</th>\n",
       "    </tr>\n",
       "  </thead>\n",
       "  <tbody>\n",
       "    <tr>\n",
       "      <th>22</th>\n",
       "      <td>1.0</td>\n",
       "      <td>41.0</td>\n",
       "      <td>405.0</td>\n",
       "      <td>0</td>\n",
       "      <td>0</td>\n",
       "      <td>0</td>\n",
       "      <td>0</td>\n",
       "      <td>1</td>\n",
       "      <td>-0.053054</td>\n",
       "      <td>958.185927</td>\n",
       "      <td>441.563861</td>\n",
       "    </tr>\n",
       "    <tr>\n",
       "      <th>32</th>\n",
       "      <td>1.0</td>\n",
       "      <td>60.0</td>\n",
       "      <td>624.0</td>\n",
       "      <td>0</td>\n",
       "      <td>0</td>\n",
       "      <td>0</td>\n",
       "      <td>0</td>\n",
       "      <td>1</td>\n",
       "      <td>-0.037167</td>\n",
       "      <td>958.185927</td>\n",
       "      <td>441.563861</td>\n",
       "    </tr>\n",
       "    <tr>\n",
       "      <th>65</th>\n",
       "      <td>1.0</td>\n",
       "      <td>70.0</td>\n",
       "      <td>656.0</td>\n",
       "      <td>0</td>\n",
       "      <td>0</td>\n",
       "      <td>0</td>\n",
       "      <td>0</td>\n",
       "      <td>1</td>\n",
       "      <td>-0.012011</td>\n",
       "      <td>958.185927</td>\n",
       "      <td>441.563861</td>\n",
       "    </tr>\n",
       "    <tr>\n",
       "      <th>68</th>\n",
       "      <td>1.0</td>\n",
       "      <td>65.0</td>\n",
       "      <td>706.0</td>\n",
       "      <td>0</td>\n",
       "      <td>0</td>\n",
       "      <td>0</td>\n",
       "      <td>0</td>\n",
       "      <td>1</td>\n",
       "      <td>-0.040901</td>\n",
       "      <td>958.185927</td>\n",
       "      <td>441.563861</td>\n",
       "    </tr>\n",
       "    <tr>\n",
       "      <th>77</th>\n",
       "      <td>1.0</td>\n",
       "      <td>52.0</td>\n",
       "      <td>1781.0</td>\n",
       "      <td>0</td>\n",
       "      <td>0</td>\n",
       "      <td>0</td>\n",
       "      <td>0</td>\n",
       "      <td>1</td>\n",
       "      <td>-0.006964</td>\n",
       "      <td>958.185927</td>\n",
       "      <td>441.563861</td>\n",
       "    </tr>\n",
       "  </tbody>\n",
       "</table>\n",
       "</div>"
      ],
      "text/plain": [
       "    Subject_used_Riluzole  age_trial_start_years  death_day_since_onset  \\\n",
       "22                    1.0                   41.0                  405.0   \n",
       "32                    1.0                   60.0                  624.0   \n",
       "65                    1.0                   70.0                  656.0   \n",
       "68                    1.0                   65.0                  706.0   \n",
       "77                    1.0                   52.0                 1781.0   \n",
       "\n",
       "    Race_Americ_Indian_Alaska_Native  Race_Asian  Race_Black_African_American  \\\n",
       "22                                 0           0                            0   \n",
       "32                                 0           0                            0   \n",
       "65                                 0           0                            0   \n",
       "68                                 0           0                            0   \n",
       "77                                 0           0                            0   \n",
       "\n",
       "    Race_Hawaiian_Pacific_Islander  Race_Caucasian     slope  death_day_mean  \\\n",
       "22                               0               1 -0.053054      958.185927   \n",
       "32                               0               1 -0.037167      958.185927   \n",
       "65                               0               1 -0.012011      958.185927   \n",
       "68                               0               1 -0.040901      958.185927   \n",
       "77                               0               1 -0.006964      958.185927   \n",
       "\n",
       "    death_day_stdev  \n",
       "22       441.563861  \n",
       "32       441.563861  \n",
       "65       441.563861  \n",
       "68       441.563861  \n",
       "77       441.563861  "
      ]
     },
     "execution_count": 19,
     "metadata": {},
     "output_type": "execute_result"
    }
   ],
   "source": [
    "print(X1.shape)\n",
    "X1.head()"
   ]
  },
  {
   "cell_type": "markdown",
   "metadata": {},
   "source": [
    "#### split data"
   ]
  },
  {
   "cell_type": "code",
   "execution_count": 20,
   "metadata": {},
   "outputs": [],
   "source": [
    "# assign target, features\n",
    "y = X1['death_day_since_onset']\n",
    "X = X1.drop('death_day_since_onset', axis=1)"
   ]
  },
  {
   "cell_type": "code",
   "execution_count": 21,
   "metadata": {},
   "outputs": [],
   "source": [
    "X_train, X_test, y_train, y_test = train_test_split(X, y, test_size=0.25, random_state=1234)"
   ]
  },
  {
   "cell_type": "markdown",
   "metadata": {},
   "source": [
    "#### Random Forest "
   ]
  },
  {
   "cell_type": "code",
   "execution_count": 22,
   "metadata": {},
   "outputs": [
    {
     "name": "stderr",
     "output_type": "stream",
     "text": [
      "/Applications/anaconda3/lib/python3.6/site-packages/sklearn/ensemble/forest.py:246: FutureWarning: The default value of n_estimators will change from 10 in version 0.20 to 100 in 0.22.\n",
      "  \"10 in version 0.20 to 100 in 0.22.\", FutureWarning)\n"
     ]
    },
    {
     "data": {
      "text/plain": [
       "RandomForestRegressor(bootstrap=True, criterion='mse', max_depth=None,\n",
       "           max_features='auto', max_leaf_nodes=None,\n",
       "           min_impurity_decrease=0.0, min_impurity_split=None,\n",
       "           min_samples_leaf=1, min_samples_split=2,\n",
       "           min_weight_fraction_leaf=0.0, n_estimators=10, n_jobs=None,\n",
       "           oob_score=False, random_state=None, verbose=0, warm_start=False)"
      ]
     },
     "execution_count": 22,
     "metadata": {},
     "output_type": "execute_result"
    }
   ],
   "source": [
    "model = RandomForestRegressor()\n",
    "model.fit(X_train,y_train)"
   ]
  },
  {
   "cell_type": "code",
   "execution_count": 23,
   "metadata": {},
   "outputs": [],
   "source": [
    "# why does this not work?\n",
    "#model.oob_score_"
   ]
  },
  {
   "cell_type": "code",
   "execution_count": 24,
   "metadata": {},
   "outputs": [
    {
     "data": {
      "text/plain": [
       "0.29258306658858935"
      ]
     },
     "execution_count": 24,
     "metadata": {},
     "output_type": "execute_result"
    }
   ],
   "source": [
    "# score - R2\n",
    "model.score(X_test, y_test.values)"
   ]
  },
  {
   "cell_type": "code",
   "execution_count": 25,
   "metadata": {},
   "outputs": [],
   "source": [
    "# predicted y values\n",
    "y_predicted = model.predict(X_test)"
   ]
  },
  {
   "cell_type": "code",
   "execution_count": 26,
   "metadata": {},
   "outputs": [
    {
     "data": {
      "image/png": "[encoded data removed]",
      "text/plain": [
       "<Figure size 432x288 with 1 Axes>"
      ]
     },
     "metadata": {
      "needs_background": "light"
     },
     "output_type": "display_data"
    }
   ],
   "source": [
    "# plot the \n",
    "plot_model_parallel(y_test, y_predicted, 'weeks diagnosis to death')"
   ]
  },
  {
   "cell_type": "code",
   "execution_count": 32,
   "metadata": {},
   "outputs": [
    {
     "data": {
      "text/html": [
       "<div>\n",
       "<style scoped>\n",
       "    .dataframe tbody tr th:only-of-type {\n",
       "        vertical-align: middle;\n",
       "    }\n",
       "\n",
       "    .dataframe tbody tr th {\n",
       "        vertical-align: top;\n",
       "    }\n",
       "\n",
       "    .dataframe thead th {\n",
       "        text-align: right;\n",
       "    }\n",
       "</style>\n",
       "<table border=\"1\" class=\"dataframe\">\n",
       "  <thead>\n",
       "    <tr style=\"text-align: right;\">\n",
       "      <th></th>\n",
       "      <th>test</th>\n",
       "      <th>predicted</th>\n",
       "      <th>result</th>\n",
       "    </tr>\n",
       "  </thead>\n",
       "  <tbody>\n",
       "    <tr>\n",
       "      <th>0</th>\n",
       "      <td>1141.0</td>\n",
       "      <td>1080.6</td>\n",
       "      <td>result</td>\n",
       "    </tr>\n",
       "    <tr>\n",
       "      <th>1</th>\n",
       "      <td>1584.0</td>\n",
       "      <td>997.8</td>\n",
       "      <td>result</td>\n",
       "    </tr>\n",
       "    <tr>\n",
       "      <th>2</th>\n",
       "      <td>1032.0</td>\n",
       "      <td>1479.5</td>\n",
       "      <td>result</td>\n",
       "    </tr>\n",
       "    <tr>\n",
       "      <th>3</th>\n",
       "      <td>910.0</td>\n",
       "      <td>1154.6</td>\n",
       "      <td>result</td>\n",
       "    </tr>\n",
       "    <tr>\n",
       "      <th>4</th>\n",
       "      <td>974.0</td>\n",
       "      <td>743.7</td>\n",
       "      <td>result</td>\n",
       "    </tr>\n",
       "    <tr>\n",
       "      <th>5</th>\n",
       "      <td>403.0</td>\n",
       "      <td>415.5</td>\n",
       "      <td>result</td>\n",
       "    </tr>\n",
       "    <tr>\n",
       "      <th>6</th>\n",
       "      <td>1300.0</td>\n",
       "      <td>852.6</td>\n",
       "      <td>result</td>\n",
       "    </tr>\n",
       "    <tr>\n",
       "      <th>7</th>\n",
       "      <td>682.0</td>\n",
       "      <td>800.5</td>\n",
       "      <td>result</td>\n",
       "    </tr>\n",
       "    <tr>\n",
       "      <th>8</th>\n",
       "      <td>820.0</td>\n",
       "      <td>1989.7</td>\n",
       "      <td>result</td>\n",
       "    </tr>\n",
       "    <tr>\n",
       "      <th>9</th>\n",
       "      <td>906.0</td>\n",
       "      <td>987.7</td>\n",
       "      <td>result</td>\n",
       "    </tr>\n",
       "  </tbody>\n",
       "</table>\n",
       "</div>"
      ],
      "text/plain": [
       "     test  predicted  result\n",
       "0  1141.0     1080.6  result\n",
       "1  1584.0      997.8  result\n",
       "2  1032.0     1479.5  result\n",
       "3   910.0     1154.6  result\n",
       "4   974.0      743.7  result\n",
       "5   403.0      415.5  result\n",
       "6  1300.0      852.6  result\n",
       "7   682.0      800.5  result\n",
       "8   820.0     1989.7  result\n",
       "9   906.0      987.7  result"
      ]
     },
     "execution_count": 32,
     "metadata": {},
     "output_type": "execute_result"
    }
   ],
   "source": [
    "# overview of test and predict data\n",
    "data = pd.DataFrame(y_test.values, columns=[\"test\"])\n",
    "data['predicted']=y_predicted\n",
    "data['result']='result'\n",
    "data.head(10)"
   ]
  },
  {
   "cell_type": "markdown",
   "metadata": {},
   "source": [
    "## Linear Model"
   ]
  },
  {
   "cell_type": "code",
   "execution_count": 28,
   "metadata": {},
   "outputs": [
    {
     "name": "stderr",
     "output_type": "stream",
     "text": [
      "/Users/Shared/galvanize/als/linear_model.py:173: RuntimeWarning: invalid value encountered in log\n",
      "  self.rmse_log = np.sqrt(((( np.log(self.predicted+1)-np.log(self.y_train + 1) )**2).sum() ) / len(self.y_train))\n"
     ]
    }
   ],
   "source": [
    "lm = LinearModel('linear', X, y)"
   ]
  },
  {
   "cell_type": "code",
   "execution_count": 29,
   "metadata": {},
   "outputs": [
    {
     "data": {
      "text/plain": [
       "0.3802304901593343"
      ]
     },
     "execution_count": 29,
     "metadata": {},
     "output_type": "execute_result"
    }
   ],
   "source": [
    "lm.r2_adj"
   ]
  },
  {
   "cell_type": "code",
   "execution_count": 30,
   "metadata": {},
   "outputs": [
    {
     "data": {
      "image/png": "[encoded data removed]",
      "text/plain": [
       "<Figure size 432x216 with 1 Axes>"
      ]
     },
     "metadata": {},
     "output_type": "display_data"
    }
   ],
   "source": [
    "lm_plot(lm.predicted, lm.y_train)"
   ]
  },
  {
   "cell_type": "code",
   "execution_count": 31,
   "metadata": {},
   "outputs": [
    {
     "data": {
      "image/png": "[encoded data removed]",
      "text/plain": [
       "<Figure size 288x144 with 1 Axes>"
      ]
     },
     "metadata": {},
     "output_type": "display_data"
    }
   ],
   "source": [
    "resid_plot(lm.predicted, lm.resid)"
   ]
  },
  {
   "cell_type": "code",
   "execution_count": null,
   "metadata": {},
   "outputs": [],
   "source": []
  }
 ],
 "metadata": {
  "kernelspec": {
   "display_name": "Python 3",
   "language": "python",
   "name": "python3"
  },
  "language_info": {
   "codemirror_mode": {
    "name": "ipython",
    "version": 3
   },
   "file_extension": ".py",
   "mimetype": "text/x-python",
   "name": "python",
   "nbconvert_exporter": "python",
   "pygments_lexer": "ipython3",
   "version": "3.6.8"
  }
 },
 "nbformat": 4,
 "nbformat_minor": 2
}
