{
 "cells": [
  {
   "cell_type": "markdown",
   "metadata": {},
   "source": [
    "# ALS project\n",
    "\n",
    "### EDA"
   ]
  },
  {
   "cell_type": "code",
   "execution_count": 1,
   "metadata": {},
   "outputs": [],
   "source": [
    "import numpy as np\n",
    "import pandas as pd\n",
    "import matplotlib.pyplot as plt\n",
    "import seaborn as sn\n",
    "from pandas_profiling import ProfileReport\n",
    "import webbrowser, os"
   ]
  },
  {
   "cell_type": "code",
   "execution_count": 2,
   "metadata": {},
   "outputs": [],
   "source": [
    "def feature_report(df):\n",
    "    '''\n",
    "    print a report of every feature\n",
    "    '''\n",
    "    profile = pandas_profiling.ProfileReport(df, bins=30)\n",
    "    profile.to_file(outputfile=\"output.html\")\n",
    "    webbrowser.open('file://' + os.path.realpath(\"output.html\"))\n",
    "    #end function"
   ]
  },
  {
   "cell_type": "markdown",
   "metadata": {},
   "source": [
    "## treatment arms"
   ]
  },
  {
   "cell_type": "code",
   "execution_count": 3,
   "metadata": {},
   "outputs": [],
   "source": [
    "txt = pd.read_csv(\"data/Treatment.csv\")"
   ]
  },
  {
   "cell_type": "code",
   "execution_count": 4,
   "metadata": {},
   "outputs": [
    {
     "data": {
      "text/html": [
       "<div>\n",
       "<style scoped>\n",
       "    .dataframe tbody tr th:only-of-type {\n",
       "        vertical-align: middle;\n",
       "    }\n",
       "\n",
       "    .dataframe tbody tr th {\n",
       "        vertical-align: top;\n",
       "    }\n",
       "\n",
       "    .dataframe thead th {\n",
       "        text-align: right;\n",
       "    }\n",
       "</style>\n",
       "<table border=\"1\" class=\"dataframe\">\n",
       "  <thead>\n",
       "    <tr style=\"text-align: right;\">\n",
       "      <th></th>\n",
       "      <th>subject_id</th>\n",
       "      <th>Study_Arm</th>\n",
       "      <th>Treatment_Group_Delta</th>\n",
       "    </tr>\n",
       "  </thead>\n",
       "  <tbody>\n",
       "    <tr>\n",
       "      <th>0</th>\n",
       "      <td>89</td>\n",
       "      <td>Active</td>\n",
       "      <td>NaN</td>\n",
       "    </tr>\n",
       "    <tr>\n",
       "      <th>1</th>\n",
       "      <td>329</td>\n",
       "      <td>Active</td>\n",
       "      <td>0.0</td>\n",
       "    </tr>\n",
       "    <tr>\n",
       "      <th>2</th>\n",
       "      <td>348</td>\n",
       "      <td>Placebo</td>\n",
       "      <td>0.0</td>\n",
       "    </tr>\n",
       "    <tr>\n",
       "      <th>3</th>\n",
       "      <td>406</td>\n",
       "      <td>Active</td>\n",
       "      <td>NaN</td>\n",
       "    </tr>\n",
       "    <tr>\n",
       "      <th>4</th>\n",
       "      <td>411</td>\n",
       "      <td>Active</td>\n",
       "      <td>NaN</td>\n",
       "    </tr>\n",
       "  </tbody>\n",
       "</table>\n",
       "</div>"
      ],
      "text/plain": [
       "   subject_id Study_Arm  Treatment_Group_Delta\n",
       "0          89    Active                    NaN\n",
       "1         329    Active                    0.0\n",
       "2         348   Placebo                    0.0\n",
       "3         406    Active                    NaN\n",
       "4         411    Active                    NaN"
      ]
     },
     "execution_count": 4,
     "metadata": {},
     "output_type": "execute_result"
    }
   ],
   "source": [
    "txt.head()"
   ]
  },
  {
   "cell_type": "code",
   "execution_count": 5,
   "metadata": {},
   "outputs": [
    {
     "name": "stdout",
     "output_type": "stream",
     "text": [
      "9640\n",
      "9640\n"
     ]
    }
   ],
   "source": [
    "# look for duplicted subjects in the dataset\n",
    "print(len(txt))  # 9640\n",
    "print(len(set(txt['subject_id'])))  #9640 = all unique subjects"
   ]
  },
  {
   "cell_type": "code",
   "execution_count": 6,
   "metadata": {},
   "outputs": [],
   "source": [
    "#feature_report(txt)\n",
    "# placebo = 30.2% of subjects\n",
    "# active = 69.8% of subjects"
   ]
  },
  {
   "cell_type": "code",
   "execution_count": 7,
   "metadata": {},
   "outputs": [
    {
     "name": "stdout",
     "output_type": "stream",
     "text": [
      "2912\n"
     ]
    },
    {
     "data": {
      "text/html": [
       "<div>\n",
       "<style scoped>\n",
       "    .dataframe tbody tr th:only-of-type {\n",
       "        vertical-align: middle;\n",
       "    }\n",
       "\n",
       "    .dataframe tbody tr th {\n",
       "        vertical-align: top;\n",
       "    }\n",
       "\n",
       "    .dataframe thead th {\n",
       "        text-align: right;\n",
       "    }\n",
       "</style>\n",
       "<table border=\"1\" class=\"dataframe\">\n",
       "  <thead>\n",
       "    <tr style=\"text-align: right;\">\n",
       "      <th></th>\n",
       "      <th>subject_id</th>\n",
       "      <th>Study_Arm</th>\n",
       "      <th>Treatment_Group_Delta</th>\n",
       "    </tr>\n",
       "  </thead>\n",
       "  <tbody>\n",
       "    <tr>\n",
       "      <th>2</th>\n",
       "      <td>348</td>\n",
       "      <td>Placebo</td>\n",
       "      <td>0.0</td>\n",
       "    </tr>\n",
       "    <tr>\n",
       "      <th>7</th>\n",
       "      <td>902</td>\n",
       "      <td>Placebo</td>\n",
       "      <td>0.0</td>\n",
       "    </tr>\n",
       "    <tr>\n",
       "      <th>9</th>\n",
       "      <td>1064</td>\n",
       "      <td>Placebo</td>\n",
       "      <td>0.0</td>\n",
       "    </tr>\n",
       "    <tr>\n",
       "      <th>11</th>\n",
       "      <td>1312</td>\n",
       "      <td>Placebo</td>\n",
       "      <td>0.0</td>\n",
       "    </tr>\n",
       "    <tr>\n",
       "      <th>16</th>\n",
       "      <td>2132</td>\n",
       "      <td>Placebo</td>\n",
       "      <td>NaN</td>\n",
       "    </tr>\n",
       "  </tbody>\n",
       "</table>\n",
       "</div>"
      ],
      "text/plain": [
       "    subject_id Study_Arm  Treatment_Group_Delta\n",
       "2          348   Placebo                    0.0\n",
       "7          902   Placebo                    0.0\n",
       "9         1064   Placebo                    0.0\n",
       "11        1312   Placebo                    0.0\n",
       "16        2132   Placebo                    NaN"
      ]
     },
     "execution_count": 7,
     "metadata": {},
     "output_type": "execute_result"
    }
   ],
   "source": [
    "# id's of placebo subjects\n",
    "placebo = txt.loc[txt['Study_Arm']=='Placebo']\n",
    "print(len(placebo))\n",
    "placebo.head()"
   ]
  },
  {
   "cell_type": "markdown",
   "metadata": {},
   "source": [
    "## questionaire"
   ]
  },
  {
   "cell_type": "code",
   "execution_count": 8,
   "metadata": {},
   "outputs": [],
   "source": [
    "question = pd.read_csv(\"data/alsfrs.csv\", )"
   ]
  },
  {
   "cell_type": "code",
   "execution_count": 9,
   "metadata": {},
   "outputs": [],
   "source": [
    "#feature_report(question)"
   ]
  },
  {
   "cell_type": "markdown",
   "metadata": {},
   "source": [
    "see the feature report"
   ]
  },
  {
   "cell_type": "code",
   "execution_count": 10,
   "metadata": {},
   "outputs": [],
   "source": [
    "# rename _delta to study day\n",
    "question['study_day'] = question['ALSFRS_Delta']"
   ]
  },
  {
   "cell_type": "code",
   "execution_count": 11,
   "metadata": {},
   "outputs": [],
   "source": [
    "# remove 'Mode_of_Administration', 'ALSFRS_Responded_By' column - empty\n",
    "question.drop(['Mode_of_Administration','ALSFRS_Responded_By', 'ALSFRS_Delta'] , axis=1, inplace=True)\n",
    "\n"
   ]
  },
  {
   "cell_type": "code",
   "execution_count": 12,
   "metadata": {},
   "outputs": [
    {
     "data": {
      "text/html": [
       "<div>\n",
       "<style scoped>\n",
       "    .dataframe tbody tr th:only-of-type {\n",
       "        vertical-align: middle;\n",
       "    }\n",
       "\n",
       "    .dataframe tbody tr th {\n",
       "        vertical-align: top;\n",
       "    }\n",
       "\n",
       "    .dataframe thead th {\n",
       "        text-align: right;\n",
       "    }\n",
       "</style>\n",
       "<table border=\"1\" class=\"dataframe\">\n",
       "  <thead>\n",
       "    <tr style=\"text-align: right;\">\n",
       "      <th></th>\n",
       "      <th>subject_id</th>\n",
       "      <th>Q1_Speech</th>\n",
       "      <th>Q2_Salivation</th>\n",
       "      <th>Q3_Swallowing</th>\n",
       "      <th>Q4_Handwriting</th>\n",
       "      <th>Q5a_Cutting_without_Gastrostomy</th>\n",
       "      <th>Q5b_Cutting_with_Gastrostomy</th>\n",
       "      <th>Q6_Dressing_and_Hygiene</th>\n",
       "      <th>Q7_Turning_in_Bed</th>\n",
       "      <th>Q8_Walking</th>\n",
       "      <th>Q9_Climbing_Stairs</th>\n",
       "      <th>Q10_Respiratory</th>\n",
       "      <th>ALSFRS_Total</th>\n",
       "      <th>ALSFRS_R_Total</th>\n",
       "      <th>R_1_Dyspnea</th>\n",
       "      <th>R_2_Orthopnea</th>\n",
       "      <th>R_3_Respiratory_Insufficiency</th>\n",
       "      <th>study_day</th>\n",
       "    </tr>\n",
       "  </thead>\n",
       "  <tbody>\n",
       "    <tr>\n",
       "      <th>0</th>\n",
       "      <td>329</td>\n",
       "      <td>4.0</td>\n",
       "      <td>3.0</td>\n",
       "      <td>4.0</td>\n",
       "      <td>3.0</td>\n",
       "      <td>2.0</td>\n",
       "      <td>NaN</td>\n",
       "      <td>3.0</td>\n",
       "      <td>2.0</td>\n",
       "      <td>2.0</td>\n",
       "      <td>1.0</td>\n",
       "      <td>3.0</td>\n",
       "      <td>27.0</td>\n",
       "      <td>NaN</td>\n",
       "      <td>NaN</td>\n",
       "      <td>NaN</td>\n",
       "      <td>NaN</td>\n",
       "      <td>0.0</td>\n",
       "    </tr>\n",
       "    <tr>\n",
       "      <th>1</th>\n",
       "      <td>329</td>\n",
       "      <td>4.0</td>\n",
       "      <td>3.0</td>\n",
       "      <td>4.0</td>\n",
       "      <td>3.0</td>\n",
       "      <td>1.5</td>\n",
       "      <td>NaN</td>\n",
       "      <td>3.0</td>\n",
       "      <td>2.0</td>\n",
       "      <td>2.0</td>\n",
       "      <td>1.0</td>\n",
       "      <td>3.0</td>\n",
       "      <td>26.5</td>\n",
       "      <td>NaN</td>\n",
       "      <td>NaN</td>\n",
       "      <td>NaN</td>\n",
       "      <td>NaN</td>\n",
       "      <td>8.0</td>\n",
       "    </tr>\n",
       "    <tr>\n",
       "      <th>2</th>\n",
       "      <td>329</td>\n",
       "      <td>4.0</td>\n",
       "      <td>3.0</td>\n",
       "      <td>4.0</td>\n",
       "      <td>3.0</td>\n",
       "      <td>1.0</td>\n",
       "      <td>NaN</td>\n",
       "      <td>3.0</td>\n",
       "      <td>2.0</td>\n",
       "      <td>2.0</td>\n",
       "      <td>1.0</td>\n",
       "      <td>3.0</td>\n",
       "      <td>26.0</td>\n",
       "      <td>NaN</td>\n",
       "      <td>NaN</td>\n",
       "      <td>NaN</td>\n",
       "      <td>NaN</td>\n",
       "      <td>16.0</td>\n",
       "    </tr>\n",
       "    <tr>\n",
       "      <th>3</th>\n",
       "      <td>329</td>\n",
       "      <td>4.0</td>\n",
       "      <td>3.0</td>\n",
       "      <td>4.0</td>\n",
       "      <td>3.0</td>\n",
       "      <td>3.0</td>\n",
       "      <td>NaN</td>\n",
       "      <td>3.0</td>\n",
       "      <td>3.0</td>\n",
       "      <td>2.0</td>\n",
       "      <td>1.0</td>\n",
       "      <td>4.0</td>\n",
       "      <td>30.0</td>\n",
       "      <td>NaN</td>\n",
       "      <td>NaN</td>\n",
       "      <td>NaN</td>\n",
       "      <td>NaN</td>\n",
       "      <td>42.0</td>\n",
       "    </tr>\n",
       "    <tr>\n",
       "      <th>4</th>\n",
       "      <td>329</td>\n",
       "      <td>4.0</td>\n",
       "      <td>3.0</td>\n",
       "      <td>4.0</td>\n",
       "      <td>3.0</td>\n",
       "      <td>2.0</td>\n",
       "      <td>NaN</td>\n",
       "      <td>3.0</td>\n",
       "      <td>4.0</td>\n",
       "      <td>2.0</td>\n",
       "      <td>2.0</td>\n",
       "      <td>3.0</td>\n",
       "      <td>30.0</td>\n",
       "      <td>NaN</td>\n",
       "      <td>NaN</td>\n",
       "      <td>NaN</td>\n",
       "      <td>NaN</td>\n",
       "      <td>72.0</td>\n",
       "    </tr>\n",
       "  </tbody>\n",
       "</table>\n",
       "</div>"
      ],
      "text/plain": [
       "   subject_id  Q1_Speech  Q2_Salivation  Q3_Swallowing  Q4_Handwriting  \\\n",
       "0         329        4.0            3.0            4.0             3.0   \n",
       "1         329        4.0            3.0            4.0             3.0   \n",
       "2         329        4.0            3.0            4.0             3.0   \n",
       "3         329        4.0            3.0            4.0             3.0   \n",
       "4         329        4.0            3.0            4.0             3.0   \n",
       "\n",
       "   Q5a_Cutting_without_Gastrostomy  Q5b_Cutting_with_Gastrostomy  \\\n",
       "0                              2.0                           NaN   \n",
       "1                              1.5                           NaN   \n",
       "2                              1.0                           NaN   \n",
       "3                              3.0                           NaN   \n",
       "4                              2.0                           NaN   \n",
       "\n",
       "   Q6_Dressing_and_Hygiene  Q7_Turning_in_Bed  Q8_Walking  Q9_Climbing_Stairs  \\\n",
       "0                      3.0                2.0         2.0                 1.0   \n",
       "1                      3.0                2.0         2.0                 1.0   \n",
       "2                      3.0                2.0         2.0                 1.0   \n",
       "3                      3.0                3.0         2.0                 1.0   \n",
       "4                      3.0                4.0         2.0                 2.0   \n",
       "\n",
       "   Q10_Respiratory  ALSFRS_Total  ALSFRS_R_Total  R_1_Dyspnea  R_2_Orthopnea  \\\n",
       "0              3.0          27.0             NaN          NaN            NaN   \n",
       "1              3.0          26.5             NaN          NaN            NaN   \n",
       "2              3.0          26.0             NaN          NaN            NaN   \n",
       "3              4.0          30.0             NaN          NaN            NaN   \n",
       "4              3.0          30.0             NaN          NaN            NaN   \n",
       "\n",
       "   R_3_Respiratory_Insufficiency  study_day  \n",
       "0                            NaN        0.0  \n",
       "1                            NaN        8.0  \n",
       "2                            NaN       16.0  \n",
       "3                            NaN       42.0  \n",
       "4                            NaN       72.0  "
      ]
     },
     "execution_count": 12,
     "metadata": {},
     "output_type": "execute_result"
    }
   ],
   "source": [
    "question.head()"
   ]
  },
  {
   "cell_type": "code",
   "execution_count": 13,
   "metadata": {},
   "outputs": [
    {
     "name": "stdout",
     "output_type": "stream",
     "text": [
      "subject_id\n",
      "329    12\n",
      "348    15\n",
      "533     6\n",
      "586     1\n",
      "649    12\n",
      "Name: subject_id, dtype: int64\n"
     ]
    }
   ],
   "source": [
    "# number questionaires per subject\n",
    "grp_sub_question = question.groupby('subject_id')\n",
    "n_qs = grp_sub_question['subject_id'].count()\n",
    "print(n_qs.head())"
   ]
  },
  {
   "cell_type": "code",
   "execution_count": 14,
   "metadata": {},
   "outputs": [],
   "source": [
    "# subjects with at least one questionaire\n",
    "p = placebo.drop('Treatment_Group_Delta', axis=1)\n",
    "p_qs = question.merge(p, how='inner', on='subject_id')"
   ]
  },
  {
   "cell_type": "code",
   "execution_count": 15,
   "metadata": {},
   "outputs": [
    {
     "data": {
      "text/html": [
       "<div>\n",
       "<style scoped>\n",
       "    .dataframe tbody tr th:only-of-type {\n",
       "        vertical-align: middle;\n",
       "    }\n",
       "\n",
       "    .dataframe tbody tr th {\n",
       "        vertical-align: top;\n",
       "    }\n",
       "\n",
       "    .dataframe thead th {\n",
       "        text-align: right;\n",
       "    }\n",
       "</style>\n",
       "<table border=\"1\" class=\"dataframe\">\n",
       "  <thead>\n",
       "    <tr style=\"text-align: right;\">\n",
       "      <th></th>\n",
       "      <th>subject_id</th>\n",
       "      <th>Q1_Speech</th>\n",
       "      <th>Q2_Salivation</th>\n",
       "      <th>Q3_Swallowing</th>\n",
       "      <th>Q4_Handwriting</th>\n",
       "      <th>Q5a_Cutting_without_Gastrostomy</th>\n",
       "      <th>Q5b_Cutting_with_Gastrostomy</th>\n",
       "      <th>Q6_Dressing_and_Hygiene</th>\n",
       "      <th>Q7_Turning_in_Bed</th>\n",
       "      <th>Q8_Walking</th>\n",
       "      <th>Q9_Climbing_Stairs</th>\n",
       "      <th>Q10_Respiratory</th>\n",
       "      <th>ALSFRS_Total</th>\n",
       "      <th>ALSFRS_R_Total</th>\n",
       "      <th>R_1_Dyspnea</th>\n",
       "      <th>R_2_Orthopnea</th>\n",
       "      <th>R_3_Respiratory_Insufficiency</th>\n",
       "      <th>study_day</th>\n",
       "      <th>Study_Arm</th>\n",
       "    </tr>\n",
       "  </thead>\n",
       "  <tbody>\n",
       "    <tr>\n",
       "      <th>0</th>\n",
       "      <td>348</td>\n",
       "      <td>4.0</td>\n",
       "      <td>4.0</td>\n",
       "      <td>4.0</td>\n",
       "      <td>3.0</td>\n",
       "      <td>2.0</td>\n",
       "      <td>NaN</td>\n",
       "      <td>3.0</td>\n",
       "      <td>4.0</td>\n",
       "      <td>2.0</td>\n",
       "      <td>1.0</td>\n",
       "      <td>NaN</td>\n",
       "      <td>NaN</td>\n",
       "      <td>39.0</td>\n",
       "      <td>4.0</td>\n",
       "      <td>4.0</td>\n",
       "      <td>4.0</td>\n",
       "      <td>0.0</td>\n",
       "      <td>Placebo</td>\n",
       "    </tr>\n",
       "    <tr>\n",
       "      <th>1</th>\n",
       "      <td>348</td>\n",
       "      <td>4.0</td>\n",
       "      <td>4.0</td>\n",
       "      <td>4.0</td>\n",
       "      <td>3.0</td>\n",
       "      <td>2.0</td>\n",
       "      <td>NaN</td>\n",
       "      <td>2.0</td>\n",
       "      <td>4.0</td>\n",
       "      <td>2.0</td>\n",
       "      <td>1.0</td>\n",
       "      <td>NaN</td>\n",
       "      <td>NaN</td>\n",
       "      <td>38.0</td>\n",
       "      <td>4.0</td>\n",
       "      <td>4.0</td>\n",
       "      <td>4.0</td>\n",
       "      <td>4.0</td>\n",
       "      <td>Placebo</td>\n",
       "    </tr>\n",
       "    <tr>\n",
       "      <th>2</th>\n",
       "      <td>348</td>\n",
       "      <td>4.0</td>\n",
       "      <td>4.0</td>\n",
       "      <td>4.0</td>\n",
       "      <td>4.0</td>\n",
       "      <td>2.0</td>\n",
       "      <td>NaN</td>\n",
       "      <td>2.0</td>\n",
       "      <td>3.0</td>\n",
       "      <td>2.0</td>\n",
       "      <td>1.0</td>\n",
       "      <td>NaN</td>\n",
       "      <td>NaN</td>\n",
       "      <td>38.0</td>\n",
       "      <td>4.0</td>\n",
       "      <td>4.0</td>\n",
       "      <td>4.0</td>\n",
       "      <td>52.0</td>\n",
       "      <td>Placebo</td>\n",
       "    </tr>\n",
       "    <tr>\n",
       "      <th>3</th>\n",
       "      <td>348</td>\n",
       "      <td>4.0</td>\n",
       "      <td>4.0</td>\n",
       "      <td>4.0</td>\n",
       "      <td>4.0</td>\n",
       "      <td>2.0</td>\n",
       "      <td>NaN</td>\n",
       "      <td>2.0</td>\n",
       "      <td>3.0</td>\n",
       "      <td>2.0</td>\n",
       "      <td>1.0</td>\n",
       "      <td>NaN</td>\n",
       "      <td>NaN</td>\n",
       "      <td>38.0</td>\n",
       "      <td>4.0</td>\n",
       "      <td>4.0</td>\n",
       "      <td>4.0</td>\n",
       "      <td>61.0</td>\n",
       "      <td>Placebo</td>\n",
       "    </tr>\n",
       "    <tr>\n",
       "      <th>4</th>\n",
       "      <td>348</td>\n",
       "      <td>4.0</td>\n",
       "      <td>4.0</td>\n",
       "      <td>4.0</td>\n",
       "      <td>4.0</td>\n",
       "      <td>2.0</td>\n",
       "      <td>NaN</td>\n",
       "      <td>2.0</td>\n",
       "      <td>3.0</td>\n",
       "      <td>2.0</td>\n",
       "      <td>1.0</td>\n",
       "      <td>NaN</td>\n",
       "      <td>NaN</td>\n",
       "      <td>38.0</td>\n",
       "      <td>4.0</td>\n",
       "      <td>4.0</td>\n",
       "      <td>4.0</td>\n",
       "      <td>99.0</td>\n",
       "      <td>Placebo</td>\n",
       "    </tr>\n",
       "  </tbody>\n",
       "</table>\n",
       "</div>"
      ],
      "text/plain": [
       "   subject_id  Q1_Speech  Q2_Salivation  Q3_Swallowing  Q4_Handwriting  \\\n",
       "0         348        4.0            4.0            4.0             3.0   \n",
       "1         348        4.0            4.0            4.0             3.0   \n",
       "2         348        4.0            4.0            4.0             4.0   \n",
       "3         348        4.0            4.0            4.0             4.0   \n",
       "4         348        4.0            4.0            4.0             4.0   \n",
       "\n",
       "   Q5a_Cutting_without_Gastrostomy  Q5b_Cutting_with_Gastrostomy  \\\n",
       "0                              2.0                           NaN   \n",
       "1                              2.0                           NaN   \n",
       "2                              2.0                           NaN   \n",
       "3                              2.0                           NaN   \n",
       "4                              2.0                           NaN   \n",
       "\n",
       "   Q6_Dressing_and_Hygiene  Q7_Turning_in_Bed  Q8_Walking  Q9_Climbing_Stairs  \\\n",
       "0                      3.0                4.0         2.0                 1.0   \n",
       "1                      2.0                4.0         2.0                 1.0   \n",
       "2                      2.0                3.0         2.0                 1.0   \n",
       "3                      2.0                3.0         2.0                 1.0   \n",
       "4                      2.0                3.0         2.0                 1.0   \n",
       "\n",
       "   Q10_Respiratory  ALSFRS_Total  ALSFRS_R_Total  R_1_Dyspnea  R_2_Orthopnea  \\\n",
       "0              NaN           NaN            39.0          4.0            4.0   \n",
       "1              NaN           NaN            38.0          4.0            4.0   \n",
       "2              NaN           NaN            38.0          4.0            4.0   \n",
       "3              NaN           NaN            38.0          4.0            4.0   \n",
       "4              NaN           NaN            38.0          4.0            4.0   \n",
       "\n",
       "   R_3_Respiratory_Insufficiency  study_day Study_Arm  \n",
       "0                            4.0        0.0   Placebo  \n",
       "1                            4.0        4.0   Placebo  \n",
       "2                            4.0       52.0   Placebo  \n",
       "3                            4.0       61.0   Placebo  \n",
       "4                            4.0       99.0   Placebo  "
      ]
     },
     "execution_count": 15,
     "metadata": {},
     "output_type": "execute_result"
    }
   ],
   "source": [
    "p_qs.head()"
   ]
  },
  {
   "cell_type": "code",
   "execution_count": 16,
   "metadata": {},
   "outputs": [
    {
     "name": "stdout",
     "output_type": "stream",
     "text": [
      "subject_id\n",
      "348     15\n",
      "902      7\n",
      "1064    16\n",
      "1312     1\n",
      "2540     4\n",
      "Name: subject_id, dtype: int64\n"
     ]
    }
   ],
   "source": [
    "# number questionaires per placebo subject\n",
    "grp_p_qs = p_qs.groupby('subject_id')\n",
    "n_p_qs = grp_p_qs['subject_id'].count()\n"
   ]
  },
  {
   "cell_type": "code",
   "execution_count": 21,
   "metadata": {},
   "outputs": [
    {
     "data": {
      "text/plain": [
       "subject_id\n",
       "348     15\n",
       "902      7\n",
       "1064    16\n",
       "1312     1\n",
       "2540     4\n",
       "Name: subject_id, dtype: int64"
      ]
     },
     "execution_count": 21,
     "metadata": {},
     "output_type": "execute_result"
    }
   ],
   "source": [
    "n_p_qs.head()"
   ]
  },
  {
   "cell_type": "code",
   "execution_count": 25,
   "metadata": {},
   "outputs": [
    {
     "data": {
      "image/png": "[encoded data removed]",
      "text/plain": [
       "<Figure size 432x288 with 1 Axes>"
      ]
     },
     "metadata": {
      "needs_background": "light"
     },
     "output_type": "display_data"
    }
   ],
   "source": [
    "# how many visits per subject?\n",
    "plt.hist(n_p_qs, rwidth=0.9, bins=30)\n",
    "plt.xlabel(\"number of questionaire responses\")\n",
    "plt.ylabel(\"number of subjects\")\n",
    "plt.show()"
   ]
  },
  {
   "cell_type": "code",
   "execution_count": null,
   "metadata": {},
   "outputs": [],
   "source": [
    "# temporally\n"
   ]
  }
 ],
 "metadata": {
  "kernelspec": {
   "display_name": "Python 3",
   "language": "python",
   "name": "python3"
  },
  "language_info": {
   "codemirror_mode": {
    "name": "ipython",
    "version": 3
   },
   "file_extension": ".py",
   "mimetype": "text/x-python",
   "name": "python",
   "nbconvert_exporter": "python",
   "pygments_lexer": "ipython3",
   "version": "3.6.8"
  }
 },
 "nbformat": 4,
 "nbformat_minor": 2
}
